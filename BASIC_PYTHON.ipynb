{
  "cells": [
    {
      "cell_type": "code",
      "execution_count": 1,
      "id": "2a6432cd",
      "metadata": {
        "execution": {
          "iopub.execute_input": "2022-06-06T19:02:49.516100Z",
          "iopub.status.busy": "2022-06-06T19:02:49.515589Z",
          "iopub.status.idle": "2022-06-06T19:02:49.526317Z",
          "shell.execute_reply": "2022-06-06T19:02:49.525578Z"
        },
        "papermill": {
          "duration": 0.022325,
          "end_time": "2022-06-06T19:02:49.528543",
          "exception": false,
          "start_time": "2022-06-06T19:02:49.506218",
          "status": "completed"
        },
        "tags": [],
        "colab": {
          "base_uri": "https://localhost:8080/"
        },
        "id": "2a6432cd",
        "outputId": "e2203d8a-98f5-4006-a442-ecc4b00b8531"
      },
      "outputs": [
        {
          "output_type": "stream",
          "name": "stdout",
          "text": [
            "Hello, world!\n"
          ]
        }
      ],
      "source": [
        "print(\"Hello, world!\")"
      ]
    },
    {
      "cell_type": "code",
      "execution_count": 2,
      "id": "2f580351",
      "metadata": {
        "execution": {
          "iopub.execute_input": "2022-06-06T19:02:49.561799Z",
          "iopub.status.busy": "2022-06-06T19:02:49.561253Z",
          "iopub.status.idle": "2022-06-06T19:02:49.565929Z",
          "shell.execute_reply": "2022-06-06T19:02:49.564823Z"
        },
        "papermill": {
          "duration": 0.015997,
          "end_time": "2022-06-06T19:02:49.567927",
          "exception": false,
          "start_time": "2022-06-06T19:02:49.551930",
          "status": "completed"
        },
        "tags": [],
        "colab": {
          "base_uri": "https://localhost:8080/"
        },
        "id": "2f580351",
        "outputId": "764b6f86-836f-419a-d430-042ac989d34e"
      },
      "outputs": [
        {
          "output_type": "stream",
          "name": "stdout",
          "text": [
            "3\n"
          ]
        }
      ],
      "source": [
        "print(1 + 2)"
      ]
    },
    {
      "cell_type": "code",
      "execution_count": 3,
      "id": "83f13eba",
      "metadata": {
        "execution": {
          "iopub.execute_input": "2022-06-06T19:02:49.602098Z",
          "iopub.status.busy": "2022-06-06T19:02:49.601576Z",
          "iopub.status.idle": "2022-06-06T19:02:49.605960Z",
          "shell.execute_reply": "2022-06-06T19:02:49.604835Z"
        },
        "papermill": {
          "duration": 0.01615,
          "end_time": "2022-06-06T19:02:49.608109",
          "exception": false,
          "start_time": "2022-06-06T19:02:49.591959",
          "status": "completed"
        },
        "tags": [],
        "colab": {
          "base_uri": "https://localhost:8080/"
        },
        "id": "83f13eba",
        "outputId": "a34a5557-2c7d-4614-a339-c9eda03b192f"
      },
      "outputs": [
        {
          "output_type": "stream",
          "name": "stdout",
          "text": [
            "4\n"
          ]
        }
      ],
      "source": [
        "print(9 - 5)"
      ]
    },
    {
      "cell_type": "markdown",
      "id": "0cd94c49",
      "metadata": {
        "papermill": {
          "duration": 0.008304,
          "end_time": "2022-06-06T19:02:49.624731",
          "exception": false,
          "start_time": "2022-06-06T19:02:49.616427",
          "status": "completed"
        },
        "tags": [],
        "id": "0cd94c49"
      },
      "source": [
        "You can actually do a lot of calculations with python!  See the table below for some examples.\n",
        "\n",
        "<table style=\"width: 100%;\">\n",
        "<tbody>\n",
        "<tr><th><b>Operation</b></th><th><b>Symbol</b></th><th><b>Example</b></th></tr>\n",
        "<tr>\n",
        "<td>Addition</td>\n",
        "<td>+</td>\n",
        "<td>1 + 2 = 3</td>\n",
        "</tr>\n",
        "<tr>\n",
        "<td>Subtraction</td>\n",
        "<td>-</td>\n",
        "<td>5 - 4 = 1</td>\n",
        "</tr>\n",
        "<tr>\n",
        "<td>Multiplication</td>\n",
        "<td>*</td>\n",
        "<td>2 * 4 = 8</td>\n",
        "</tr>\n",
        "<tr>\n",
        "<td>Division</td>\n",
        "<td>/</td>\n",
        "<td>6 / 3 = 2</td>\n",
        "</tr>\n",
        "<tr>\n",
        "<td>Exponent</td>\n",
        "<td>**</td>\n",
        "<td>3 ** 2 = 9</td>\n",
        "</tr>\n",
        "</tbody>\n",
        "</table>"
      ]
    },
    {
      "cell_type": "code",
      "execution_count": 4,
      "id": "11d97a29",
      "metadata": {
        "execution": {
          "iopub.execute_input": "2022-06-06T19:02:49.659462Z",
          "iopub.status.busy": "2022-06-06T19:02:49.659039Z",
          "iopub.status.idle": "2022-06-06T19:02:49.664325Z",
          "shell.execute_reply": "2022-06-06T19:02:49.663235Z"
        },
        "papermill": {
          "duration": 0.017542,
          "end_time": "2022-06-06T19:02:49.666714",
          "exception": false,
          "start_time": "2022-06-06T19:02:49.649172",
          "status": "completed"
        },
        "tags": [],
        "colab": {
          "base_uri": "https://localhost:8080/"
        },
        "id": "11d97a29",
        "outputId": "91d71693-c516-4511-dfd2-29cc8b815df4"
      },
      "outputs": [
        {
          "output_type": "stream",
          "name": "stdout",
          "text": [
            "196.0\n"
          ]
        }
      ],
      "source": [
        "print(((1 + 3) * (9 - 2) / 2) ** 2)"
      ]
    },
    {
      "cell_type": "code",
      "execution_count": 5,
      "id": "aebb1b06",
      "metadata": {
        "execution": {
          "iopub.execute_input": "2022-06-06T19:02:49.701956Z",
          "iopub.status.busy": "2022-06-06T19:02:49.701578Z",
          "iopub.status.idle": "2022-06-06T19:02:49.706362Z",
          "shell.execute_reply": "2022-06-06T19:02:49.705442Z"
        },
        "papermill": {
          "duration": 0.016798,
          "end_time": "2022-06-06T19:02:49.708611",
          "exception": false,
          "start_time": "2022-06-06T19:02:49.691813",
          "status": "completed"
        },
        "tags": [],
        "colab": {
          "base_uri": "https://localhost:8080/"
        },
        "id": "aebb1b06",
        "outputId": "4392133b-3111-47be-c131-247fce4b4012"
      },
      "outputs": [
        {
          "output_type": "stream",
          "name": "stdout",
          "text": [
            "6\n"
          ]
        }
      ],
      "source": [
        "# Multiply 3 by 2\n",
        "print(3 * 2)"
      ]
    },
    {
      "cell_type": "code",
      "execution_count": 6,
      "id": "2f4d7800",
      "metadata": {
        "execution": {
          "iopub.execute_input": "2022-06-06T19:02:49.786981Z",
          "iopub.status.busy": "2022-06-06T19:02:49.785992Z",
          "iopub.status.idle": "2022-06-06T19:02:49.792038Z",
          "shell.execute_reply": "2022-06-06T19:02:49.790992Z"
        },
        "papermill": {
          "duration": 0.01761,
          "end_time": "2022-06-06T19:02:49.794001",
          "exception": false,
          "start_time": "2022-06-06T19:02:49.776391",
          "status": "completed"
        },
        "tags": [],
        "colab": {
          "base_uri": "https://localhost:8080/"
        },
        "id": "2f4d7800",
        "outputId": "419b8048-05b8-4b46-8b62-dc6b5176d770"
      },
      "outputs": [
        {
          "output_type": "stream",
          "name": "stdout",
          "text": [
            "9\n"
          ]
        }
      ],
      "source": [
        "# Create a variable called test_var and give it a value of 4+5\n",
        "test_var = 4 + 5\n",
        "\n",
        "# Print the value of test_var\n",
        "print(test_var)"
      ]
    },
    {
      "cell_type": "code",
      "execution_count": 7,
      "id": "b170db3e",
      "metadata": {
        "execution": {
          "iopub.execute_input": "2022-06-06T19:02:49.846911Z",
          "iopub.status.busy": "2022-06-06T19:02:49.846531Z",
          "iopub.status.idle": "2022-06-06T19:02:49.851720Z",
          "shell.execute_reply": "2022-06-06T19:02:49.850723Z"
        },
        "papermill": {
          "duration": 0.017683,
          "end_time": "2022-06-06T19:02:49.854245",
          "exception": false,
          "start_time": "2022-06-06T19:02:49.836562",
          "status": "completed"
        },
        "tags": [],
        "colab": {
          "base_uri": "https://localhost:8080/"
        },
        "id": "b170db3e",
        "outputId": "78eac28d-3d85-4aa2-b5db-70048e5ece74"
      },
      "outputs": [
        {
          "output_type": "stream",
          "name": "stdout",
          "text": [
            "3\n",
            "100\n"
          ]
        }
      ],
      "source": [
        "# Set the value of a new variable to 3\n",
        "my_var = 3\n",
        "\n",
        "# Print the value assigned to my_var\n",
        "print(my_var)\n",
        "\n",
        "# Change the value of the variable to 100\n",
        "my_var = 100\n",
        "\n",
        "# Print the new value assigned to my_var\n",
        "print(my_var)"
      ]
    },
    {
      "cell_type": "code",
      "execution_count": 8,
      "id": "20031e89",
      "metadata": {
        "execution": {
          "iopub.execute_input": "2022-06-06T19:02:49.889506Z",
          "iopub.status.busy": "2022-06-06T19:02:49.888863Z",
          "iopub.status.idle": "2022-06-06T19:02:49.893644Z",
          "shell.execute_reply": "2022-06-06T19:02:49.892717Z"
        },
        "papermill": {
          "duration": 0.016048,
          "end_time": "2022-06-06T19:02:49.895527",
          "exception": false,
          "start_time": "2022-06-06T19:02:49.879479",
          "status": "completed"
        },
        "tags": [],
        "colab": {
          "base_uri": "https://localhost:8080/"
        },
        "id": "20031e89",
        "outputId": "adf27adf-79e4-42c2-8a13-f997b84e303f"
      },
      "outputs": [
        {
          "output_type": "stream",
          "name": "stdout",
          "text": [
            "100\n",
            "9\n"
          ]
        }
      ],
      "source": [
        "print(my_var)\n",
        "print(test_var)"
      ]
    },
    {
      "cell_type": "code",
      "execution_count": 9,
      "id": "8c4f2d59",
      "metadata": {
        "execution": {
          "iopub.execute_input": "2022-06-06T19:02:49.932018Z",
          "iopub.status.busy": "2022-06-06T19:02:49.931155Z",
          "iopub.status.idle": "2022-06-06T19:02:49.936761Z",
          "shell.execute_reply": "2022-06-06T19:02:49.935784Z"
        },
        "papermill": {
          "duration": 0.017809,
          "end_time": "2022-06-06T19:02:49.938881",
          "exception": false,
          "start_time": "2022-06-06T19:02:49.921072",
          "status": "completed"
        },
        "tags": [],
        "colab": {
          "base_uri": "https://localhost:8080/"
        },
        "id": "8c4f2d59",
        "outputId": "d9081f05-0cbd-480e-da29-f1bf3871ed03"
      },
      "outputs": [
        {
          "output_type": "stream",
          "name": "stdout",
          "text": [
            "103\n"
          ]
        }
      ],
      "source": [
        "# Increase the value by 3\n",
        "my_var = my_var + 3\n",
        "\n",
        "# Print the value assigned to my_var\n",
        "print(my_var)"
      ]
    },
    {
      "cell_type": "code",
      "execution_count": 10,
      "id": "9ba4ac9b",
      "metadata": {
        "execution": {
          "iopub.execute_input": "2022-06-06T19:02:49.975829Z",
          "iopub.status.busy": "2022-06-06T19:02:49.975254Z",
          "iopub.status.idle": "2022-06-06T19:02:49.980850Z",
          "shell.execute_reply": "2022-06-06T19:02:49.979812Z"
        },
        "papermill": {
          "duration": 0.01814,
          "end_time": "2022-06-06T19:02:49.982938",
          "exception": false,
          "start_time": "2022-06-06T19:02:49.964798",
          "status": "completed"
        },
        "tags": [],
        "colab": {
          "base_uri": "https://localhost:8080/"
        },
        "id": "9ba4ac9b",
        "outputId": "75c8ccd2-fa3d-424b-a3fe-b21d960eac9a"
      },
      "outputs": [
        {
          "output_type": "stream",
          "name": "stdout",
          "text": [
            "126144000\n"
          ]
        }
      ],
      "source": [
        "# Create variables\n",
        "num_years = 4\n",
        "days_per_year = 365 \n",
        "hours_per_day = 24\n",
        "mins_per_hour = 60\n",
        "secs_per_min = 60\n",
        "\n",
        "# Calculate number of seconds in four years\n",
        "total_secs = secs_per_min * mins_per_hour * hours_per_day * days_per_year * num_years\n",
        "print(total_secs)"
      ]
    },
    {
      "cell_type": "code",
      "execution_count": 11,
      "id": "4412b050",
      "metadata": {
        "execution": {
          "iopub.execute_input": "2022-06-06T19:02:50.020482Z",
          "iopub.status.busy": "2022-06-06T19:02:50.020029Z",
          "iopub.status.idle": "2022-06-06T19:02:50.025747Z",
          "shell.execute_reply": "2022-06-06T19:02:50.024479Z"
        },
        "papermill": {
          "duration": 0.017906,
          "end_time": "2022-06-06T19:02:50.027794",
          "exception": false,
          "start_time": "2022-06-06T19:02:50.009888",
          "status": "completed"
        },
        "tags": [],
        "colab": {
          "base_uri": "https://localhost:8080/"
        },
        "id": "4412b050",
        "outputId": "436682d1-1728-42fd-8a64-3f212272a523"
      },
      "outputs": [
        {
          "output_type": "stream",
          "name": "stdout",
          "text": [
            "126230400.0\n"
          ]
        }
      ],
      "source": [
        "# Update to include leap years\n",
        "days_per_year = 365.25\n",
        "\n",
        "# Calculate number of seconds in four years\n",
        "total_secs = secs_per_min * mins_per_hour * hours_per_day * days_per_year * num_years\n",
        "print(total_secs)"
      ]
    },
    {
      "cell_type": "code",
      "execution_count": 12,
      "id": "fdf7ee07",
      "metadata": {
        "execution": {
          "iopub.execute_input": "2022-06-06T19:02:50.193815Z",
          "iopub.status.busy": "2022-06-06T19:02:50.193414Z",
          "iopub.status.idle": "2022-06-06T19:02:50.198536Z",
          "shell.execute_reply": "2022-06-06T19:02:50.197247Z"
        },
        "papermill": {
          "duration": 0.017849,
          "end_time": "2022-06-06T19:02:50.200835",
          "exception": false,
          "start_time": "2022-06-06T19:02:50.182986",
          "status": "completed"
        },
        "tags": [],
        "colab": {
          "base_uri": "https://localhost:8080/"
        },
        "id": "fdf7ee07",
        "outputId": "da47e076-c049-423f-b1ae-44e54c40d1fc"
      },
      "outputs": [
        {
          "output_type": "stream",
          "name": "stdout",
          "text": [
            "24\n"
          ]
        }
      ],
      "source": [
        "print(hours_per_day)"
      ]
    },
    {
      "cell_type": "code",
      "source": [
        "# Define the function\n",
        "def add_three(input_var):\n",
        "    output_var = input_var + 3\n",
        "    return output_var"
      ],
      "metadata": {
        "id": "g6uQY1-ROQ8M"
      },
      "id": "g6uQY1-ROQ8M",
      "execution_count": 13,
      "outputs": []
    },
    {
      "cell_type": "code",
      "source": [
        "# Run the function with 10 as input\n",
        "new_number = add_three(10)\n",
        "\n",
        "# Check that the value is 13, as expected\n",
        "print(new_number)"
      ],
      "metadata": {
        "colab": {
          "base_uri": "https://localhost:8080/"
        },
        "id": "gFgcaLGlOQ3E",
        "outputId": "60af1dff-45af-497a-fe53-d21d1fe02f7c"
      },
      "id": "gFgcaLGlOQ3E",
      "execution_count": 14,
      "outputs": [
        {
          "output_type": "stream",
          "name": "stdout",
          "text": [
            "13\n"
          ]
        }
      ]
    },
    {
      "cell_type": "code",
      "source": [
        "def get_pay(num_hours):\n",
        "    # Pre-tax pay, based on receiving $15/hour\n",
        "    pay_pretax = num_hours * 15\n",
        "    # After-tax pay, based on being in 12% tax bracket\n",
        "    pay_aftertax = pay_pretax * (1 - .12)\n",
        "    return pay_aftertax"
      ],
      "metadata": {
        "id": "SkbpYp3AOQvX"
      },
      "id": "SkbpYp3AOQvX",
      "execution_count": 15,
      "outputs": []
    },
    {
      "cell_type": "code",
      "source": [
        "# Calculate pay based on working 40 hours\n",
        "pay_fulltime = get_pay(40)\n",
        "print(pay_fulltime)"
      ],
      "metadata": {
        "colab": {
          "base_uri": "https://localhost:8080/"
        },
        "id": "VBCO6eJeOPfh",
        "outputId": "fcb820ad-acdd-4d64-e72c-e03387615ac3"
      },
      "id": "VBCO6eJeOPfh",
      "execution_count": 16,
      "outputs": [
        {
          "output_type": "stream",
          "name": "stdout",
          "text": [
            "528.0\n"
          ]
        }
      ]
    },
    {
      "cell_type": "code",
      "source": [
        "pay_parttime = get_pay(32)\n",
        "print(pay_parttime)"
      ],
      "metadata": {
        "colab": {
          "base_uri": "https://localhost:8080/"
        },
        "id": "E1vW76ZzOPbg",
        "outputId": "338dfbc0-5d78-4e8a-aa9b-e00df91b8a1c"
      },
      "id": "E1vW76ZzOPbg",
      "execution_count": 17,
      "outputs": [
        {
          "output_type": "stream",
          "name": "stdout",
          "text": [
            "422.4\n"
          ]
        }
      ]
    },
    {
      "cell_type": "code",
      "source": [
        "def get_pay_with_more_inputs(num_hours, hourly_wage, tax_bracket):\n",
        "    # Pre-tax pay\n",
        "    pay_pretax = num_hours * hourly_wage\n",
        "    # After-tax pay\n",
        "    pay_aftertax = pay_pretax * (1 - tax_bracket)\n",
        "    return pay_aftertax"
      ],
      "metadata": {
        "id": "vO2u-pTpOPXG"
      },
      "id": "vO2u-pTpOPXG",
      "execution_count": 18,
      "outputs": []
    },
    {
      "cell_type": "code",
      "source": [
        "higher_pay_aftertax = get_pay_with_more_inputs(40, 24, .22)\n",
        "print(higher_pay_aftertax)"
      ],
      "metadata": {
        "colab": {
          "base_uri": "https://localhost:8080/"
        },
        "id": "AYsgFXCbOPUS",
        "outputId": "ee6097d6-08fe-41dc-8db3-8123a79879e2"
      },
      "id": "AYsgFXCbOPUS",
      "execution_count": 19,
      "outputs": [
        {
          "output_type": "stream",
          "name": "stdout",
          "text": [
            "748.8000000000001\n"
          ]
        }
      ]
    },
    {
      "cell_type": "code",
      "source": [
        "same_pay_fulltime = get_pay_with_more_inputs(40, 15, .12)\n",
        "print(same_pay_fulltime)"
      ],
      "metadata": {
        "colab": {
          "base_uri": "https://localhost:8080/"
        },
        "id": "UmB9GVzUOPRJ",
        "outputId": "0b7d7d89-7aba-41f0-ed18-177655395abf"
      },
      "id": "UmB9GVzUOPRJ",
      "execution_count": 20,
      "outputs": [
        {
          "output_type": "stream",
          "name": "stdout",
          "text": [
            "528.0\n"
          ]
        }
      ]
    },
    {
      "cell_type": "code",
      "source": [
        "# Define the function with no arguments and with no return\n",
        "def print_hello():\n",
        "    print(\"Hello, you!\")\n",
        "    print(\"Good morning!\")\n",
        "    \n",
        "# Call the function\n",
        "print_hello()"
      ],
      "metadata": {
        "colab": {
          "base_uri": "https://localhost:8080/"
        },
        "id": "sU5Yt0G0OsM3",
        "outputId": "2662db02-ab71-43bb-8aba-1a19bac74b58"
      },
      "id": "sU5Yt0G0OsM3",
      "execution_count": 21,
      "outputs": [
        {
          "output_type": "stream",
          "name": "stdout",
          "text": [
            "Hello, you!\n",
            "Good morning!\n"
          ]
        }
      ]
    },
    {
      "cell_type": "code",
      "source": [
        "x = 14\n",
        "print(x)\n",
        "print(type(x))"
      ],
      "metadata": {
        "colab": {
          "base_uri": "https://localhost:8080/"
        },
        "id": "W1oeI6zFPWwd",
        "outputId": "08af2c17-41e9-4c2d-caa8-d5dc3a01f870"
      },
      "id": "W1oeI6zFPWwd",
      "execution_count": 22,
      "outputs": [
        {
          "output_type": "stream",
          "name": "stdout",
          "text": [
            "14\n",
            "<class 'int'>\n"
          ]
        }
      ]
    },
    {
      "cell_type": "code",
      "source": [
        "nearly_pi = 3.141592653589793238462643383279502884197169399375105820974944\n",
        "print(nearly_pi)\n",
        "print(type(nearly_pi))"
      ],
      "metadata": {
        "colab": {
          "base_uri": "https://localhost:8080/"
        },
        "id": "sYNGZQX7PWKJ",
        "outputId": "b71ecb10-bf12-4c9e-9fd2-754d81a50fe2"
      },
      "id": "sYNGZQX7PWKJ",
      "execution_count": 23,
      "outputs": [
        {
          "output_type": "stream",
          "name": "stdout",
          "text": [
            "3.141592653589793\n",
            "<class 'float'>\n"
          ]
        }
      ]
    },
    {
      "cell_type": "code",
      "source": [
        "almost_pi = 22/7\n",
        "print(almost_pi)\n",
        "print(type(almost_pi))"
      ],
      "metadata": {
        "colab": {
          "base_uri": "https://localhost:8080/"
        },
        "id": "decw6iHuPS_f",
        "outputId": "da99ef15-b261-404b-97bc-b8d4fa8ddcae"
      },
      "id": "decw6iHuPS_f",
      "execution_count": 24,
      "outputs": [
        {
          "output_type": "stream",
          "name": "stdout",
          "text": [
            "3.142857142857143\n",
            "<class 'float'>\n"
          ]
        }
      ]
    },
    {
      "cell_type": "code",
      "source": [
        "# Round to 5 decimal places\n",
        "rounded_pi = round(almost_pi, 5)\n",
        "print(rounded_pi)\n",
        "print(type(rounded_pi))"
      ],
      "metadata": {
        "colab": {
          "base_uri": "https://localhost:8080/"
        },
        "id": "PfBZsXS3PhFt",
        "outputId": "bb53cfba-9d87-45e2-b2e5-aea370094ae3"
      },
      "id": "PfBZsXS3PhFt",
      "execution_count": 25,
      "outputs": [
        {
          "output_type": "stream",
          "name": "stdout",
          "text": [
            "3.14286\n",
            "<class 'float'>\n"
          ]
        }
      ]
    },
    {
      "cell_type": "code",
      "source": [
        "y_float = 1.\n",
        "print(y_float)\n",
        "print(type(y_float))"
      ],
      "metadata": {
        "colab": {
          "base_uri": "https://localhost:8080/"
        },
        "id": "ZbdsKbQFPhB_",
        "outputId": "4df019d3-2b39-441a-f255-77f243c2bb56"
      },
      "id": "ZbdsKbQFPhB_",
      "execution_count": 26,
      "outputs": [
        {
          "output_type": "stream",
          "name": "stdout",
          "text": [
            "1.0\n",
            "<class 'float'>\n"
          ]
        }
      ]
    },
    {
      "cell_type": "code",
      "source": [
        "z_one = True\n",
        "print(z_one)\n",
        "print(type(z_one))"
      ],
      "metadata": {
        "colab": {
          "base_uri": "https://localhost:8080/"
        },
        "id": "80tgUZ4vPg-6",
        "outputId": "31e3559e-26c3-489e-c9f7-fa18748cf2e8"
      },
      "id": "80tgUZ4vPg-6",
      "execution_count": 27,
      "outputs": [
        {
          "output_type": "stream",
          "name": "stdout",
          "text": [
            "True\n",
            "<class 'bool'>\n"
          ]
        }
      ]
    },
    {
      "cell_type": "code",
      "source": [
        "z_two = False\n",
        "print(z_two)\n",
        "print(type(z_two))"
      ],
      "metadata": {
        "colab": {
          "base_uri": "https://localhost:8080/"
        },
        "id": "UBnIWKVcPSxW",
        "outputId": "1ef49892-9a4d-44b5-ab8c-63aaf762e4b4"
      },
      "id": "UBnIWKVcPSxW",
      "execution_count": 28,
      "outputs": [
        {
          "output_type": "stream",
          "name": "stdout",
          "text": [
            "False\n",
            "<class 'bool'>\n"
          ]
        }
      ]
    },
    {
      "cell_type": "code",
      "source": [
        "z_three = (1 < 2)\n",
        "print(z_three)\n",
        "print(type(z_three))"
      ],
      "metadata": {
        "colab": {
          "base_uri": "https://localhost:8080/"
        },
        "id": "bnFmHUlkPSjc",
        "outputId": "93f7a9e4-14e0-4fcc-d028-fcbfc2ef6116"
      },
      "id": "bnFmHUlkPSjc",
      "execution_count": 29,
      "outputs": [
        {
          "output_type": "stream",
          "name": "stdout",
          "text": [
            "True\n",
            "<class 'bool'>\n"
          ]
        }
      ]
    },
    {
      "cell_type": "code",
      "source": [
        "z_four = (5 < 3)\n",
        "print(z_four)\n",
        "print(type(z_four))"
      ],
      "metadata": {
        "colab": {
          "base_uri": "https://localhost:8080/"
        },
        "id": "Vde0IIOpPRuz",
        "outputId": "563d1b5a-dd5d-4c97-aafe-6944d71efd03"
      },
      "id": "Vde0IIOpPRuz",
      "execution_count": 30,
      "outputs": [
        {
          "output_type": "stream",
          "name": "stdout",
          "text": [
            "False\n",
            "<class 'bool'>\n"
          ]
        }
      ]
    },
    {
      "cell_type": "code",
      "source": [
        "z_five = not z_four\n",
        "print(z_five)\n",
        "print(type(z_five))"
      ],
      "metadata": {
        "colab": {
          "base_uri": "https://localhost:8080/"
        },
        "id": "wZcoJHLqPwiU",
        "outputId": "1a9a3f5e-d18f-424a-ccb1-1f358cccb76b"
      },
      "id": "wZcoJHLqPwiU",
      "execution_count": 31,
      "outputs": [
        {
          "output_type": "stream",
          "name": "stdout",
          "text": [
            "True\n",
            "<class 'bool'>\n"
          ]
        }
      ]
    },
    {
      "cell_type": "code",
      "source": [
        "w = \"Hello, Python!\"\n",
        "print(w)\n",
        "print(type(w))"
      ],
      "metadata": {
        "colab": {
          "base_uri": "https://localhost:8080/"
        },
        "id": "GSy__jtIPzDZ",
        "outputId": "bdb80e74-759f-4401-9b23-6c758aad2bd7"
      },
      "id": "GSy__jtIPzDZ",
      "execution_count": 32,
      "outputs": [
        {
          "output_type": "stream",
          "name": "stdout",
          "text": [
            "Hello, Python!\n",
            "<class 'str'>\n"
          ]
        }
      ]
    },
    {
      "cell_type": "code",
      "source": [
        "print(len(w))"
      ],
      "metadata": {
        "colab": {
          "base_uri": "https://localhost:8080/"
        },
        "id": "vjZvg_VtP1uB",
        "outputId": "46058802-01f7-4e5a-a808-74900221e0eb"
      },
      "id": "vjZvg_VtP1uB",
      "execution_count": 33,
      "outputs": [
        {
          "output_type": "stream",
          "name": "stdout",
          "text": [
            "14\n"
          ]
        }
      ]
    },
    {
      "cell_type": "code",
      "source": [
        "shortest_string = \"\"\n",
        "print(type(shortest_string))\n",
        "print(len(shortest_string))"
      ],
      "metadata": {
        "colab": {
          "base_uri": "https://localhost:8080/"
        },
        "id": "UM_CftPsP6eq",
        "outputId": "b93e7fd5-14a2-4bae-d563-e92ab5bb880b"
      },
      "id": "UM_CftPsP6eq",
      "execution_count": 34,
      "outputs": [
        {
          "output_type": "stream",
          "name": "stdout",
          "text": [
            "<class 'str'>\n",
            "0\n"
          ]
        }
      ]
    },
    {
      "cell_type": "code",
      "source": [
        "my_number = \"1.12321\"\n",
        "print(my_number)\n",
        "print(type(my_number))"
      ],
      "metadata": {
        "colab": {
          "base_uri": "https://localhost:8080/"
        },
        "id": "iLKj_w-6P6bE",
        "outputId": "515b2076-9f21-435d-aff9-acc146ce4606"
      },
      "id": "iLKj_w-6P6bE",
      "execution_count": 35,
      "outputs": [
        {
          "output_type": "stream",
          "name": "stdout",
          "text": [
            "1.12321\n",
            "<class 'str'>\n"
          ]
        }
      ]
    },
    {
      "cell_type": "code",
      "source": [
        "also_my_number = float(my_number)\n",
        "print(also_my_number)\n",
        "print(type(also_my_number))"
      ],
      "metadata": {
        "colab": {
          "base_uri": "https://localhost:8080/"
        },
        "id": "aQ5suT4-P6WA",
        "outputId": "4246a21e-2a43-40a0-a32a-f5db30b3869f"
      },
      "id": "aQ5suT4-P6WA",
      "execution_count": 36,
      "outputs": [
        {
          "output_type": "stream",
          "name": "stdout",
          "text": [
            "1.12321\n",
            "<class 'float'>\n"
          ]
        }
      ]
    },
    {
      "cell_type": "code",
      "source": [
        "new_string = \"abc\" + \"def\"\n",
        "print(new_string)\n",
        "print(type(new_string))"
      ],
      "metadata": {
        "colab": {
          "base_uri": "https://localhost:8080/"
        },
        "id": "oJu8WUXuP6R6",
        "outputId": "0da1dcb1-fdd2-4223-c74e-88524808fac3"
      },
      "id": "oJu8WUXuP6R6",
      "execution_count": 37,
      "outputs": [
        {
          "output_type": "stream",
          "name": "stdout",
          "text": [
            "abcdef\n",
            "<class 'str'>\n"
          ]
        }
      ]
    },
    {
      "cell_type": "code",
      "source": [
        "newest_string = \"abc\" * 3\n",
        "print(newest_string)\n",
        "print(type(newest_string))"
      ],
      "metadata": {
        "colab": {
          "base_uri": "https://localhost:8080/"
        },
        "id": "fjiWCby1P4BJ",
        "outputId": "cec1f95c-1bd9-4b5f-e4b7-a26ea0965964"
      },
      "id": "fjiWCby1P4BJ",
      "execution_count": 38,
      "outputs": [
        {
          "output_type": "stream",
          "name": "stdout",
          "text": [
            "abcabcabc\n",
            "<class 'str'>\n"
          ]
        }
      ]
    },
    {
      "cell_type": "code",
      "source": [
        "# Define a float\n",
        "y = 1.\n",
        "print(y)\n",
        "print(type(y))\n",
        "\n",
        "# Convert float to integer with the int function\n",
        "z = int(y)\n",
        "print(z)\n",
        "print(type(z))"
      ],
      "metadata": {
        "colab": {
          "base_uri": "https://localhost:8080/"
        },
        "id": "aSiXMj8zQdTW",
        "outputId": "ee7e01f5-b218-4390-c41c-6705ff47077b"
      },
      "id": "aSiXMj8zQdTW",
      "execution_count": 39,
      "outputs": [
        {
          "output_type": "stream",
          "name": "stdout",
          "text": [
            "1.0\n",
            "<class 'float'>\n",
            "1\n",
            "<class 'int'>\n"
          ]
        }
      ]
    },
    {
      "cell_type": "code",
      "source": [
        "#Uncomment and run this code to get started!\n",
        "print(int(1.2321))\n",
        "print(int(1.747))\n",
        "print(int(-3.94535))\n",
        "print(int(-2.19774))"
      ],
      "metadata": {
        "colab": {
          "base_uri": "https://localhost:8080/"
        },
        "id": "ue4T5aAVQnoK",
        "outputId": "94d68d78-74cc-4e80-ebd5-663b922a8ee2"
      },
      "id": "ue4T5aAVQnoK",
      "execution_count": 40,
      "outputs": [
        {
          "output_type": "stream",
          "name": "stdout",
          "text": [
            "1\n",
            "1\n",
            "-3\n",
            "-2\n"
          ]
        }
      ]
    },
    {
      "cell_type": "code",
      "source": [
        "# Uncomment and run this code to get started!\n",
        "print(3 * True)\n",
        "print(-3.1 * True)\n",
        "print(type(\"abc\" * False))\n",
        "print(len(\"abc\" * False))"
      ],
      "metadata": {
        "colab": {
          "base_uri": "https://localhost:8080/"
        },
        "id": "VlIxny_SQtWS",
        "outputId": "9f0ef8a4-fbeb-49b5-c62b-892abd0b100b"
      },
      "id": "VlIxny_SQtWS",
      "execution_count": 41,
      "outputs": [
        {
          "output_type": "stream",
          "name": "stdout",
          "text": [
            "3\n",
            "-3.1\n",
            "<class 'str'>\n",
            "0\n"
          ]
        }
      ]
    },
    {
      "cell_type": "code",
      "source": [
        "print(False + False)\n",
        "print(True + False)\n",
        "print(False + True)\n",
        "print(True + True)\n",
        "print(False + True + True + True)"
      ],
      "metadata": {
        "colab": {
          "base_uri": "https://localhost:8080/"
        },
        "id": "F5csnu9xQxVd",
        "outputId": "3fb466d3-9eda-496d-fc90-06a2ff998d2e"
      },
      "id": "F5csnu9xQxVd",
      "execution_count": 42,
      "outputs": [
        {
          "output_type": "stream",
          "name": "stdout",
          "text": [
            "0\n",
            "1\n",
            "1\n",
            "2\n",
            "3\n"
          ]
        }
      ]
    },
    {
      "cell_type": "code",
      "source": [
        "print(2 > 3)"
      ],
      "metadata": {
        "colab": {
          "base_uri": "https://localhost:8080/"
        },
        "id": "y3R7XSkqQ1qZ",
        "outputId": "05923467-68af-4c13-afa3-3f837672c9d8"
      },
      "id": "y3R7XSkqQ1qZ",
      "execution_count": 43,
      "outputs": [
        {
          "output_type": "stream",
          "name": "stdout",
          "text": [
            "False\n"
          ]
        }
      ]
    },
    {
      "cell_type": "code",
      "source": [
        "var_one = 1\n",
        "var_two = 2\n",
        "\n",
        "print(var_one < 1)\n",
        "print(var_two >= var_one)"
      ],
      "metadata": {
        "colab": {
          "base_uri": "https://localhost:8080/"
        },
        "id": "wHBnwIsSRkAr",
        "outputId": "2d5a0c4f-5b6e-4b1b-dce5-26ff99ba4f9c"
      },
      "id": "wHBnwIsSRkAr",
      "execution_count": 44,
      "outputs": [
        {
          "output_type": "stream",
          "name": "stdout",
          "text": [
            "False\n",
            "True\n"
          ]
        }
      ]
    },
    {
      "cell_type": "code",
      "source": [
        "def evaluate_temp(temp):\n",
        "    # Set an initial message\n",
        "    message = \"Normal temperature.\"\n",
        "    # Update value of message only if temperature greater than 38\n",
        "    if temp > 38:\n",
        "        message = \"Fever!\"\n",
        "    return message"
      ],
      "metadata": {
        "id": "9fynqC39RmX6"
      },
      "id": "9fynqC39RmX6",
      "execution_count": 45,
      "outputs": []
    },
    {
      "cell_type": "code",
      "source": [
        "print(evaluate_temp(37))"
      ],
      "metadata": {
        "colab": {
          "base_uri": "https://localhost:8080/"
        },
        "id": "SKdNo3uZRplW",
        "outputId": "9131881a-50b0-4eac-a4c2-9b7e9eb801a7"
      },
      "id": "SKdNo3uZRplW",
      "execution_count": 46,
      "outputs": [
        {
          "output_type": "stream",
          "name": "stdout",
          "text": [
            "Normal temperature.\n"
          ]
        }
      ]
    },
    {
      "cell_type": "code",
      "source": [
        "print(evaluate_temp(39))"
      ],
      "metadata": {
        "colab": {
          "base_uri": "https://localhost:8080/"
        },
        "id": "i-KQeJS8Rr-M",
        "outputId": "bca5894d-71b7-4d60-875a-ddba9a2b4d9c"
      },
      "id": "i-KQeJS8Rr-M",
      "execution_count": 47,
      "outputs": [
        {
          "output_type": "stream",
          "name": "stdout",
          "text": [
            "Fever!\n"
          ]
        }
      ]
    },
    {
      "cell_type": "code",
      "source": [
        "def evaluate_temp_with_else(temp):\n",
        "    if temp > 38:\n",
        "        message = \"Fever!\"\n",
        "    else:\n",
        "        message = \"Normal temperature.\"\n",
        "    return message"
      ],
      "metadata": {
        "id": "EByO20hMRusd"
      },
      "id": "EByO20hMRusd",
      "execution_count": 48,
      "outputs": []
    },
    {
      "cell_type": "code",
      "source": [
        "print(evaluate_temp_with_else(37))"
      ],
      "metadata": {
        "colab": {
          "base_uri": "https://localhost:8080/"
        },
        "id": "4Av5TLK9RztZ",
        "outputId": "4147e0cf-ec85-43ea-b71e-94e1a8c1a598"
      },
      "id": "4Av5TLK9RztZ",
      "execution_count": 49,
      "outputs": [
        {
          "output_type": "stream",
          "name": "stdout",
          "text": [
            "Normal temperature.\n"
          ]
        }
      ]
    },
    {
      "cell_type": "code",
      "source": [
        "def evaluate_temp_with_elif(temp):\n",
        "    if temp > 38:\n",
        "        message = \"Fever!\"\n",
        "    elif temp > 35:\n",
        "        message = \"Normal temperature.\"\n",
        "    else:\n",
        "        message = \"Low temperature.\"\n",
        "    return message"
      ],
      "metadata": {
        "id": "KmxQCiq-R1sx"
      },
      "id": "KmxQCiq-R1sx",
      "execution_count": 50,
      "outputs": []
    },
    {
      "cell_type": "code",
      "source": [
        "evaluate_temp_with_elif(36)"
      ],
      "metadata": {
        "colab": {
          "base_uri": "https://localhost:8080/",
          "height": 36
        },
        "id": "x_B7wOd3R4d7",
        "outputId": "2d814d17-0191-45e8-c2e7-6163d320d3c5"
      },
      "id": "x_B7wOd3R4d7",
      "execution_count": 51,
      "outputs": [
        {
          "output_type": "execute_result",
          "data": {
            "text/plain": [
              "'Normal temperature.'"
            ],
            "application/vnd.google.colaboratory.intrinsic+json": {
              "type": "string"
            }
          },
          "metadata": {},
          "execution_count": 51
        }
      ]
    },
    {
      "cell_type": "code",
      "source": [
        "evaluate_temp_with_elif(34)"
      ],
      "metadata": {
        "colab": {
          "base_uri": "https://localhost:8080/",
          "height": 36
        },
        "id": "1LY-xa2VR7pJ",
        "outputId": "9add1da1-f005-46a3-b598-f3ad5553bb84"
      },
      "id": "1LY-xa2VR7pJ",
      "execution_count": 52,
      "outputs": [
        {
          "output_type": "execute_result",
          "data": {
            "text/plain": [
              "'Low temperature.'"
            ],
            "application/vnd.google.colaboratory.intrinsic+json": {
              "type": "string"
            }
          },
          "metadata": {},
          "execution_count": 52
        }
      ]
    },
    {
      "cell_type": "code",
      "source": [
        "def get_taxes(earnings):\n",
        "    if earnings < 12000:\n",
        "        tax_owed = .25 * earnings\n",
        "    else:\n",
        "        tax_owed = .30 * earnings\n",
        "    return tax_owed"
      ],
      "metadata": {
        "id": "JFLBDUiiR94K"
      },
      "id": "JFLBDUiiR94K",
      "execution_count": 53,
      "outputs": []
    },
    {
      "cell_type": "code",
      "source": [
        "ana_taxes = get_taxes(9000)\n",
        "bob_taxes = get_taxes(15000)\n",
        "\n",
        "print(ana_taxes)\n",
        "print(bob_taxes)"
      ],
      "metadata": {
        "colab": {
          "base_uri": "https://localhost:8080/"
        },
        "id": "vD2x9aaZSAL6",
        "outputId": "31106015-5499-4d49-bc3c-f2e6bf0e4a47"
      },
      "id": "vD2x9aaZSAL6",
      "execution_count": 54,
      "outputs": [
        {
          "output_type": "stream",
          "name": "stdout",
          "text": [
            "2250.0\n",
            "4500.0\n"
          ]
        }
      ]
    },
    {
      "cell_type": "code",
      "source": [
        "def add_three_or_eight(number):\n",
        "    if number < 10:\n",
        "        result = number + 3\n",
        "    else:\n",
        "        result = number + 8\n",
        "    return result"
      ],
      "metadata": {
        "id": "xJFcvzRXSCYx"
      },
      "id": "xJFcvzRXSCYx",
      "execution_count": 55,
      "outputs": []
    },
    {
      "cell_type": "code",
      "source": [
        "def get_dose(weight):\n",
        "    # Dosage is 1.25 ml for anyone under 5.2 kg\n",
        "    if weight < 5.2:\n",
        "        dose = 1.25\n",
        "    elif weight < 7.9:\n",
        "        dose = 2.5\n",
        "    elif weight < 10.4:\n",
        "        dose = 3.75\n",
        "    elif weight < 15.9:\n",
        "        dose = 5\n",
        "    elif weight < 21.2:\n",
        "        dose = 7.5\n",
        "    # Dosage is 10 ml for anyone 21.2 kg or over\n",
        "    else:\n",
        "        dose = 10\n",
        "    return dose"
      ],
      "metadata": {
        "id": "lHTfIJ75SGb5"
      },
      "id": "lHTfIJ75SGb5",
      "execution_count": 56,
      "outputs": []
    },
    {
      "cell_type": "code",
      "source": [
        "print(get_dose(12))"
      ],
      "metadata": {
        "colab": {
          "base_uri": "https://localhost:8080/"
        },
        "id": "JBiviMTySLuC",
        "outputId": "4c6d6128-7624-4821-ad44-9e9f22261180"
      },
      "id": "JBiviMTySLuC",
      "execution_count": 57,
      "outputs": [
        {
          "output_type": "stream",
          "name": "stdout",
          "text": [
            "5\n"
          ]
        }
      ]
    },
    {
      "cell_type": "code",
      "source": [
        "flowers = \"pink primrose,hard-leaved pocket orchid,canterbury bells,sweet pea,english marigold,tiger lily,moon orchid,bird of paradise,monkshood,globe thistle\"\n",
        "\n",
        "print(type(flowers))\n",
        "print(flowers)"
      ],
      "metadata": {
        "colab": {
          "base_uri": "https://localhost:8080/"
        },
        "id": "QshSWA-BSf2t",
        "outputId": "de01e450-932b-437a-c48b-5c9901cf5645"
      },
      "id": "QshSWA-BSf2t",
      "execution_count": 58,
      "outputs": [
        {
          "output_type": "stream",
          "name": "stdout",
          "text": [
            "<class 'str'>\n",
            "pink primrose,hard-leaved pocket orchid,canterbury bells,sweet pea,english marigold,tiger lily,moon orchid,bird of paradise,monkshood,globe thistle\n"
          ]
        }
      ]
    },
    {
      "cell_type": "code",
      "source": [
        "flowers_list = [\"pink primrose\", \"hard-leaved pocket orchid\", \"canterbury bells\", \"sweet pea\", \"english marigold\", \"tiger lily\", \"moon orchid\", \"bird of paradise\", \"monkshood\", \"globe thistle\"]\n",
        "\n",
        "print(type(flowers_list))\n",
        "print(flowers_list)"
      ],
      "metadata": {
        "colab": {
          "base_uri": "https://localhost:8080/"
        },
        "id": "yiyM7QqMSfg9",
        "outputId": "ad9c384f-a9c9-4e7d-831b-0bb99b5547eb"
      },
      "id": "yiyM7QqMSfg9",
      "execution_count": 59,
      "outputs": [
        {
          "output_type": "stream",
          "name": "stdout",
          "text": [
            "<class 'list'>\n",
            "['pink primrose', 'hard-leaved pocket orchid', 'canterbury bells', 'sweet pea', 'english marigold', 'tiger lily', 'moon orchid', 'bird of paradise', 'monkshood', 'globe thistle']\n"
          ]
        }
      ]
    },
    {
      "cell_type": "code",
      "source": [
        "print(len(flowers_list))"
      ],
      "metadata": {
        "colab": {
          "base_uri": "https://localhost:8080/"
        },
        "id": "vbJ6fnvQSfbs",
        "outputId": "73d63a48-7f01-47a5-93b8-b4a4c83bc46f"
      },
      "id": "vbJ6fnvQSfbs",
      "execution_count": 60,
      "outputs": [
        {
          "output_type": "stream",
          "name": "stdout",
          "text": [
            "10\n"
          ]
        }
      ]
    },
    {
      "cell_type": "code",
      "source": [
        "print(\"First entry:\", flowers_list[0])\n",
        "print(\"Second entry:\", flowers_list[1])\n",
        "\n",
        "# The list has length ten, so we refer to final entry with 9\n",
        "print(\"Last entry:\", flowers_list[9])"
      ],
      "metadata": {
        "colab": {
          "base_uri": "https://localhost:8080/"
        },
        "id": "2PANlRnLSfUN",
        "outputId": "3074765f-2d53-42fb-84c3-59156ee51801"
      },
      "id": "2PANlRnLSfUN",
      "execution_count": 61,
      "outputs": [
        {
          "output_type": "stream",
          "name": "stdout",
          "text": [
            "First entry: pink primrose\n",
            "Second entry: hard-leaved pocket orchid\n",
            "Last entry: globe thistle\n"
          ]
        }
      ]
    },
    {
      "cell_type": "code",
      "source": [
        "print(\"First three entries:\", flowers_list[:3])\n",
        "print(\"Final two entries:\", flowers_list[-2:])"
      ],
      "metadata": {
        "colab": {
          "base_uri": "https://localhost:8080/"
        },
        "id": "tFh8FyokSfOM",
        "outputId": "44be4e06-559c-48c3-dea2-044b5b00fc39"
      },
      "id": "tFh8FyokSfOM",
      "execution_count": 62,
      "outputs": [
        {
          "output_type": "stream",
          "name": "stdout",
          "text": [
            "First three entries: ['pink primrose', 'hard-leaved pocket orchid', 'canterbury bells']\n",
            "Final two entries: ['monkshood', 'globe thistle']\n"
          ]
        }
      ]
    },
    {
      "cell_type": "code",
      "source": [
        "flowers_list.remove(\"globe thistle\")\n",
        "print(flowers_list)"
      ],
      "metadata": {
        "colab": {
          "base_uri": "https://localhost:8080/"
        },
        "id": "DQYwSMjnSfKq",
        "outputId": "11483eaa-282e-4413-f131-d7f48fc67908"
      },
      "id": "DQYwSMjnSfKq",
      "execution_count": 63,
      "outputs": [
        {
          "output_type": "stream",
          "name": "stdout",
          "text": [
            "['pink primrose', 'hard-leaved pocket orchid', 'canterbury bells', 'sweet pea', 'english marigold', 'tiger lily', 'moon orchid', 'bird of paradise', 'monkshood']\n"
          ]
        }
      ]
    },
    {
      "cell_type": "code",
      "source": [
        "flowers_list.append(\"snapdragon\")\n",
        "print(flowers_list)"
      ],
      "metadata": {
        "colab": {
          "base_uri": "https://localhost:8080/"
        },
        "id": "OKH_d1dqSfFj",
        "outputId": "6cc69c99-2c85-4ed1-e6b7-10aa4884f0e5"
      },
      "id": "OKH_d1dqSfFj",
      "execution_count": 64,
      "outputs": [
        {
          "output_type": "stream",
          "name": "stdout",
          "text": [
            "['pink primrose', 'hard-leaved pocket orchid', 'canterbury bells', 'sweet pea', 'english marigold', 'tiger lily', 'moon orchid', 'bird of paradise', 'monkshood', 'snapdragon']\n"
          ]
        }
      ]
    },
    {
      "cell_type": "code",
      "source": [
        "hardcover_sales = [139, 128, 172, 139, 191, 168, 170]"
      ],
      "metadata": {
        "id": "rk2kf5Q7SfB1"
      },
      "id": "rk2kf5Q7SfB1",
      "execution_count": 65,
      "outputs": []
    },
    {
      "cell_type": "code",
      "source": [
        "print(\"Length of the list:\", len(hardcover_sales))\n",
        "print(\"Entry at index 2:\", hardcover_sales[2])"
      ],
      "metadata": {
        "colab": {
          "base_uri": "https://localhost:8080/"
        },
        "id": "UOi46Q7CSNrK",
        "outputId": "586f0cc9-9185-44b8-92cf-37700f04cfbb"
      },
      "id": "UOi46Q7CSNrK",
      "execution_count": 66,
      "outputs": [
        {
          "output_type": "stream",
          "name": "stdout",
          "text": [
            "Length of the list: 7\n",
            "Entry at index 2: 172\n"
          ]
        }
      ]
    },
    {
      "cell_type": "code",
      "source": [
        "print(\"Minimum:\", min(hardcover_sales))\n",
        "print(\"Maximum:\", max(hardcover_sales))"
      ],
      "metadata": {
        "colab": {
          "base_uri": "https://localhost:8080/"
        },
        "id": "Z8_wSg6ZS5vS",
        "outputId": "a4edb2ce-d203-4ed8-acbe-d16ca8536ef2"
      },
      "id": "Z8_wSg6ZS5vS",
      "execution_count": 67,
      "outputs": [
        {
          "output_type": "stream",
          "name": "stdout",
          "text": [
            "Minimum: 128\n",
            "Maximum: 191\n"
          ]
        }
      ]
    },
    {
      "cell_type": "code",
      "source": [
        "print(\"Total books sold in one week:\", sum(hardcover_sales))"
      ],
      "metadata": {
        "colab": {
          "base_uri": "https://localhost:8080/"
        },
        "id": "UImRpw0yS7xt",
        "outputId": "5744cb28-5acd-4ef5-a73a-c1faab50e83e"
      },
      "id": "UImRpw0yS7xt",
      "execution_count": 68,
      "outputs": [
        {
          "output_type": "stream",
          "name": "stdout",
          "text": [
            "Total books sold in one week: 1107\n"
          ]
        }
      ]
    },
    {
      "cell_type": "code",
      "source": [
        "print(\"Average books sold in first five days:\", sum(hardcover_sales[:5])/5)"
      ],
      "metadata": {
        "colab": {
          "base_uri": "https://localhost:8080/"
        },
        "id": "Djr15tPaTAwx",
        "outputId": "ae616ce6-cb37-4a73-b55d-14eac55a3d8b"
      },
      "id": "Djr15tPaTAwx",
      "execution_count": 69,
      "outputs": [
        {
          "output_type": "stream",
          "name": "stdout",
          "text": [
            "Average books sold in first five days: 153.8\n"
          ]
        }
      ]
    },
    {
      "cell_type": "code",
      "source": [
        "flowers = \"pink primrose,hard-leaved pocket orchid,canterbury bells,sweet pea,english marigold,tiger lily,moon orchid,bird of paradise,monkshood,globe thistle\""
      ],
      "metadata": {
        "id": "1dW24jZITDqr"
      },
      "id": "1dW24jZITDqr",
      "execution_count": 70,
      "outputs": []
    },
    {
      "cell_type": "code",
      "source": [
        "print(flowers.split(\",\"))"
      ],
      "metadata": {
        "colab": {
          "base_uri": "https://localhost:8080/"
        },
        "id": "-PsMADLuTY47",
        "outputId": "2ac94eeb-0b2d-407b-abdc-301f460d3df2"
      },
      "id": "-PsMADLuTY47",
      "execution_count": 71,
      "outputs": [
        {
          "output_type": "stream",
          "name": "stdout",
          "text": [
            "['pink primrose', 'hard-leaved pocket orchid', 'canterbury bells', 'sweet pea', 'english marigold', 'tiger lily', 'moon orchid', 'bird of paradise', 'monkshood', 'globe thistle']\n"
          ]
        }
      ]
    },
    {
      "cell_type": "code",
      "source": [
        "test_ratings = [1, 2, 3, 4, 5]\n",
        "test_liked = [i>=4 for i in test_ratings]\n",
        "print(test_liked)"
      ],
      "metadata": {
        "colab": {
          "base_uri": "https://localhost:8080/"
        },
        "id": "q8B375ppTcfX",
        "outputId": "c8325f35-a077-462d-e790-4f39f72c150a"
      },
      "id": "q8B375ppTcfX",
      "execution_count": 72,
      "outputs": [
        {
          "output_type": "stream",
          "name": "stdout",
          "text": [
            "[False, False, False, True, True]\n"
          ]
        }
      ]
    },
    {
      "cell_type": "code",
      "source": [
        "spam_amount = 0\n",
        "print(spam_amount)\n",
        "\n",
        "# Ordering Spam, egg, Spam, Spam, bacon and Spam (4 more servings of Spam)\n",
        "spam_amount = spam_amount + 4\n",
        "\n",
        "if spam_amount > 0:\n",
        "    print(\"But I don't want ANY spam!\")\n",
        "\n",
        "viking_song = \"Spam \" * spam_amount\n",
        "print(viking_song)"
      ],
      "metadata": {
        "colab": {
          "base_uri": "https://localhost:8080/"
        },
        "id": "1MQIM6LoTyxw",
        "outputId": "d3d3a6a0-ff45-4477-a222-cd6f36b06829"
      },
      "id": "1MQIM6LoTyxw",
      "execution_count": 73,
      "outputs": [
        {
          "output_type": "stream",
          "name": "stdout",
          "text": [
            "0\n",
            "But I don't want ANY spam!\n",
            "Spam Spam Spam Spam \n"
          ]
        }
      ]
    },
    {
      "cell_type": "code",
      "source": [
        "spam_amount = 0\n",
        "print(spam_amount)"
      ],
      "metadata": {
        "colab": {
          "base_uri": "https://localhost:8080/"
        },
        "id": "SLIyKsbuTytT",
        "outputId": "be14b2dc-889e-47dd-e6a7-87428b3967b9"
      },
      "id": "SLIyKsbuTytT",
      "execution_count": 74,
      "outputs": [
        {
          "output_type": "stream",
          "name": "stdout",
          "text": [
            "0\n"
          ]
        }
      ]
    },
    {
      "cell_type": "code",
      "source": [
        "# Ordering Spam, egg, Spam, Spam, bacon and Spam (4 more servings of Spam)\n",
        "spam_amount = spam_amount + 4"
      ],
      "metadata": {
        "id": "kgMGkTtGTyod"
      },
      "id": "kgMGkTtGTyod",
      "execution_count": 75,
      "outputs": []
    },
    {
      "cell_type": "code",
      "source": [
        "if spam_amount > 0:\n",
        "    print(\"But I don't want ANY spam!\")\n",
        "\n",
        "viking_song = \"Spam Spam Spam\"\n",
        "print(viking_song)"
      ],
      "metadata": {
        "colab": {
          "base_uri": "https://localhost:8080/"
        },
        "id": "CgR_glJxTyiN",
        "outputId": "39417cf9-6985-4f90-c23e-24a5dfbeef69"
      },
      "id": "CgR_glJxTyiN",
      "execution_count": 76,
      "outputs": [
        {
          "output_type": "stream",
          "name": "stdout",
          "text": [
            "But I don't want ANY spam!\n",
            "Spam Spam Spam\n"
          ]
        }
      ]
    },
    {
      "cell_type": "code",
      "source": [
        "viking_song = \"Spam \" * spam_amount\n",
        "print(viking_song)"
      ],
      "metadata": {
        "colab": {
          "base_uri": "https://localhost:8080/"
        },
        "id": "Mv2-SC1STyeM",
        "outputId": "96d80fc2-676c-4029-b8a5-c9b588c96604"
      },
      "id": "Mv2-SC1STyeM",
      "execution_count": 77,
      "outputs": [
        {
          "output_type": "stream",
          "name": "stdout",
          "text": [
            "Spam Spam Spam Spam \n"
          ]
        }
      ]
    },
    {
      "cell_type": "code",
      "source": [
        "spam_amount = 0\n",
        "type(spam_amount)"
      ],
      "metadata": {
        "colab": {
          "base_uri": "https://localhost:8080/"
        },
        "id": "6tHb1mLSTyZ7",
        "outputId": "1393abf3-6e1b-4b6e-fccb-ab4339181dea"
      },
      "id": "6tHb1mLSTyZ7",
      "execution_count": 78,
      "outputs": [
        {
          "output_type": "execute_result",
          "data": {
            "text/plain": [
              "int"
            ]
          },
          "metadata": {},
          "execution_count": 78
        }
      ]
    },
    {
      "cell_type": "code",
      "source": [
        "type(19.95)"
      ],
      "metadata": {
        "colab": {
          "base_uri": "https://localhost:8080/"
        },
        "id": "vk4SPLLTTyVG",
        "outputId": "eb6331cb-b14b-4aaf-8223-0fdf01ade4de"
      },
      "id": "vk4SPLLTTyVG",
      "execution_count": 79,
      "outputs": [
        {
          "output_type": "execute_result",
          "data": {
            "text/plain": [
              "float"
            ]
          },
          "metadata": {},
          "execution_count": 79
        }
      ]
    },
    {
      "cell_type": "code",
      "source": [
        "print(5 / 2)\n",
        "print(6 / 2)"
      ],
      "metadata": {
        "colab": {
          "base_uri": "https://localhost:8080/"
        },
        "id": "XjMQMrNSTyRa",
        "outputId": "d20bb5a0-244c-456c-8af1-5d0149788090"
      },
      "id": "XjMQMrNSTyRa",
      "execution_count": 80,
      "outputs": [
        {
          "output_type": "stream",
          "name": "stdout",
          "text": [
            "2.5\n",
            "3.0\n"
          ]
        }
      ]
    },
    {
      "cell_type": "code",
      "source": [
        "print(5 // 2)\n",
        "print(6 // 2)"
      ],
      "metadata": {
        "colab": {
          "base_uri": "https://localhost:8080/"
        },
        "id": "NOcGbsHNUsNa",
        "outputId": "7cd4f574-90f7-4479-951e-5e9c86612fc0"
      },
      "id": "NOcGbsHNUsNa",
      "execution_count": 81,
      "outputs": [
        {
          "output_type": "stream",
          "name": "stdout",
          "text": [
            "2\n",
            "3\n"
          ]
        }
      ]
    },
    {
      "cell_type": "code",
      "source": [
        "8 - 3 + 2"
      ],
      "metadata": {
        "colab": {
          "base_uri": "https://localhost:8080/"
        },
        "id": "_jLMqN_CUsIe",
        "outputId": "bdca59fc-a882-4ea1-9fc6-1fce14bfb2a7"
      },
      "id": "_jLMqN_CUsIe",
      "execution_count": 82,
      "outputs": [
        {
          "output_type": "execute_result",
          "data": {
            "text/plain": [
              "7"
            ]
          },
          "metadata": {},
          "execution_count": 82
        }
      ]
    },
    {
      "cell_type": "code",
      "source": [
        "-3 + 4 * 2"
      ],
      "metadata": {
        "colab": {
          "base_uri": "https://localhost:8080/"
        },
        "id": "WEsGa1LZUsDA",
        "outputId": "ba160c2c-8835-46fe-a39d-81afde497acf"
      },
      "id": "WEsGa1LZUsDA",
      "execution_count": 83,
      "outputs": [
        {
          "output_type": "execute_result",
          "data": {
            "text/plain": [
              "5"
            ]
          },
          "metadata": {},
          "execution_count": 83
        }
      ]
    },
    {
      "cell_type": "code",
      "source": [
        "print(min(1, 2, 3))\n",
        "print(max(1, 2, 3))"
      ],
      "metadata": {
        "colab": {
          "base_uri": "https://localhost:8080/"
        },
        "id": "NU3c-3c5Ur6L",
        "outputId": "e722cf6e-7619-4a20-8439-7f408ba9ad54"
      },
      "id": "NU3c-3c5Ur6L",
      "execution_count": 84,
      "outputs": [
        {
          "output_type": "stream",
          "name": "stdout",
          "text": [
            "1\n",
            "3\n"
          ]
        }
      ]
    },
    {
      "cell_type": "code",
      "source": [
        "# abs returns the absolute value of an argument:\n",
        "print(abs(32))\n",
        "print(abs(-32))"
      ],
      "metadata": {
        "colab": {
          "base_uri": "https://localhost:8080/"
        },
        "id": "9paZNzp3TjG1",
        "outputId": "4c5227a6-cddd-4f4a-f281-45c67d8b5ba5"
      },
      "id": "9paZNzp3TjG1",
      "execution_count": 85,
      "outputs": [
        {
          "output_type": "stream",
          "name": "stdout",
          "text": [
            "32\n",
            "32\n"
          ]
        }
      ]
    },
    {
      "cell_type": "code",
      "source": [
        "print(float(10))\n",
        "print(int(3.33))\n",
        "# They can even be called on strings!\n",
        "print(int('807') + 1)"
      ],
      "metadata": {
        "colab": {
          "base_uri": "https://localhost:8080/"
        },
        "id": "6FjUQYj5VMBa",
        "outputId": "c08b1875-fe3d-47ca-e818-4ff3377e94fd"
      },
      "id": "6FjUQYj5VMBa",
      "execution_count": 86,
      "outputs": [
        {
          "output_type": "stream",
          "name": "stdout",
          "text": [
            "10.0\n",
            "3\n",
            "808\n"
          ]
        }
      ]
    },
    {
      "cell_type": "code",
      "source": [
        "print(\"You've successfully run some Python code\")\n",
        "print(\"Congratulations!\")"
      ],
      "metadata": {
        "colab": {
          "base_uri": "https://localhost:8080/"
        },
        "id": "JmvQ2ktmVOrz",
        "outputId": "bd062c34-7f30-4bcf-a894-7da7002965d5"
      },
      "id": "JmvQ2ktmVOrz",
      "execution_count": 87,
      "outputs": [
        {
          "output_type": "stream",
          "name": "stdout",
          "text": [
            "You've successfully run some Python code\n",
            "Congratulations!\n"
          ]
        }
      ]
    },
    {
      "cell_type": "code",
      "source": [
        "help(round)"
      ],
      "metadata": {
        "colab": {
          "base_uri": "https://localhost:8080/"
        },
        "id": "xJBOlCHHVhd2",
        "outputId": "9c27235b-54ad-4d63-d016-8913618b15b5"
      },
      "id": "xJBOlCHHVhd2",
      "execution_count": 88,
      "outputs": [
        {
          "output_type": "stream",
          "name": "stdout",
          "text": [
            "Help on built-in function round in module builtins:\n",
            "\n",
            "round(number, ndigits=None)\n",
            "    Round a number to a given precision in decimal digits.\n",
            "    \n",
            "    The return value is an integer if ndigits is omitted or None.  Otherwise\n",
            "    the return value has the same type as the number.  ndigits may be negative.\n",
            "\n"
          ]
        }
      ]
    },
    {
      "cell_type": "code",
      "source": [
        "help(round(-2.01))"
      ],
      "metadata": {
        "colab": {
          "base_uri": "https://localhost:8080/"
        },
        "id": "opIoCBVCVp9Q",
        "outputId": "e4ef4802-502b-4a79-d28f-631e587c114c"
      },
      "id": "opIoCBVCVp9Q",
      "execution_count": 89,
      "outputs": [
        {
          "output_type": "stream",
          "name": "stdout",
          "text": [
            "Help on int object:\n",
            "\n",
            "class int(object)\n",
            " |  int([x]) -> integer\n",
            " |  int(x, base=10) -> integer\n",
            " |  \n",
            " |  Convert a number or string to an integer, or return 0 if no arguments\n",
            " |  are given.  If x is a number, return x.__int__().  For floating point\n",
            " |  numbers, this truncates towards zero.\n",
            " |  \n",
            " |  If x is not a number or if base is given, then x must be a string,\n",
            " |  bytes, or bytearray instance representing an integer literal in the\n",
            " |  given base.  The literal can be preceded by '+' or '-' and be surrounded\n",
            " |  by whitespace.  The base defaults to 10.  Valid bases are 0 and 2-36.\n",
            " |  Base 0 means to interpret the base from the string as an integer literal.\n",
            " |  >>> int('0b100', base=0)\n",
            " |  4\n",
            " |  \n",
            " |  Built-in subclasses:\n",
            " |      bool\n",
            " |  \n",
            " |  Methods defined here:\n",
            " |  \n",
            " |  __abs__(self, /)\n",
            " |      abs(self)\n",
            " |  \n",
            " |  __add__(self, value, /)\n",
            " |      Return self+value.\n",
            " |  \n",
            " |  __and__(self, value, /)\n",
            " |      Return self&value.\n",
            " |  \n",
            " |  __bool__(self, /)\n",
            " |      self != 0\n",
            " |  \n",
            " |  __ceil__(...)\n",
            " |      Ceiling of an Integral returns itself.\n",
            " |  \n",
            " |  __divmod__(self, value, /)\n",
            " |      Return divmod(self, value).\n",
            " |  \n",
            " |  __eq__(self, value, /)\n",
            " |      Return self==value.\n",
            " |  \n",
            " |  __float__(self, /)\n",
            " |      float(self)\n",
            " |  \n",
            " |  __floor__(...)\n",
            " |      Flooring an Integral returns itself.\n",
            " |  \n",
            " |  __floordiv__(self, value, /)\n",
            " |      Return self//value.\n",
            " |  \n",
            " |  __format__(self, format_spec, /)\n",
            " |      Default object formatter.\n",
            " |  \n",
            " |  __ge__(self, value, /)\n",
            " |      Return self>=value.\n",
            " |  \n",
            " |  __getattribute__(self, name, /)\n",
            " |      Return getattr(self, name).\n",
            " |  \n",
            " |  __getnewargs__(self, /)\n",
            " |  \n",
            " |  __gt__(self, value, /)\n",
            " |      Return self>value.\n",
            " |  \n",
            " |  __hash__(self, /)\n",
            " |      Return hash(self).\n",
            " |  \n",
            " |  __index__(self, /)\n",
            " |      Return self converted to an integer, if self is suitable for use as an index into a list.\n",
            " |  \n",
            " |  __int__(self, /)\n",
            " |      int(self)\n",
            " |  \n",
            " |  __invert__(self, /)\n",
            " |      ~self\n",
            " |  \n",
            " |  __le__(self, value, /)\n",
            " |      Return self<=value.\n",
            " |  \n",
            " |  __lshift__(self, value, /)\n",
            " |      Return self<<value.\n",
            " |  \n",
            " |  __lt__(self, value, /)\n",
            " |      Return self<value.\n",
            " |  \n",
            " |  __mod__(self, value, /)\n",
            " |      Return self%value.\n",
            " |  \n",
            " |  __mul__(self, value, /)\n",
            " |      Return self*value.\n",
            " |  \n",
            " |  __ne__(self, value, /)\n",
            " |      Return self!=value.\n",
            " |  \n",
            " |  __neg__(self, /)\n",
            " |      -self\n",
            " |  \n",
            " |  __or__(self, value, /)\n",
            " |      Return self|value.\n",
            " |  \n",
            " |  __pos__(self, /)\n",
            " |      +self\n",
            " |  \n",
            " |  __pow__(self, value, mod=None, /)\n",
            " |      Return pow(self, value, mod).\n",
            " |  \n",
            " |  __radd__(self, value, /)\n",
            " |      Return value+self.\n",
            " |  \n",
            " |  __rand__(self, value, /)\n",
            " |      Return value&self.\n",
            " |  \n",
            " |  __rdivmod__(self, value, /)\n",
            " |      Return divmod(value, self).\n",
            " |  \n",
            " |  __repr__(self, /)\n",
            " |      Return repr(self).\n",
            " |  \n",
            " |  __rfloordiv__(self, value, /)\n",
            " |      Return value//self.\n",
            " |  \n",
            " |  __rlshift__(self, value, /)\n",
            " |      Return value<<self.\n",
            " |  \n",
            " |  __rmod__(self, value, /)\n",
            " |      Return value%self.\n",
            " |  \n",
            " |  __rmul__(self, value, /)\n",
            " |      Return value*self.\n",
            " |  \n",
            " |  __ror__(self, value, /)\n",
            " |      Return value|self.\n",
            " |  \n",
            " |  __round__(...)\n",
            " |      Rounding an Integral returns itself.\n",
            " |      Rounding with an ndigits argument also returns an integer.\n",
            " |  \n",
            " |  __rpow__(self, value, mod=None, /)\n",
            " |      Return pow(value, self, mod).\n",
            " |  \n",
            " |  __rrshift__(self, value, /)\n",
            " |      Return value>>self.\n",
            " |  \n",
            " |  __rshift__(self, value, /)\n",
            " |      Return self>>value.\n",
            " |  \n",
            " |  __rsub__(self, value, /)\n",
            " |      Return value-self.\n",
            " |  \n",
            " |  __rtruediv__(self, value, /)\n",
            " |      Return value/self.\n",
            " |  \n",
            " |  __rxor__(self, value, /)\n",
            " |      Return value^self.\n",
            " |  \n",
            " |  __sizeof__(self, /)\n",
            " |      Returns size in memory, in bytes.\n",
            " |  \n",
            " |  __sub__(self, value, /)\n",
            " |      Return self-value.\n",
            " |  \n",
            " |  __truediv__(self, value, /)\n",
            " |      Return self/value.\n",
            " |  \n",
            " |  __trunc__(...)\n",
            " |      Truncating an Integral returns itself.\n",
            " |  \n",
            " |  __xor__(self, value, /)\n",
            " |      Return self^value.\n",
            " |  \n",
            " |  as_integer_ratio(self, /)\n",
            " |      Return integer ratio.\n",
            " |      \n",
            " |      Return a pair of integers, whose ratio is exactly equal to the original int\n",
            " |      and with a positive denominator.\n",
            " |      \n",
            " |      >>> (10).as_integer_ratio()\n",
            " |      (10, 1)\n",
            " |      >>> (-10).as_integer_ratio()\n",
            " |      (-10, 1)\n",
            " |      >>> (0).as_integer_ratio()\n",
            " |      (0, 1)\n",
            " |  \n",
            " |  bit_length(self, /)\n",
            " |      Number of bits necessary to represent self in binary.\n",
            " |      \n",
            " |      >>> bin(37)\n",
            " |      '0b100101'\n",
            " |      >>> (37).bit_length()\n",
            " |      6\n",
            " |  \n",
            " |  conjugate(...)\n",
            " |      Returns self, the complex conjugate of any int.\n",
            " |  \n",
            " |  to_bytes(self, /, length, byteorder, *, signed=False)\n",
            " |      Return an array of bytes representing an integer.\n",
            " |      \n",
            " |      length\n",
            " |        Length of bytes object to use.  An OverflowError is raised if the\n",
            " |        integer is not representable with the given number of bytes.\n",
            " |      byteorder\n",
            " |        The byte order used to represent the integer.  If byteorder is 'big',\n",
            " |        the most significant byte is at the beginning of the byte array.  If\n",
            " |        byteorder is 'little', the most significant byte is at the end of the\n",
            " |        byte array.  To request the native byte order of the host system, use\n",
            " |        `sys.byteorder' as the byte order value.\n",
            " |      signed\n",
            " |        Determines whether two's complement is used to represent the integer.\n",
            " |        If signed is False and a negative integer is given, an OverflowError\n",
            " |        is raised.\n",
            " |  \n",
            " |  ----------------------------------------------------------------------\n",
            " |  Class methods defined here:\n",
            " |  \n",
            " |  from_bytes(bytes, byteorder, *, signed=False) from builtins.type\n",
            " |      Return the integer represented by the given array of bytes.\n",
            " |      \n",
            " |      bytes\n",
            " |        Holds the array of bytes to convert.  The argument must either\n",
            " |        support the buffer protocol or be an iterable object producing bytes.\n",
            " |        Bytes and bytearray are examples of built-in objects that support the\n",
            " |        buffer protocol.\n",
            " |      byteorder\n",
            " |        The byte order used to represent the integer.  If byteorder is 'big',\n",
            " |        the most significant byte is at the beginning of the byte array.  If\n",
            " |        byteorder is 'little', the most significant byte is at the end of the\n",
            " |        byte array.  To request the native byte order of the host system, use\n",
            " |        `sys.byteorder' as the byte order value.\n",
            " |      signed\n",
            " |        Indicates whether two's complement is used to represent the integer.\n",
            " |  \n",
            " |  ----------------------------------------------------------------------\n",
            " |  Static methods defined here:\n",
            " |  \n",
            " |  __new__(*args, **kwargs) from builtins.type\n",
            " |      Create and return a new object.  See help(type) for accurate signature.\n",
            " |  \n",
            " |  ----------------------------------------------------------------------\n",
            " |  Data descriptors defined here:\n",
            " |  \n",
            " |  denominator\n",
            " |      the denominator of a rational number in lowest terms\n",
            " |  \n",
            " |  imag\n",
            " |      the imaginary part of a complex number\n",
            " |  \n",
            " |  numerator\n",
            " |      the numerator of a rational number in lowest terms\n",
            " |  \n",
            " |  real\n",
            " |      the real part of a complex number\n",
            "\n"
          ]
        }
      ]
    },
    {
      "cell_type": "code",
      "source": [
        "help(print)"
      ],
      "metadata": {
        "colab": {
          "base_uri": "https://localhost:8080/"
        },
        "id": "yzyAOUYmVshg",
        "outputId": "f87f7a75-2c9b-4393-d035-d0e06973a582"
      },
      "id": "yzyAOUYmVshg",
      "execution_count": 90,
      "outputs": [
        {
          "output_type": "stream",
          "name": "stdout",
          "text": [
            "Help on built-in function print in module builtins:\n",
            "\n",
            "print(...)\n",
            "    print(value, ..., sep=' ', end='\\n', file=sys.stdout, flush=False)\n",
            "    \n",
            "    Prints the values to a stream, or to sys.stdout by default.\n",
            "    Optional keyword arguments:\n",
            "    file:  a file-like object (stream); defaults to the current sys.stdout.\n",
            "    sep:   string inserted between values, default a space.\n",
            "    end:   string appended after the last value, default a newline.\n",
            "    flush: whether to forcibly flush the stream.\n",
            "\n"
          ]
        }
      ]
    },
    {
      "cell_type": "code",
      "source": [
        "def least_difference(a, b, c):\n",
        "    \"\"\"Return the smallest difference between any two numbers\n",
        "    among a, b and c.\n",
        "    \n",
        "    >>> least_difference(1, 5, -5)\n",
        "    4\n",
        "    \"\"\"\n",
        "    diff1 = abs(a - b)\n",
        "    diff2 = abs(b - c)\n",
        "    diff3 = abs(a - c)\n",
        "    return min(diff1, diff2, diff3)"
      ],
      "metadata": {
        "id": "oPIRQylRV_1d"
      },
      "id": "oPIRQylRV_1d",
      "execution_count": 91,
      "outputs": []
    },
    {
      "cell_type": "code",
      "source": [
        "help(least_difference)"
      ],
      "metadata": {
        "colab": {
          "base_uri": "https://localhost:8080/"
        },
        "id": "PhStozcsV4L0",
        "outputId": "e4f30cf4-1f78-445a-f863-8df7d6cdbef7"
      },
      "id": "PhStozcsV4L0",
      "execution_count": 92,
      "outputs": [
        {
          "output_type": "stream",
          "name": "stdout",
          "text": [
            "Help on function least_difference in module __main__:\n",
            "\n",
            "least_difference(a, b, c)\n",
            "    Return the smallest difference between any two numbers\n",
            "    among a, b and c.\n",
            "    \n",
            "    >>> least_difference(1, 5, -5)\n",
            "    4\n",
            "\n"
          ]
        }
      ]
    },
    {
      "cell_type": "code",
      "source": [
        "help(least_difference)"
      ],
      "metadata": {
        "colab": {
          "base_uri": "https://localhost:8080/"
        },
        "id": "VSe42SHrV8TH",
        "outputId": "e08f281c-2ec9-43cc-cd5b-86114eb86832"
      },
      "id": "VSe42SHrV8TH",
      "execution_count": 93,
      "outputs": [
        {
          "output_type": "stream",
          "name": "stdout",
          "text": [
            "Help on function least_difference in module __main__:\n",
            "\n",
            "least_difference(a, b, c)\n",
            "    Return the smallest difference between any two numbers\n",
            "    among a, b and c.\n",
            "    \n",
            "    >>> least_difference(1, 5, -5)\n",
            "    4\n",
            "\n"
          ]
        }
      ]
    },
    {
      "cell_type": "code",
      "source": [
        "print(\n",
        "    least_difference(1, 10, 100),\n",
        "    least_difference(1, 10, 10),\n",
        "    least_difference(5, 6, 7), # Python allows trailing commas in argument lists. How nice is that?\n",
        ")"
      ],
      "metadata": {
        "colab": {
          "base_uri": "https://localhost:8080/"
        },
        "id": "pVnEJk1eWDOD",
        "outputId": "ed5080ef-5581-42bc-c932-9d7dd9e29bb8"
      },
      "id": "pVnEJk1eWDOD",
      "execution_count": 94,
      "outputs": [
        {
          "output_type": "stream",
          "name": "stdout",
          "text": [
            "9 0 1\n"
          ]
        }
      ]
    },
    {
      "cell_type": "code",
      "source": [
        "def least_difference(a, b, c):\n",
        "    \"\"\"Return the smallest difference between any two numbers\n",
        "    among a, b and c.\n",
        "    \"\"\"\n",
        "    diff1 = abs(a - b)\n",
        "    diff2 = abs(b - c)\n",
        "    diff3 = abs(a - c)\n",
        "    min(diff1, diff2, diff3)\n",
        "    \n",
        "print(\n",
        "    least_difference(1, 10, 100),\n",
        "    least_difference(1, 10, 10),\n",
        "    least_difference(5, 6, 7),\n",
        ")"
      ],
      "metadata": {
        "colab": {
          "base_uri": "https://localhost:8080/"
        },
        "id": "rkHQ1NCpWLv1",
        "outputId": "1982d63b-1434-4dd2-f809-53e757ea536d"
      },
      "id": "rkHQ1NCpWLv1",
      "execution_count": 95,
      "outputs": [
        {
          "output_type": "stream",
          "name": "stdout",
          "text": [
            "None None None\n"
          ]
        }
      ]
    },
    {
      "cell_type": "code",
      "source": [
        "mystery = print()\n",
        "print(mystery)"
      ],
      "metadata": {
        "colab": {
          "base_uri": "https://localhost:8080/"
        },
        "id": "wjsls8dXWK0u",
        "outputId": "9d8dd4c4-c2e5-41b4-d418-477f818fa968"
      },
      "id": "wjsls8dXWK0u",
      "execution_count": 96,
      "outputs": [
        {
          "output_type": "stream",
          "name": "stdout",
          "text": [
            "\n",
            "None\n"
          ]
        }
      ]
    },
    {
      "cell_type": "code",
      "source": [
        "print(1, 2, 3, sep=' < ')"
      ],
      "metadata": {
        "colab": {
          "base_uri": "https://localhost:8080/"
        },
        "id": "qBNa5ypeWS0t",
        "outputId": "3820ca32-36b2-4148-e3ff-226c25537c1b"
      },
      "id": "qBNa5ypeWS0t",
      "execution_count": 97,
      "outputs": [
        {
          "output_type": "stream",
          "name": "stdout",
          "text": [
            "1 < 2 < 3\n"
          ]
        }
      ]
    },
    {
      "cell_type": "code",
      "source": [
        "print(1, 2, 3)"
      ],
      "metadata": {
        "colab": {
          "base_uri": "https://localhost:8080/"
        },
        "id": "9_UaVpi2WVbE",
        "outputId": "a2183887-7f18-469e-f8f8-ab0734736956"
      },
      "id": "9_UaVpi2WVbE",
      "execution_count": 98,
      "outputs": [
        {
          "output_type": "stream",
          "name": "stdout",
          "text": [
            "1 2 3\n"
          ]
        }
      ]
    },
    {
      "cell_type": "code",
      "source": [
        "def greet(who=\"Colin\"):\n",
        "    print(\"Hello,\", who)\n",
        "    \n",
        "greet()\n",
        "greet(who=\"Kaggle\")\n",
        "# (In this case, we don't need to specify the name of the argument, because it's unambiguous.)\n",
        "greet(\"world\")"
      ],
      "metadata": {
        "colab": {
          "base_uri": "https://localhost:8080/"
        },
        "id": "ET_5hwWnWXtk",
        "outputId": "94d08ce9-60e8-4ff3-94ca-34624fe88938"
      },
      "id": "ET_5hwWnWXtk",
      "execution_count": 99,
      "outputs": [
        {
          "output_type": "stream",
          "name": "stdout",
          "text": [
            "Hello, Colin\n",
            "Hello, Kaggle\n",
            "Hello, world\n"
          ]
        }
      ]
    },
    {
      "cell_type": "code",
      "source": [
        "def mult_by_five(x):\n",
        "    return 5 * x\n",
        "\n",
        "def call(fn, arg):\n",
        "    \"\"\"Call fn on arg\"\"\"\n",
        "    return fn(arg)\n",
        "\n",
        "def squared_call(fn, arg):\n",
        "    \"\"\"Call fn on the result of calling fn on arg\"\"\"\n",
        "    return fn(fn(arg))\n",
        "\n",
        "print(\n",
        "    call(mult_by_five, 1),\n",
        "    squared_call(mult_by_five, 1), \n",
        "    sep='\\n', # '\\n' is the newline character - it starts a new line\n",
        ")"
      ],
      "metadata": {
        "colab": {
          "base_uri": "https://localhost:8080/"
        },
        "id": "8DTUHV_oWZ7k",
        "outputId": "b2986328-7340-4e62-c222-2c50635316e4"
      },
      "id": "8DTUHV_oWZ7k",
      "execution_count": 100,
      "outputs": [
        {
          "output_type": "stream",
          "name": "stdout",
          "text": [
            "5\n",
            "25\n"
          ]
        }
      ]
    },
    {
      "cell_type": "code",
      "source": [
        "def mod_5(x):\n",
        "    \"\"\"Return the remainder of x after dividing by 5\"\"\"\n",
        "    return x % 5\n",
        "\n",
        "print(\n",
        "    'Which number is biggest?',\n",
        "    max(100, 51, 14),\n",
        "    'Which number is the biggest modulo 5?',\n",
        "    max(100, 51, 14, key=mod_5),\n",
        "    sep='\\n',\n",
        ")"
      ],
      "metadata": {
        "colab": {
          "base_uri": "https://localhost:8080/"
        },
        "id": "7xNy2K2SWcXO",
        "outputId": "3856d456-7c44-4041-abf8-fd71089c5bac"
      },
      "id": "7xNy2K2SWcXO",
      "execution_count": 101,
      "outputs": [
        {
          "output_type": "stream",
          "name": "stdout",
          "text": [
            "Which number is biggest?\n",
            "100\n",
            "Which number is the biggest modulo 5?\n",
            "14\n"
          ]
        }
      ]
    },
    {
      "cell_type": "code",
      "source": [
        "def round_to_two_places(num):\n",
        "    \"\"\"Return the given number rounded to two decimal places. \n",
        "    \n",
        "    >>> round_to_two_places(3.14159)\n",
        "    3.14\n",
        "    \"\"\"\n",
        "    # Replace this body with your own code.\n",
        "    # (\"pass\" is a keyword that does literally nothing. We used it as a placeholder\n",
        "    # because after we begin a code block, Python requires at least one line of code)\n",
        "    pass"
      ],
      "metadata": {
        "id": "KvvrCVR8WhPg"
      },
      "id": "KvvrCVR8WhPg",
      "execution_count": 102,
      "outputs": []
    },
    {
      "cell_type": "code",
      "source": [
        "round_to_two_places(9.9999)"
      ],
      "metadata": {
        "id": "b88_AU_4WvdK"
      },
      "id": "b88_AU_4WvdK",
      "execution_count": 103,
      "outputs": []
    },
    {
      "cell_type": "code",
      "source": [
        "x = -10\n",
        "y = 5\n"
      ],
      "metadata": {
        "id": "WZNjX7jKW7Qi"
      },
      "id": "WZNjX7jKW7Qi",
      "execution_count": 104,
      "outputs": []
    },
    {
      "cell_type": "code",
      "source": [
        "def f(x):\n",
        "  y = abs(x)\n",
        "  return y\n",
        "\n",
        "print(f(5))"
      ],
      "metadata": {
        "colab": {
          "base_uri": "https://localhost:8080/"
        },
        "id": "Mh4qEY_gXJCp",
        "outputId": "169390c1-cb02-4322-b6a0-dd27c91ebd9a"
      },
      "id": "Mh4qEY_gXJCp",
      "execution_count": 105,
      "outputs": [
        {
          "output_type": "stream",
          "name": "stdout",
          "text": [
            "5\n"
          ]
        }
      ]
    },
    {
      "cell_type": "code",
      "source": [
        "x = True\n",
        "print(x)\n",
        "print(type(x))"
      ],
      "metadata": {
        "colab": {
          "base_uri": "https://localhost:8080/"
        },
        "id": "AzkvM-axXRPq",
        "outputId": "fe271f64-41cf-4075-8a78-ec86a48034ee"
      },
      "id": "AzkvM-axXRPq",
      "execution_count": 106,
      "outputs": [
        {
          "output_type": "stream",
          "name": "stdout",
          "text": [
            "True\n",
            "<class 'bool'>\n"
          ]
        }
      ]
    },
    {
      "cell_type": "code",
      "source": [
        "def can_run_for_president(age):\n",
        "    \"\"\"Can someone of the given age run for president in the US?\"\"\"\n",
        "    # The US Constitution says you must be at least 35 years old\n",
        "    return age >= 35\n",
        "\n",
        "print(\"Can a 19-year-old run for president?\", can_run_for_president(19))\n",
        "print(\"Can a 45-year-old run for president?\", can_run_for_president(45))"
      ],
      "metadata": {
        "colab": {
          "base_uri": "https://localhost:8080/"
        },
        "id": "66Q0Z4zSXz_T",
        "outputId": "f303329f-ad00-457d-853d-637452a5c7d3"
      },
      "id": "66Q0Z4zSXz_T",
      "execution_count": 107,
      "outputs": [
        {
          "output_type": "stream",
          "name": "stdout",
          "text": [
            "Can a 19-year-old run for president? False\n",
            "Can a 45-year-old run for president? True\n"
          ]
        }
      ]
    },
    {
      "cell_type": "code",
      "source": [
        "3.0 == 3"
      ],
      "metadata": {
        "colab": {
          "base_uri": "https://localhost:8080/"
        },
        "id": "w0Tyjwc2X2fy",
        "outputId": "91ecb53f-90ac-4a49-ad94-5b8c386b649e"
      },
      "id": "w0Tyjwc2X2fy",
      "execution_count": 108,
      "outputs": [
        {
          "output_type": "execute_result",
          "data": {
            "text/plain": [
              "True"
            ]
          },
          "metadata": {},
          "execution_count": 108
        }
      ]
    },
    {
      "cell_type": "code",
      "source": [
        "'3' == 3"
      ],
      "metadata": {
        "colab": {
          "base_uri": "https://localhost:8080/"
        },
        "id": "mOTkIPzRX5Si",
        "outputId": "73a5afc4-09ca-443c-ab4f-5752efbc3839"
      },
      "id": "mOTkIPzRX5Si",
      "execution_count": 109,
      "outputs": [
        {
          "output_type": "execute_result",
          "data": {
            "text/plain": [
              "False"
            ]
          },
          "metadata": {},
          "execution_count": 109
        }
      ]
    },
    {
      "cell_type": "code",
      "source": [
        "def is_odd(n):\n",
        "    return (n % 2) == 1\n",
        "\n",
        "print(\"Is 100 odd?\", is_odd(100))\n",
        "print(\"Is -1 odd?\", is_odd(-1))"
      ],
      "metadata": {
        "colab": {
          "base_uri": "https://localhost:8080/"
        },
        "id": "02VReWhlX7JK",
        "outputId": "e3be294a-d294-451c-abc7-e2d9a6ff050f"
      },
      "id": "02VReWhlX7JK",
      "execution_count": 110,
      "outputs": [
        {
          "output_type": "stream",
          "name": "stdout",
          "text": [
            "Is 100 odd? False\n",
            "Is -1 odd? True\n"
          ]
        }
      ]
    },
    {
      "cell_type": "code",
      "source": [
        "def can_run_for_president(age, is_natural_born_citizen):\n",
        "    \"\"\"Can someone of the given age and citizenship status run for president in the US?\"\"\"\n",
        "    # The US Constitution says you must be a natural born citizen *and* at least 35 years old\n",
        "    return is_natural_born_citizen and (age >= 35)\n",
        "\n",
        "print(can_run_for_president(19, True))\n",
        "print(can_run_for_president(55, False))\n",
        "print(can_run_for_president(55, True))"
      ],
      "metadata": {
        "colab": {
          "base_uri": "https://localhost:8080/"
        },
        "id": "I_gGk6IQX91g",
        "outputId": "9fd99825-5948-4917-f5eb-3b81d6cd68da"
      },
      "id": "I_gGk6IQX91g",
      "execution_count": 111,
      "outputs": [
        {
          "output_type": "stream",
          "name": "stdout",
          "text": [
            "False\n",
            "False\n",
            "True\n"
          ]
        }
      ]
    },
    {
      "cell_type": "code",
      "source": [
        "True or True and False"
      ],
      "metadata": {
        "colab": {
          "base_uri": "https://localhost:8080/"
        },
        "id": "16B23vEdYEjO",
        "outputId": "3ac12ca7-f999-49f8-b4a9-4e4fabef7830"
      },
      "id": "16B23vEdYEjO",
      "execution_count": 112,
      "outputs": [
        {
          "output_type": "execute_result",
          "data": {
            "text/plain": [
              "True"
            ]
          },
          "metadata": {},
          "execution_count": 112
        }
      ]
    },
    {
      "cell_type": "code",
      "source": [
        "def inspect(x):\n",
        "    if x == 0:\n",
        "        print(x, \"is zero\")\n",
        "    elif x > 0:\n",
        "        print(x, \"is positive\")\n",
        "    elif x < 0:\n",
        "        print(x, \"is negative\")\n",
        "    else:\n",
        "        print(x, \"is unlike anything I've ever seen...\")\n",
        "\n",
        "inspect(0)\n",
        "inspect(-15)"
      ],
      "metadata": {
        "colab": {
          "base_uri": "https://localhost:8080/"
        },
        "id": "eJTxCH0OYGpe",
        "outputId": "2a3db4d3-8976-4140-8ed4-28210dcd65d4"
      },
      "id": "eJTxCH0OYGpe",
      "execution_count": 113,
      "outputs": [
        {
          "output_type": "stream",
          "name": "stdout",
          "text": [
            "0 is zero\n",
            "-15 is negative\n"
          ]
        }
      ]
    },
    {
      "cell_type": "code",
      "source": [
        "def f(x):\n",
        "    if x > 0:\n",
        "        print(\"Only printed when x is positive; x =\", x)\n",
        "        print(\"Also only printed when x is positive; x =\", x)\n",
        "    print(\"Always printed, regardless of x's value; x =\", x)\n",
        "\n",
        "f(1)\n",
        "f(0)"
      ],
      "metadata": {
        "colab": {
          "base_uri": "https://localhost:8080/"
        },
        "id": "gQPddKSKYN3s",
        "outputId": "9733a520-871b-4efb-bae2-6807ea0ea5f9"
      },
      "id": "gQPddKSKYN3s",
      "execution_count": 114,
      "outputs": [
        {
          "output_type": "stream",
          "name": "stdout",
          "text": [
            "Only printed when x is positive; x = 1\n",
            "Also only printed when x is positive; x = 1\n",
            "Always printed, regardless of x's value; x = 1\n",
            "Always printed, regardless of x's value; x = 0\n"
          ]
        }
      ]
    },
    {
      "cell_type": "code",
      "source": [
        "print(bool(1)) # all numbers are treated as true, except 0\n",
        "print(bool(0))\n",
        "print(bool(\"asf\")) # all strings are treated as true, except the empty string \"\"\n",
        "print(bool(\"\"))\n",
        "# Generally empty sequences (strings, lists, and other types we've yet to see like lists and tuples)\n",
        "# are \"falsey\" and the rest are \"truthy\""
      ],
      "metadata": {
        "colab": {
          "base_uri": "https://localhost:8080/"
        },
        "id": "T1hRob88YPs6",
        "outputId": "e8dcf4db-8880-4d11-f9f0-4f7cbd0721f8"
      },
      "id": "T1hRob88YPs6",
      "execution_count": 115,
      "outputs": [
        {
          "output_type": "stream",
          "name": "stdout",
          "text": [
            "True\n",
            "False\n",
            "True\n",
            "False\n"
          ]
        }
      ]
    },
    {
      "cell_type": "code",
      "source": [
        "if 0:\n",
        "    print(0)\n",
        "elif \"spam\":\n",
        "    print(\"spam\")"
      ],
      "metadata": {
        "colab": {
          "base_uri": "https://localhost:8080/"
        },
        "id": "1uFepUwOYR3K",
        "outputId": "5abdb7d1-af2e-4a66-89df-7e11f6b1a1c3"
      },
      "id": "1uFepUwOYR3K",
      "execution_count": 116,
      "outputs": [
        {
          "output_type": "stream",
          "name": "stdout",
          "text": [
            "spam\n"
          ]
        }
      ]
    },
    {
      "cell_type": "code",
      "source": [
        "primes = [2, 3, 5, 7]"
      ],
      "metadata": {
        "id": "fSbqOc3pYUwj"
      },
      "id": "fSbqOc3pYUwj",
      "execution_count": 117,
      "outputs": []
    },
    {
      "cell_type": "code",
      "source": [
        "planets = ['Mercury', 'Venus', 'Earth', 'Mars', 'Jupiter', 'Saturn', 'Uranus', 'Neptune']"
      ],
      "metadata": {
        "id": "JSkjA63fYvYw"
      },
      "id": "JSkjA63fYvYw",
      "execution_count": 118,
      "outputs": []
    },
    {
      "cell_type": "code",
      "source": [
        "hands = [\n",
        "    ['J', 'Q', 'K'],\n",
        "    ['2', '2', '2'],\n",
        "    ['6', 'A', 'K'], # (Comma after the last element is optional)\n",
        "]\n",
        "# (I could also have written this on one line, but it can get hard to read)\n",
        "hands = [['J', 'Q', 'K'], ['2', '2', '2'], ['6', 'A', 'K']]"
      ],
      "metadata": {
        "id": "_ZmudZp6Yw5d"
      },
      "id": "_ZmudZp6Yw5d",
      "execution_count": 119,
      "outputs": []
    },
    {
      "cell_type": "code",
      "source": [
        "my_favourite_things = [32, 'raindrops on roses', help]\n",
        "# (Yes, Python's help function is *definitely* one of my favourite things)"
      ],
      "metadata": {
        "id": "Xkh4IXR1ZsGz"
      },
      "id": "Xkh4IXR1ZsGz",
      "execution_count": 120,
      "outputs": []
    },
    {
      "cell_type": "code",
      "source": [
        "planets[3:]"
      ],
      "metadata": {
        "colab": {
          "base_uri": "https://localhost:8080/"
        },
        "id": "VtJzvFZFZvg9",
        "outputId": "230bc732-9e0a-4984-f662-ec3ec470870d"
      },
      "id": "VtJzvFZFZvg9",
      "execution_count": 121,
      "outputs": [
        {
          "output_type": "execute_result",
          "data": {
            "text/plain": [
              "['Mars', 'Jupiter', 'Saturn', 'Uranus', 'Neptune']"
            ]
          },
          "metadata": {},
          "execution_count": 121
        }
      ]
    },
    {
      "cell_type": "code",
      "source": [
        "# All the planets except the first and last\n",
        "planets[1:-1]"
      ],
      "metadata": {
        "colab": {
          "base_uri": "https://localhost:8080/"
        },
        "id": "m10snWc3Z0FY",
        "outputId": "653f54c4-de7d-4141-ca90-bbd93a6c7d2a"
      },
      "id": "m10snWc3Z0FY",
      "execution_count": 122,
      "outputs": [
        {
          "output_type": "execute_result",
          "data": {
            "text/plain": [
              "['Venus', 'Earth', 'Mars', 'Jupiter', 'Saturn', 'Uranus']"
            ]
          },
          "metadata": {},
          "execution_count": 122
        }
      ]
    },
    {
      "cell_type": "code",
      "source": [
        "# The last 3 planets\n",
        "planets[-3:]"
      ],
      "metadata": {
        "colab": {
          "base_uri": "https://localhost:8080/"
        },
        "id": "zX7OqmlDZ23I",
        "outputId": "7eb2cf91-15da-4aa4-c0a1-71315ac58f5c"
      },
      "id": "zX7OqmlDZ23I",
      "execution_count": 123,
      "outputs": [
        {
          "output_type": "execute_result",
          "data": {
            "text/plain": [
              "['Saturn', 'Uranus', 'Neptune']"
            ]
          },
          "metadata": {},
          "execution_count": 123
        }
      ]
    },
    {
      "cell_type": "code",
      "source": [
        "planets[3] = 'Malacandra'\n",
        "planets"
      ],
      "metadata": {
        "colab": {
          "base_uri": "https://localhost:8080/"
        },
        "id": "DpUs0uLBZ6va",
        "outputId": "7e74d15a-8460-42c8-e58c-e9dbe446667a"
      },
      "id": "DpUs0uLBZ6va",
      "execution_count": 124,
      "outputs": [
        {
          "output_type": "execute_result",
          "data": {
            "text/plain": [
              "['Mercury',\n",
              " 'Venus',\n",
              " 'Earth',\n",
              " 'Malacandra',\n",
              " 'Jupiter',\n",
              " 'Saturn',\n",
              " 'Uranus',\n",
              " 'Neptune']"
            ]
          },
          "metadata": {},
          "execution_count": 124
        }
      ]
    },
    {
      "cell_type": "code",
      "source": [
        "planets[:3] = ['Mur', 'Vee', 'Ur']\n",
        "print(planets)\n",
        "# That was silly. Let's give them back their old names\n",
        "planets[:4] = ['Mercury', 'Venus', 'Earth', 'Mars',]"
      ],
      "metadata": {
        "colab": {
          "base_uri": "https://localhost:8080/"
        },
        "id": "-P1696VQZ9pT",
        "outputId": "10f7ceda-2605-4c5f-8ce2-1de9133e6966"
      },
      "id": "-P1696VQZ9pT",
      "execution_count": 125,
      "outputs": [
        {
          "output_type": "stream",
          "name": "stdout",
          "text": [
            "['Mur', 'Vee', 'Ur', 'Malacandra', 'Jupiter', 'Saturn', 'Uranus', 'Neptune']\n"
          ]
        }
      ]
    },
    {
      "cell_type": "code",
      "source": [
        "# How many planets are there?\n",
        "len(planets)"
      ],
      "metadata": {
        "colab": {
          "base_uri": "https://localhost:8080/"
        },
        "id": "2r9169ezaCHF",
        "outputId": "07e7fcc3-7a6f-4d10-924a-8849348750d5"
      },
      "id": "2r9169ezaCHF",
      "execution_count": 126,
      "outputs": [
        {
          "output_type": "execute_result",
          "data": {
            "text/plain": [
              "8"
            ]
          },
          "metadata": {},
          "execution_count": 126
        }
      ]
    },
    {
      "cell_type": "code",
      "source": [
        "# The planets sorted in alphabetical order\n",
        "sorted(planets)"
      ],
      "metadata": {
        "colab": {
          "base_uri": "https://localhost:8080/"
        },
        "id": "n72XhthyaGbj",
        "outputId": "09acc817-90ce-4b10-f241-eee0c2c73528"
      },
      "id": "n72XhthyaGbj",
      "execution_count": 127,
      "outputs": [
        {
          "output_type": "execute_result",
          "data": {
            "text/plain": [
              "['Earth', 'Jupiter', 'Mars', 'Mercury', 'Neptune', 'Saturn', 'Uranus', 'Venus']"
            ]
          },
          "metadata": {},
          "execution_count": 127
        }
      ]
    },
    {
      "cell_type": "code",
      "source": [
        "primes = [2, 3, 5, 7]\n",
        "sum(primes)"
      ],
      "metadata": {
        "colab": {
          "base_uri": "https://localhost:8080/"
        },
        "id": "FMsqXR9jaJdD",
        "outputId": "da30f5af-7970-4bd7-9973-c359781a5a7a"
      },
      "id": "FMsqXR9jaJdD",
      "execution_count": 128,
      "outputs": [
        {
          "output_type": "execute_result",
          "data": {
            "text/plain": [
              "17"
            ]
          },
          "metadata": {},
          "execution_count": 128
        }
      ]
    },
    {
      "cell_type": "code",
      "source": [
        "max(primes)"
      ],
      "metadata": {
        "colab": {
          "base_uri": "https://localhost:8080/"
        },
        "id": "e-ywPUa3aOTb",
        "outputId": "70216210-7cb6-4837-f491-c149a6e63b0c"
      },
      "id": "e-ywPUa3aOTb",
      "execution_count": 129,
      "outputs": [
        {
          "output_type": "execute_result",
          "data": {
            "text/plain": [
              "7"
            ]
          },
          "metadata": {},
          "execution_count": 129
        }
      ]
    },
    {
      "cell_type": "code",
      "source": [
        "x = 12\n",
        "# x is a real number, so its imaginary part is 0.\n",
        "print(x.imag)\n",
        "# Here's how to make a complex number, in case you've ever been curious:\n",
        "c = 12 + 3j\n",
        "print(c.imag)"
      ],
      "metadata": {
        "colab": {
          "base_uri": "https://localhost:8080/"
        },
        "id": "cpVwkkcsaRDc",
        "outputId": "d7097427-74e5-4063-e780-2d36d4ef8b0d"
      },
      "id": "cpVwkkcsaRDc",
      "execution_count": 130,
      "outputs": [
        {
          "output_type": "stream",
          "name": "stdout",
          "text": [
            "0\n",
            "3.0\n"
          ]
        }
      ]
    },
    {
      "cell_type": "code",
      "source": [
        "x.bit_length"
      ],
      "metadata": {
        "colab": {
          "base_uri": "https://localhost:8080/"
        },
        "id": "oTR658EBaV9d",
        "outputId": "3accbd6f-962d-4b0a-d1e1-ac167109f1ee"
      },
      "id": "oTR658EBaV9d",
      "execution_count": 131,
      "outputs": [
        {
          "output_type": "execute_result",
          "data": {
            "text/plain": [
              "<function int.bit_length()>"
            ]
          },
          "metadata": {},
          "execution_count": 131
        }
      ]
    },
    {
      "cell_type": "code",
      "source": [
        "x.bit_length()"
      ],
      "metadata": {
        "colab": {
          "base_uri": "https://localhost:8080/"
        },
        "id": "g_lr7ZkXaZFv",
        "outputId": "aae9eabc-a5c1-476e-c8de-8433161c3ba1"
      },
      "id": "g_lr7ZkXaZFv",
      "execution_count": 132,
      "outputs": [
        {
          "output_type": "execute_result",
          "data": {
            "text/plain": [
              "4"
            ]
          },
          "metadata": {},
          "execution_count": 132
        }
      ]
    },
    {
      "cell_type": "code",
      "source": [
        "help(x.bit_length)"
      ],
      "metadata": {
        "colab": {
          "base_uri": "https://localhost:8080/"
        },
        "id": "Skfpe5y4ab-1",
        "outputId": "dc658ab1-7903-4c18-9ffc-6cb431c3afa4"
      },
      "id": "Skfpe5y4ab-1",
      "execution_count": 133,
      "outputs": [
        {
          "output_type": "stream",
          "name": "stdout",
          "text": [
            "Help on built-in function bit_length:\n",
            "\n",
            "bit_length() method of builtins.int instance\n",
            "    Number of bits necessary to represent self in binary.\n",
            "    \n",
            "    >>> bin(37)\n",
            "    '0b100101'\n",
            "    >>> (37).bit_length()\n",
            "    6\n",
            "\n"
          ]
        }
      ]
    },
    {
      "cell_type": "code",
      "source": [
        "# Pluto is a planet darn it!\n",
        "planets.append('Pluto')"
      ],
      "metadata": {
        "id": "05JJcQ3nafQD"
      },
      "id": "05JJcQ3nafQD",
      "execution_count": 134,
      "outputs": []
    },
    {
      "cell_type": "code",
      "source": [
        "help(planets.append)"
      ],
      "metadata": {
        "colab": {
          "base_uri": "https://localhost:8080/"
        },
        "id": "0t0t4T1Xapi8",
        "outputId": "79e6dee7-5ca6-46a9-da9a-def69eba0272"
      },
      "id": "0t0t4T1Xapi8",
      "execution_count": 135,
      "outputs": [
        {
          "output_type": "stream",
          "name": "stdout",
          "text": [
            "Help on built-in function append:\n",
            "\n",
            "append(object, /) method of builtins.list instance\n",
            "    Append object to the end of the list.\n",
            "\n"
          ]
        }
      ]
    },
    {
      "cell_type": "code",
      "source": [
        "planets"
      ],
      "metadata": {
        "colab": {
          "base_uri": "https://localhost:8080/"
        },
        "id": "611jIrPJasAE",
        "outputId": "cdf877bb-c1d9-48d9-807f-9b7b2017dfb4"
      },
      "id": "611jIrPJasAE",
      "execution_count": 136,
      "outputs": [
        {
          "output_type": "execute_result",
          "data": {
            "text/plain": [
              "['Mercury',\n",
              " 'Venus',\n",
              " 'Earth',\n",
              " 'Mars',\n",
              " 'Jupiter',\n",
              " 'Saturn',\n",
              " 'Uranus',\n",
              " 'Neptune',\n",
              " 'Pluto']"
            ]
          },
          "metadata": {},
          "execution_count": 136
        }
      ]
    },
    {
      "cell_type": "code",
      "source": [
        "#list.pop removes and returns the last element of a list:\n",
        "planets.pop()"
      ],
      "metadata": {
        "colab": {
          "base_uri": "https://localhost:8080/",
          "height": 36
        },
        "id": "_Vc7gsKYauEe",
        "outputId": "73df84df-10ed-4c92-972d-92a20a6cc1e4"
      },
      "id": "_Vc7gsKYauEe",
      "execution_count": 137,
      "outputs": [
        {
          "output_type": "execute_result",
          "data": {
            "text/plain": [
              "'Pluto'"
            ],
            "application/vnd.google.colaboratory.intrinsic+json": {
              "type": "string"
            }
          },
          "metadata": {},
          "execution_count": 137
        }
      ]
    },
    {
      "cell_type": "code",
      "source": [
        "planets.index('Earth')"
      ],
      "metadata": {
        "colab": {
          "base_uri": "https://localhost:8080/"
        },
        "id": "7JY5fjS1a08v",
        "outputId": "f22302ad-43e4-42a8-b43c-238a22160337"
      },
      "id": "7JY5fjS1a08v",
      "execution_count": 138,
      "outputs": [
        {
          "output_type": "execute_result",
          "data": {
            "text/plain": [
              "2"
            ]
          },
          "metadata": {},
          "execution_count": 138
        }
      ]
    },
    {
      "cell_type": "code",
      "source": [
        "# Is Earth a planet?\n",
        "\"Earth\" in planets"
      ],
      "metadata": {
        "colab": {
          "base_uri": "https://localhost:8080/"
        },
        "id": "YsfHX4u3a3uN",
        "outputId": "e8fa96c5-2517-46b3-bc88-d6aaf9c3109d"
      },
      "id": "YsfHX4u3a3uN",
      "execution_count": 139,
      "outputs": [
        {
          "output_type": "execute_result",
          "data": {
            "text/plain": [
              "True"
            ]
          },
          "metadata": {},
          "execution_count": 139
        }
      ]
    },
    {
      "cell_type": "code",
      "source": [
        "# Is Calbefraques a planet?\n",
        "\"Calbefraques\" in planets"
      ],
      "metadata": {
        "colab": {
          "base_uri": "https://localhost:8080/"
        },
        "id": "JOq7rDuUa7Qg",
        "outputId": "a1a8b49a-a611-4f83-d038-3234a2f56237"
      },
      "id": "JOq7rDuUa7Qg",
      "execution_count": 140,
      "outputs": [
        {
          "output_type": "execute_result",
          "data": {
            "text/plain": [
              "False"
            ]
          },
          "metadata": {},
          "execution_count": 140
        }
      ]
    },
    {
      "cell_type": "code",
      "source": [
        "help(planets)"
      ],
      "metadata": {
        "colab": {
          "base_uri": "https://localhost:8080/"
        },
        "id": "wCQvP-IDa-24",
        "outputId": "e4e57d9d-372a-4cf4-96b9-2a1de369f28f"
      },
      "id": "wCQvP-IDa-24",
      "execution_count": 141,
      "outputs": [
        {
          "output_type": "stream",
          "name": "stdout",
          "text": [
            "Help on list object:\n",
            "\n",
            "class list(object)\n",
            " |  list(iterable=(), /)\n",
            " |  \n",
            " |  Built-in mutable sequence.\n",
            " |  \n",
            " |  If no argument is given, the constructor creates a new empty list.\n",
            " |  The argument must be an iterable if specified.\n",
            " |  \n",
            " |  Methods defined here:\n",
            " |  \n",
            " |  __add__(self, value, /)\n",
            " |      Return self+value.\n",
            " |  \n",
            " |  __contains__(self, key, /)\n",
            " |      Return key in self.\n",
            " |  \n",
            " |  __delitem__(self, key, /)\n",
            " |      Delete self[key].\n",
            " |  \n",
            " |  __eq__(self, value, /)\n",
            " |      Return self==value.\n",
            " |  \n",
            " |  __ge__(self, value, /)\n",
            " |      Return self>=value.\n",
            " |  \n",
            " |  __getattribute__(self, name, /)\n",
            " |      Return getattr(self, name).\n",
            " |  \n",
            " |  __getitem__(...)\n",
            " |      x.__getitem__(y) <==> x[y]\n",
            " |  \n",
            " |  __gt__(self, value, /)\n",
            " |      Return self>value.\n",
            " |  \n",
            " |  __iadd__(self, value, /)\n",
            " |      Implement self+=value.\n",
            " |  \n",
            " |  __imul__(self, value, /)\n",
            " |      Implement self*=value.\n",
            " |  \n",
            " |  __init__(self, /, *args, **kwargs)\n",
            " |      Initialize self.  See help(type(self)) for accurate signature.\n",
            " |  \n",
            " |  __iter__(self, /)\n",
            " |      Implement iter(self).\n",
            " |  \n",
            " |  __le__(self, value, /)\n",
            " |      Return self<=value.\n",
            " |  \n",
            " |  __len__(self, /)\n",
            " |      Return len(self).\n",
            " |  \n",
            " |  __lt__(self, value, /)\n",
            " |      Return self<value.\n",
            " |  \n",
            " |  __mul__(self, value, /)\n",
            " |      Return self*value.\n",
            " |  \n",
            " |  __ne__(self, value, /)\n",
            " |      Return self!=value.\n",
            " |  \n",
            " |  __repr__(self, /)\n",
            " |      Return repr(self).\n",
            " |  \n",
            " |  __reversed__(self, /)\n",
            " |      Return a reverse iterator over the list.\n",
            " |  \n",
            " |  __rmul__(self, value, /)\n",
            " |      Return value*self.\n",
            " |  \n",
            " |  __setitem__(self, key, value, /)\n",
            " |      Set self[key] to value.\n",
            " |  \n",
            " |  __sizeof__(self, /)\n",
            " |      Return the size of the list in memory, in bytes.\n",
            " |  \n",
            " |  append(self, object, /)\n",
            " |      Append object to the end of the list.\n",
            " |  \n",
            " |  clear(self, /)\n",
            " |      Remove all items from list.\n",
            " |  \n",
            " |  copy(self, /)\n",
            " |      Return a shallow copy of the list.\n",
            " |  \n",
            " |  count(self, value, /)\n",
            " |      Return number of occurrences of value.\n",
            " |  \n",
            " |  extend(self, iterable, /)\n",
            " |      Extend list by appending elements from the iterable.\n",
            " |  \n",
            " |  index(self, value, start=0, stop=9223372036854775807, /)\n",
            " |      Return first index of value.\n",
            " |      \n",
            " |      Raises ValueError if the value is not present.\n",
            " |  \n",
            " |  insert(self, index, object, /)\n",
            " |      Insert object before index.\n",
            " |  \n",
            " |  pop(self, index=-1, /)\n",
            " |      Remove and return item at index (default last).\n",
            " |      \n",
            " |      Raises IndexError if list is empty or index is out of range.\n",
            " |  \n",
            " |  remove(self, value, /)\n",
            " |      Remove first occurrence of value.\n",
            " |      \n",
            " |      Raises ValueError if the value is not present.\n",
            " |  \n",
            " |  reverse(self, /)\n",
            " |      Reverse *IN PLACE*.\n",
            " |  \n",
            " |  sort(self, /, *, key=None, reverse=False)\n",
            " |      Sort the list in ascending order and return None.\n",
            " |      \n",
            " |      The sort is in-place (i.e. the list itself is modified) and stable (i.e. the\n",
            " |      order of two equal elements is maintained).\n",
            " |      \n",
            " |      If a key function is given, apply it once to each list item and sort them,\n",
            " |      ascending or descending, according to their function values.\n",
            " |      \n",
            " |      The reverse flag can be set to sort in descending order.\n",
            " |  \n",
            " |  ----------------------------------------------------------------------\n",
            " |  Static methods defined here:\n",
            " |  \n",
            " |  __new__(*args, **kwargs) from builtins.type\n",
            " |      Create and return a new object.  See help(type) for accurate signature.\n",
            " |  \n",
            " |  ----------------------------------------------------------------------\n",
            " |  Data and other attributes defined here:\n",
            " |  \n",
            " |  __hash__ = None\n",
            "\n"
          ]
        }
      ]
    },
    {
      "cell_type": "code",
      "source": [
        "t = (1, 2, 3)\n",
        "t = 1, 2, 3"
      ],
      "metadata": {
        "id": "afjtGq1tbEvU"
      },
      "id": "afjtGq1tbEvU",
      "execution_count": 142,
      "outputs": []
    },
    {
      "cell_type": "code",
      "source": [
        "x = 0.125\n",
        "x.as_integer_ratio()"
      ],
      "metadata": {
        "colab": {
          "base_uri": "https://localhost:8080/"
        },
        "id": "xpCFKBkmbEp8",
        "outputId": "aa10cee3-0b99-4135-ac2d-6095df3dd7c5"
      },
      "id": "xpCFKBkmbEp8",
      "execution_count": 143,
      "outputs": [
        {
          "output_type": "execute_result",
          "data": {
            "text/plain": [
              "(1, 8)"
            ]
          },
          "metadata": {},
          "execution_count": 143
        }
      ]
    },
    {
      "cell_type": "code",
      "source": [
        "numerator, denominator = x.as_integer_ratio()\n",
        "print(numerator / denominator)"
      ],
      "metadata": {
        "colab": {
          "base_uri": "https://localhost:8080/"
        },
        "id": "w1EKie4TbEmc",
        "outputId": "aed92dd3-f5cc-4553-ee8b-9cd2ffaa4523"
      },
      "id": "w1EKie4TbEmc",
      "execution_count": 144,
      "outputs": [
        {
          "output_type": "stream",
          "name": "stdout",
          "text": [
            "0.125\n"
          ]
        }
      ]
    },
    {
      "cell_type": "code",
      "source": [
        "a = 1\n",
        "b = 0\n",
        "a, b = b, a\n",
        "print(a, b)"
      ],
      "metadata": {
        "colab": {
          "base_uri": "https://localhost:8080/"
        },
        "id": "kJY-zVafbCVt",
        "outputId": "b7eef19a-503b-46b7-d5e5-48960b9a4e71"
      },
      "id": "kJY-zVafbCVt",
      "execution_count": 145,
      "outputs": [
        {
          "output_type": "stream",
          "name": "stdout",
          "text": [
            "0 1\n"
          ]
        }
      ]
    },
    {
      "cell_type": "code",
      "source": [
        "a = [1, 2, 3]\n",
        "b = [1, [2, 3]]\n",
        "c = []\n",
        "d = [1, 2, 3][1:]"
      ],
      "metadata": {
        "id": "gae6i3YmbUn_"
      },
      "id": "gae6i3YmbUn_",
      "execution_count": 146,
      "outputs": []
    },
    {
      "cell_type": "code",
      "source": [
        "planets = ['Mercury', 'Venus', 'Earth', 'Mars', 'Jupiter', 'Saturn', 'Uranus', 'Neptune']\n",
        "for planet in planets:\n",
        "    print(planet, end=' ') # print all on same line"
      ],
      "metadata": {
        "colab": {
          "base_uri": "https://localhost:8080/"
        },
        "id": "Ph9Yac6-bg2H",
        "outputId": "d7a18702-2f14-499a-a12c-fdb8facfb248"
      },
      "id": "Ph9Yac6-bg2H",
      "execution_count": 147,
      "outputs": [
        {
          "output_type": "stream",
          "name": "stdout",
          "text": [
            "Mercury Venus Earth Mars Jupiter Saturn Uranus Neptune "
          ]
        }
      ]
    },
    {
      "cell_type": "code",
      "source": [
        "multiplicands = (2, 2, 2, 3, 3, 5)\n",
        "product = 1\n",
        "for mult in multiplicands:\n",
        "    product = product * mult\n",
        "product"
      ],
      "metadata": {
        "colab": {
          "base_uri": "https://localhost:8080/"
        },
        "id": "VwKWox-BbpHZ",
        "outputId": "25a1fbec-2a69-468d-fe51-67aaf94ffb9e"
      },
      "id": "VwKWox-BbpHZ",
      "execution_count": 148,
      "outputs": [
        {
          "output_type": "execute_result",
          "data": {
            "text/plain": [
              "360"
            ]
          },
          "metadata": {},
          "execution_count": 148
        }
      ]
    },
    {
      "cell_type": "code",
      "source": [
        "s = 'steganograpHy is the practicE of conceaLing a file, message, image, or video within another fiLe, message, image, Or video.'\n",
        "msg = ''\n",
        "# print all the uppercase letters in s, one at a time\n",
        "for char in s:\n",
        "    if char.isupper():\n",
        "        print(char, end='')  "
      ],
      "metadata": {
        "colab": {
          "base_uri": "https://localhost:8080/"
        },
        "id": "f6MUtyhEbtGi",
        "outputId": "08103802-d426-4a96-e33d-40ba9c90bf05"
      },
      "id": "f6MUtyhEbtGi",
      "execution_count": 149,
      "outputs": [
        {
          "output_type": "stream",
          "name": "stdout",
          "text": [
            "HELLO"
          ]
        }
      ]
    },
    {
      "cell_type": "code",
      "source": [
        "for i in range(5):\n",
        "    print(\"Doing important work. i =\", i)"
      ],
      "metadata": {
        "colab": {
          "base_uri": "https://localhost:8080/"
        },
        "id": "SCOj0w5dbzFU",
        "outputId": "5390afaa-e23b-4658-f978-e2ad0cabf457"
      },
      "id": "SCOj0w5dbzFU",
      "execution_count": 150,
      "outputs": [
        {
          "output_type": "stream",
          "name": "stdout",
          "text": [
            "Doing important work. i = 0\n",
            "Doing important work. i = 1\n",
            "Doing important work. i = 2\n",
            "Doing important work. i = 3\n",
            "Doing important work. i = 4\n"
          ]
        }
      ]
    },
    {
      "cell_type": "code",
      "source": [
        "i = 0\n",
        "while i < 10:\n",
        "    print(i, end=' ')\n",
        "    i += 1 # increase the value of i by 1"
      ],
      "metadata": {
        "colab": {
          "base_uri": "https://localhost:8080/"
        },
        "id": "NkLur2U4b1vJ",
        "outputId": "4e55a854-3317-42c3-c8d5-a84fabd58547"
      },
      "id": "NkLur2U4b1vJ",
      "execution_count": 151,
      "outputs": [
        {
          "output_type": "stream",
          "name": "stdout",
          "text": [
            "0 1 2 3 4 5 6 7 8 9 "
          ]
        }
      ]
    },
    {
      "cell_type": "code",
      "source": [
        "squares = [n**2 for n in range(10)]\n",
        "squares"
      ],
      "metadata": {
        "colab": {
          "base_uri": "https://localhost:8080/"
        },
        "id": "_cALs-3Pb5Ds",
        "outputId": "1273eeff-a2b5-4ffa-efde-0f866d9ae8ee"
      },
      "id": "_cALs-3Pb5Ds",
      "execution_count": 152,
      "outputs": [
        {
          "output_type": "execute_result",
          "data": {
            "text/plain": [
              "[0, 1, 4, 9, 16, 25, 36, 49, 64, 81]"
            ]
          },
          "metadata": {},
          "execution_count": 152
        }
      ]
    },
    {
      "cell_type": "code",
      "source": [
        "squares = []\n",
        "for n in range(10):\n",
        "    squares.append(n**2)\n",
        "squares"
      ],
      "metadata": {
        "colab": {
          "base_uri": "https://localhost:8080/"
        },
        "id": "pOrNWKjWb7Fv",
        "outputId": "c2990f98-2510-42ce-fa54-a2519840882b"
      },
      "id": "pOrNWKjWb7Fv",
      "execution_count": 153,
      "outputs": [
        {
          "output_type": "execute_result",
          "data": {
            "text/plain": [
              "[0, 1, 4, 9, 16, 25, 36, 49, 64, 81]"
            ]
          },
          "metadata": {},
          "execution_count": 153
        }
      ]
    },
    {
      "cell_type": "code",
      "source": [
        "short_planets = [planet for planet in planets if len(planet) < 6]\n",
        "short_planets"
      ],
      "metadata": {
        "colab": {
          "base_uri": "https://localhost:8080/"
        },
        "id": "Lrmz7lANcBB0",
        "outputId": "a75d4a70-b633-408a-f783-5351978142be"
      },
      "id": "Lrmz7lANcBB0",
      "execution_count": 154,
      "outputs": [
        {
          "output_type": "execute_result",
          "data": {
            "text/plain": [
              "['Venus', 'Earth', 'Mars']"
            ]
          },
          "metadata": {},
          "execution_count": 154
        }
      ]
    },
    {
      "cell_type": "code",
      "source": [
        "# str.upper() returns an all-caps version of a string\n",
        "loud_short_planets = [planet.upper() + '!' for planet in planets if len(planet) < 6]\n",
        "loud_short_planets"
      ],
      "metadata": {
        "colab": {
          "base_uri": "https://localhost:8080/"
        },
        "id": "O9nw_pELcFvc",
        "outputId": "a49199af-040a-49de-885d-dd7b519d7ba5"
      },
      "id": "O9nw_pELcFvc",
      "execution_count": 155,
      "outputs": [
        {
          "output_type": "execute_result",
          "data": {
            "text/plain": [
              "['VENUS!', 'EARTH!', 'MARS!']"
            ]
          },
          "metadata": {},
          "execution_count": 155
        }
      ]
    },
    {
      "cell_type": "code",
      "source": [
        "[\n",
        "    planet.upper() + '!' \n",
        "    for planet in planets \n",
        "    if len(planet) < 6\n",
        "]"
      ],
      "metadata": {
        "colab": {
          "base_uri": "https://localhost:8080/"
        },
        "id": "-jHpuy4hcKZ9",
        "outputId": "48f175a7-b58a-497e-ad59-67c5b610cd32"
      },
      "id": "-jHpuy4hcKZ9",
      "execution_count": 156,
      "outputs": [
        {
          "output_type": "execute_result",
          "data": {
            "text/plain": [
              "['VENUS!', 'EARTH!', 'MARS!']"
            ]
          },
          "metadata": {},
          "execution_count": 156
        }
      ]
    },
    {
      "cell_type": "code",
      "source": [
        "[32 for planet in planets]"
      ],
      "metadata": {
        "colab": {
          "base_uri": "https://localhost:8080/"
        },
        "id": "p9vQYBIncNO8",
        "outputId": "08612b11-d2c6-4778-f6d3-bed2efaa29ad"
      },
      "id": "p9vQYBIncNO8",
      "execution_count": 157,
      "outputs": [
        {
          "output_type": "execute_result",
          "data": {
            "text/plain": [
              "[32, 32, 32, 32, 32, 32, 32, 32]"
            ]
          },
          "metadata": {},
          "execution_count": 157
        }
      ]
    },
    {
      "cell_type": "code",
      "source": [
        "def count_negatives(nums):\n",
        "    \"\"\"Return the number of negative numbers in the given list.\n",
        "    \n",
        "    >>> count_negatives([5, -1, -2, 0, 3])\n",
        "    2\n",
        "    \"\"\"\n",
        "    n_negative = 0\n",
        "    for num in nums:\n",
        "        if num < 0:\n",
        "            n_negative = n_negative + 1\n",
        "    return n_negative"
      ],
      "metadata": {
        "id": "M3MVMBSWcQlz"
      },
      "id": "M3MVMBSWcQlz",
      "execution_count": 158,
      "outputs": []
    },
    {
      "cell_type": "code",
      "source": [
        "def count_negatives(nums):\n",
        "    return len([num for num in nums if num < 0])"
      ],
      "metadata": {
        "id": "Ba84vkVHcVcL"
      },
      "id": "Ba84vkVHcVcL",
      "execution_count": 159,
      "outputs": []
    },
    {
      "cell_type": "code",
      "source": [
        "def count_negatives(nums):\n",
        "    # Reminder: in the \"booleans and conditionals\" exercises, we learned about a quirk of \n",
        "    # Python where it calculates something like True + True + False + True to be equal to 3.\n",
        "    return sum([num < 0 for num in nums])"
      ],
      "metadata": {
        "id": "iAvuZSY3cYbQ"
      },
      "id": "iAvuZSY3cYbQ",
      "execution_count": 160,
      "outputs": []
    },
    {
      "cell_type": "code",
      "source": [
        "x = 'Pluto is a planet'\n",
        "y = \"Pluto is a planet\"\n",
        "x == y"
      ],
      "metadata": {
        "colab": {
          "base_uri": "https://localhost:8080/"
        },
        "id": "XxngIAkXcebG",
        "outputId": "17ad2415-20c8-41ae-8452-0d4dde490386"
      },
      "id": "XxngIAkXcebG",
      "execution_count": 161,
      "outputs": [
        {
          "output_type": "execute_result",
          "data": {
            "text/plain": [
              "True"
            ]
          },
          "metadata": {},
          "execution_count": 161
        }
      ]
    },
    {
      "cell_type": "code",
      "source": [
        "print(\"Pluto's a planet!\")\n",
        "print('My dog is named \"Pluto\"')"
      ],
      "metadata": {
        "colab": {
          "base_uri": "https://localhost:8080/"
        },
        "id": "pWzVVBU_c0Bl",
        "outputId": "526e154f-bb26-4cb7-e578-3131745b6348"
      },
      "id": "pWzVVBU_c0Bl",
      "execution_count": 162,
      "outputs": [
        {
          "output_type": "stream",
          "name": "stdout",
          "text": [
            "Pluto's a planet!\n",
            "My dog is named \"Pluto\"\n"
          ]
        }
      ]
    },
    {
      "cell_type": "code",
      "source": [
        "'Pluto\\'s a planet!'"
      ],
      "metadata": {
        "colab": {
          "base_uri": "https://localhost:8080/",
          "height": 36
        },
        "id": "COAvnfcwc2k_",
        "outputId": "2258d9d1-f41b-445f-e143-25092182a279"
      },
      "id": "COAvnfcwc2k_",
      "execution_count": 163,
      "outputs": [
        {
          "output_type": "execute_result",
          "data": {
            "text/plain": [
              "\"Pluto's a planet!\""
            ],
            "application/vnd.google.colaboratory.intrinsic+json": {
              "type": "string"
            }
          },
          "metadata": {},
          "execution_count": 163
        }
      ]
    },
    {
      "cell_type": "code",
      "source": [
        "hello = \"hello\\nworld\"\n",
        "print(hello)"
      ],
      "metadata": {
        "colab": {
          "base_uri": "https://localhost:8080/"
        },
        "id": "ZnsX6tuOc6dP",
        "outputId": "b5262c9a-ab48-44ad-8afe-6cc99a6a4e38"
      },
      "id": "ZnsX6tuOc6dP",
      "execution_count": 164,
      "outputs": [
        {
          "output_type": "stream",
          "name": "stdout",
          "text": [
            "hello\n",
            "world\n"
          ]
        }
      ]
    },
    {
      "cell_type": "code",
      "source": [
        "triplequoted_hello = \"\"\"hello\n",
        "world\"\"\"\n",
        "print(triplequoted_hello)\n",
        "triplequoted_hello == hello"
      ],
      "metadata": {
        "colab": {
          "base_uri": "https://localhost:8080/"
        },
        "id": "jHC93aJmc8rY",
        "outputId": "926680ee-2cdb-44dd-c87e-467cb7906a0d"
      },
      "id": "jHC93aJmc8rY",
      "execution_count": 165,
      "outputs": [
        {
          "output_type": "stream",
          "name": "stdout",
          "text": [
            "hello\n",
            "world\n"
          ]
        },
        {
          "output_type": "execute_result",
          "data": {
            "text/plain": [
              "True"
            ]
          },
          "metadata": {},
          "execution_count": 165
        }
      ]
    },
    {
      "cell_type": "code",
      "source": [
        "print(\"hello\")\n",
        "print(\"world\")\n",
        "print(\"hello\", end='')\n",
        "print(\"pluto\", end='')"
      ],
      "metadata": {
        "colab": {
          "base_uri": "https://localhost:8080/"
        },
        "id": "xgit5W86c_Lv",
        "outputId": "67db089a-4474-406e-c322-57538b45bc80"
      },
      "id": "xgit5W86c_Lv",
      "execution_count": 166,
      "outputs": [
        {
          "output_type": "stream",
          "name": "stdout",
          "text": [
            "hello\n",
            "world\n",
            "hellopluto"
          ]
        }
      ]
    },
    {
      "cell_type": "code",
      "source": [
        "# Indexing\n",
        "planet = 'Pluto'\n",
        "planet[0]"
      ],
      "metadata": {
        "colab": {
          "base_uri": "https://localhost:8080/",
          "height": 36
        },
        "id": "jo7oD88-dCPd",
        "outputId": "df452d42-e80a-4228-bfaa-cee12561656d"
      },
      "id": "jo7oD88-dCPd",
      "execution_count": 167,
      "outputs": [
        {
          "output_type": "execute_result",
          "data": {
            "text/plain": [
              "'P'"
            ],
            "application/vnd.google.colaboratory.intrinsic+json": {
              "type": "string"
            }
          },
          "metadata": {},
          "execution_count": 167
        }
      ]
    },
    {
      "cell_type": "code",
      "source": [
        "# Slicing\n",
        "planet[-3:]"
      ],
      "metadata": {
        "colab": {
          "base_uri": "https://localhost:8080/",
          "height": 36
        },
        "id": "o_Df7l2adEfe",
        "outputId": "cf3a9296-a37d-4b24-836c-7c14eccccf7f"
      },
      "id": "o_Df7l2adEfe",
      "execution_count": 168,
      "outputs": [
        {
          "output_type": "execute_result",
          "data": {
            "text/plain": [
              "'uto'"
            ],
            "application/vnd.google.colaboratory.intrinsic+json": {
              "type": "string"
            }
          },
          "metadata": {},
          "execution_count": 168
        }
      ]
    },
    {
      "cell_type": "code",
      "source": [
        "# How long is this string?\n",
        "len(planet)"
      ],
      "metadata": {
        "colab": {
          "base_uri": "https://localhost:8080/"
        },
        "id": "AXITM5TkdGs8",
        "outputId": "bc2747ae-4327-4d90-9941-d5121f0e240b"
      },
      "id": "AXITM5TkdGs8",
      "execution_count": 169,
      "outputs": [
        {
          "output_type": "execute_result",
          "data": {
            "text/plain": [
              "5"
            ]
          },
          "metadata": {},
          "execution_count": 169
        }
      ]
    },
    {
      "cell_type": "code",
      "source": [
        "# Yes, we can even loop over them\n",
        "[char+'! ' for char in planet]"
      ],
      "metadata": {
        "colab": {
          "base_uri": "https://localhost:8080/"
        },
        "id": "a9ybm0e1dIuc",
        "outputId": "8b4c5379-d5a6-445e-8bba-bad9bc871a91"
      },
      "id": "a9ybm0e1dIuc",
      "execution_count": 170,
      "outputs": [
        {
          "output_type": "execute_result",
          "data": {
            "text/plain": [
              "['P! ', 'l! ', 'u! ', 't! ', 'o! ']"
            ]
          },
          "metadata": {},
          "execution_count": 170
        }
      ]
    },
    {
      "cell_type": "code",
      "source": [
        "# ALL CAPS\n",
        "claim = \"Pluto is a planet!\"\n",
        "claim.upper()"
      ],
      "metadata": {
        "colab": {
          "base_uri": "https://localhost:8080/",
          "height": 36
        },
        "id": "vEESbGDDdL8N",
        "outputId": "14f01501-5eda-4f8f-ca41-5f61b83d1b92"
      },
      "id": "vEESbGDDdL8N",
      "execution_count": 171,
      "outputs": [
        {
          "output_type": "execute_result",
          "data": {
            "text/plain": [
              "'PLUTO IS A PLANET!'"
            ],
            "application/vnd.google.colaboratory.intrinsic+json": {
              "type": "string"
            }
          },
          "metadata": {},
          "execution_count": 171
        }
      ]
    },
    {
      "cell_type": "code",
      "source": [
        "# all lowercase\n",
        "claim.lower()"
      ],
      "metadata": {
        "colab": {
          "base_uri": "https://localhost:8080/",
          "height": 36
        },
        "id": "4F25nG7DdO7Y",
        "outputId": "4717d587-5bf3-4797-c668-80af85835801"
      },
      "id": "4F25nG7DdO7Y",
      "execution_count": 172,
      "outputs": [
        {
          "output_type": "execute_result",
          "data": {
            "text/plain": [
              "'pluto is a planet!'"
            ],
            "application/vnd.google.colaboratory.intrinsic+json": {
              "type": "string"
            }
          },
          "metadata": {},
          "execution_count": 172
        }
      ]
    },
    {
      "cell_type": "code",
      "source": [
        "# Searching for the first index of a substring\n",
        "claim.index('plan')"
      ],
      "metadata": {
        "colab": {
          "base_uri": "https://localhost:8080/"
        },
        "id": "lR6syYOPdQ7O",
        "outputId": "d2acaa94-1c92-428e-8157-2062a414ed64"
      },
      "id": "lR6syYOPdQ7O",
      "execution_count": 173,
      "outputs": [
        {
          "output_type": "execute_result",
          "data": {
            "text/plain": [
              "11"
            ]
          },
          "metadata": {},
          "execution_count": 173
        }
      ]
    },
    {
      "cell_type": "code",
      "source": [
        "claim.startswith(planet)"
      ],
      "metadata": {
        "colab": {
          "base_uri": "https://localhost:8080/"
        },
        "id": "Z8Ra0SfTdT_H",
        "outputId": "2a8bf560-eae0-464b-a9e5-2dfad81df4f2"
      },
      "id": "Z8Ra0SfTdT_H",
      "execution_count": 174,
      "outputs": [
        {
          "output_type": "execute_result",
          "data": {
            "text/plain": [
              "True"
            ]
          },
          "metadata": {},
          "execution_count": 174
        }
      ]
    },
    {
      "cell_type": "code",
      "source": [
        "# false because of missing exclamation mark\n",
        "claim.endswith('planet')"
      ],
      "metadata": {
        "colab": {
          "base_uri": "https://localhost:8080/"
        },
        "id": "qHZENEQYdYAO",
        "outputId": "13a645f8-060b-4790-d715-11ddcccfee26"
      },
      "id": "qHZENEQYdYAO",
      "execution_count": 175,
      "outputs": [
        {
          "output_type": "execute_result",
          "data": {
            "text/plain": [
              "False"
            ]
          },
          "metadata": {},
          "execution_count": 175
        }
      ]
    },
    {
      "cell_type": "code",
      "source": [
        "words = claim.split()\n",
        "words"
      ],
      "metadata": {
        "colab": {
          "base_uri": "https://localhost:8080/"
        },
        "id": "E154nvWidWDH",
        "outputId": "2df89024-2f53-4548-ebbf-dcddf2ef1bb8"
      },
      "id": "E154nvWidWDH",
      "execution_count": 176,
      "outputs": [
        {
          "output_type": "execute_result",
          "data": {
            "text/plain": [
              "['Pluto', 'is', 'a', 'planet!']"
            ]
          },
          "metadata": {},
          "execution_count": 176
        }
      ]
    },
    {
      "cell_type": "code",
      "source": [
        "datestr = '1956-01-31'\n",
        "year, month, day = datestr.split('-')"
      ],
      "metadata": {
        "id": "FPyyul-Mda92"
      },
      "id": "FPyyul-Mda92",
      "execution_count": 177,
      "outputs": []
    },
    {
      "cell_type": "code",
      "source": [
        "'/'.join([month, day, year])"
      ],
      "metadata": {
        "colab": {
          "base_uri": "https://localhost:8080/",
          "height": 36
        },
        "id": "5g6wkxk-ddQL",
        "outputId": "4f157f3b-b834-49a5-dac0-9bee73c67fa5"
      },
      "id": "5g6wkxk-ddQL",
      "execution_count": 178,
      "outputs": [
        {
          "output_type": "execute_result",
          "data": {
            "text/plain": [
              "'01/31/1956'"
            ],
            "application/vnd.google.colaboratory.intrinsic+json": {
              "type": "string"
            }
          },
          "metadata": {},
          "execution_count": 178
        }
      ]
    },
    {
      "cell_type": "code",
      "source": [
        "' 👏 '.join([word.upper() for word in words])"
      ],
      "metadata": {
        "colab": {
          "base_uri": "https://localhost:8080/",
          "height": 36
        },
        "id": "-hr8iiWmdfyz",
        "outputId": "e162ec85-8dc4-434f-b818-3d01287d4aad"
      },
      "id": "-hr8iiWmdfyz",
      "execution_count": 179,
      "outputs": [
        {
          "output_type": "execute_result",
          "data": {
            "text/plain": [
              "'PLUTO 👏 IS 👏 A 👏 PLANET!'"
            ],
            "application/vnd.google.colaboratory.intrinsic+json": {
              "type": "string"
            }
          },
          "metadata": {},
          "execution_count": 179
        }
      ]
    },
    {
      "cell_type": "code",
      "source": [
        "planet + ', we miss you.'"
      ],
      "metadata": {
        "colab": {
          "base_uri": "https://localhost:8080/",
          "height": 36
        },
        "id": "eQ96L01Jdirr",
        "outputId": "f1a4a5cb-65b1-42f8-b791-75e605d0e8ab"
      },
      "id": "eQ96L01Jdirr",
      "execution_count": 180,
      "outputs": [
        {
          "output_type": "execute_result",
          "data": {
            "text/plain": [
              "'Pluto, we miss you.'"
            ],
            "application/vnd.google.colaboratory.intrinsic+json": {
              "type": "string"
            }
          },
          "metadata": {},
          "execution_count": 180
        }
      ]
    },
    {
      "cell_type": "code",
      "source": [
        "pluto_mass = 1.303 * 10**22\n",
        "earth_mass = 5.9722 * 10**24\n",
        "population = 52910390\n",
        "#         2 decimal points   3 decimal points, format as percent     separate with commas\n",
        "\"{} weighs about {:.2} kilograms ({:.3%} of Earth's mass). It is home to {:,} Plutonians.\".format(\n",
        "    planet, pluto_mass, pluto_mass / earth_mass, population,\n",
        ")"
      ],
      "metadata": {
        "colab": {
          "base_uri": "https://localhost:8080/",
          "height": 53
        },
        "id": "t_e7MJEAdqQj",
        "outputId": "f95d4e67-0d96-4ad1-ec22-6916afffe057"
      },
      "id": "t_e7MJEAdqQj",
      "execution_count": 181,
      "outputs": [
        {
          "output_type": "execute_result",
          "data": {
            "text/plain": [
              "\"Pluto weighs about 1.3e+22 kilograms (0.218% of Earth's mass). It is home to 52,910,390 Plutonians.\""
            ],
            "application/vnd.google.colaboratory.intrinsic+json": {
              "type": "string"
            }
          },
          "metadata": {},
          "execution_count": 181
        }
      ]
    },
    {
      "cell_type": "code",
      "source": [
        "# Referring to format() arguments by index, starting from 0\n",
        "s = \"\"\"Pluto's a {0}.\n",
        "No, it's a {1}.\n",
        "{0}!\n",
        "{1}!\"\"\".format('planet', 'dwarf planet')\n",
        "print(s)"
      ],
      "metadata": {
        "colab": {
          "base_uri": "https://localhost:8080/"
        },
        "id": "20ZPPZeAeAXl",
        "outputId": "74a98f5e-0e93-4565-a7ea-2b57467ee2b7"
      },
      "id": "20ZPPZeAeAXl",
      "execution_count": 182,
      "outputs": [
        {
          "output_type": "stream",
          "name": "stdout",
          "text": [
            "Pluto's a planet.\n",
            "No, it's a dwarf planet.\n",
            "planet!\n",
            "dwarf planet!\n"
          ]
        }
      ]
    },
    {
      "cell_type": "code",
      "source": [
        "numbers = {'one':1, 'two':2, 'three':3}"
      ],
      "metadata": {
        "id": "LdCqVcZceCu5"
      },
      "id": "LdCqVcZceCu5",
      "execution_count": 183,
      "outputs": []
    },
    {
      "cell_type": "code",
      "source": [
        "numbers['one']"
      ],
      "metadata": {
        "colab": {
          "base_uri": "https://localhost:8080/"
        },
        "id": "-b9wFOY2eFao",
        "outputId": "88fe5d4d-321b-4c99-8391-654d25d96448"
      },
      "id": "-b9wFOY2eFao",
      "execution_count": 184,
      "outputs": [
        {
          "output_type": "execute_result",
          "data": {
            "text/plain": [
              "1"
            ]
          },
          "metadata": {},
          "execution_count": 184
        }
      ]
    },
    {
      "cell_type": "code",
      "source": [
        "numbers['eleven'] = 11\n",
        "numbers"
      ],
      "metadata": {
        "colab": {
          "base_uri": "https://localhost:8080/"
        },
        "id": "dlFtlJwdeIIQ",
        "outputId": "24f76671-c55b-40cd-d8cf-897c9a5b0d64"
      },
      "id": "dlFtlJwdeIIQ",
      "execution_count": 185,
      "outputs": [
        {
          "output_type": "execute_result",
          "data": {
            "text/plain": [
              "{'one': 1, 'two': 2, 'three': 3, 'eleven': 11}"
            ]
          },
          "metadata": {},
          "execution_count": 185
        }
      ]
    },
    {
      "cell_type": "code",
      "source": [
        "numbers['one'] = 'Pluto'\n",
        "numbers"
      ],
      "metadata": {
        "colab": {
          "base_uri": "https://localhost:8080/"
        },
        "id": "5DQGmRCTeKCu",
        "outputId": "af7db8b1-80c5-43e6-ced6-64c14c6dcfb7"
      },
      "id": "5DQGmRCTeKCu",
      "execution_count": 186,
      "outputs": [
        {
          "output_type": "execute_result",
          "data": {
            "text/plain": [
              "{'one': 'Pluto', 'two': 2, 'three': 3, 'eleven': 11}"
            ]
          },
          "metadata": {},
          "execution_count": 186
        }
      ]
    },
    {
      "cell_type": "code",
      "source": [
        "planets = ['Mercury', 'Venus', 'Earth', 'Mars', 'Jupiter', 'Saturn', 'Uranus', 'Neptune']\n",
        "planet_to_initial = {planet: planet[0] for planet in planets}\n",
        "planet_to_initial"
      ],
      "metadata": {
        "colab": {
          "base_uri": "https://localhost:8080/"
        },
        "id": "9_1m9kpheN6X",
        "outputId": "7174a63f-1c5b-42df-c42d-5f9be329da2e"
      },
      "id": "9_1m9kpheN6X",
      "execution_count": 187,
      "outputs": [
        {
          "output_type": "execute_result",
          "data": {
            "text/plain": [
              "{'Mercury': 'M',\n",
              " 'Venus': 'V',\n",
              " 'Earth': 'E',\n",
              " 'Mars': 'M',\n",
              " 'Jupiter': 'J',\n",
              " 'Saturn': 'S',\n",
              " 'Uranus': 'U',\n",
              " 'Neptune': 'N'}"
            ]
          },
          "metadata": {},
          "execution_count": 187
        }
      ]
    },
    {
      "cell_type": "code",
      "source": [
        "'Saturn' in planet_to_initial"
      ],
      "metadata": {
        "colab": {
          "base_uri": "https://localhost:8080/"
        },
        "id": "q-CljizxeReO",
        "outputId": "4bfdcb61-4baa-454a-9caf-c908dbf0a9dd"
      },
      "id": "q-CljizxeReO",
      "execution_count": 188,
      "outputs": [
        {
          "output_type": "execute_result",
          "data": {
            "text/plain": [
              "True"
            ]
          },
          "metadata": {},
          "execution_count": 188
        }
      ]
    },
    {
      "cell_type": "code",
      "source": [
        "'Betelgeuse' in planet_to_initial"
      ],
      "metadata": {
        "colab": {
          "base_uri": "https://localhost:8080/"
        },
        "id": "ZjnCYm-zeVk1",
        "outputId": "92e8c7aa-4934-450b-85e5-43b902ed262a"
      },
      "id": "ZjnCYm-zeVk1",
      "execution_count": 189,
      "outputs": [
        {
          "output_type": "execute_result",
          "data": {
            "text/plain": [
              "False"
            ]
          },
          "metadata": {},
          "execution_count": 189
        }
      ]
    },
    {
      "cell_type": "code",
      "source": [
        "for k in numbers:\n",
        "    print(\"{} = {}\".format(k, numbers[k]))"
      ],
      "metadata": {
        "colab": {
          "base_uri": "https://localhost:8080/"
        },
        "id": "_6jGx1OLeYk-",
        "outputId": "fa7b3bdf-4a03-471d-9137-4c3f416d18f8"
      },
      "id": "_6jGx1OLeYk-",
      "execution_count": 190,
      "outputs": [
        {
          "output_type": "stream",
          "name": "stdout",
          "text": [
            "one = Pluto\n",
            "two = 2\n",
            "three = 3\n",
            "eleven = 11\n"
          ]
        }
      ]
    },
    {
      "cell_type": "code",
      "source": [
        "# Get all the initials, sort them alphabetically, and put them in a space-separated string.\n",
        "' '.join(sorted(planet_to_initial.values()))"
      ],
      "metadata": {
        "colab": {
          "base_uri": "https://localhost:8080/",
          "height": 36
        },
        "id": "AR5Z30B2efXG",
        "outputId": "63c563c8-f436-46fa-af28-9b162f8b4135"
      },
      "id": "AR5Z30B2efXG",
      "execution_count": 191,
      "outputs": [
        {
          "output_type": "execute_result",
          "data": {
            "text/plain": [
              "'E J M M N S U V'"
            ],
            "application/vnd.google.colaboratory.intrinsic+json": {
              "type": "string"
            }
          },
          "metadata": {},
          "execution_count": 191
        }
      ]
    },
    {
      "cell_type": "code",
      "source": [
        "for planet, initial in planet_to_initial.items():\n",
        "    print(\"{} begins with \\\"{}\\\"\".format(planet.rjust(10), initial))"
      ],
      "metadata": {
        "colab": {
          "base_uri": "https://localhost:8080/"
        },
        "id": "5BYhiUroeits",
        "outputId": "6d204727-43cc-4fea-b3d1-14e37832c444"
      },
      "id": "5BYhiUroeits",
      "execution_count": 192,
      "outputs": [
        {
          "output_type": "stream",
          "name": "stdout",
          "text": [
            "   Mercury begins with \"M\"\n",
            "     Venus begins with \"V\"\n",
            "     Earth begins with \"E\"\n",
            "      Mars begins with \"M\"\n",
            "   Jupiter begins with \"J\"\n",
            "    Saturn begins with \"S\"\n",
            "    Uranus begins with \"U\"\n",
            "   Neptune begins with \"N\"\n"
          ]
        }
      ]
    },
    {
      "cell_type": "code",
      "source": [
        "help(dict)"
      ],
      "metadata": {
        "colab": {
          "base_uri": "https://localhost:8080/"
        },
        "id": "MpTvNUx3em5J",
        "outputId": "b192b951-55eb-4b5d-a47e-c20b1ad8191d"
      },
      "id": "MpTvNUx3em5J",
      "execution_count": 193,
      "outputs": [
        {
          "output_type": "stream",
          "name": "stdout",
          "text": [
            "Help on class dict in module builtins:\n",
            "\n",
            "class dict(object)\n",
            " |  dict() -> new empty dictionary\n",
            " |  dict(mapping) -> new dictionary initialized from a mapping object's\n",
            " |      (key, value) pairs\n",
            " |  dict(iterable) -> new dictionary initialized as if via:\n",
            " |      d = {}\n",
            " |      for k, v in iterable:\n",
            " |          d[k] = v\n",
            " |  dict(**kwargs) -> new dictionary initialized with the name=value pairs\n",
            " |      in the keyword argument list.  For example:  dict(one=1, two=2)\n",
            " |  \n",
            " |  Built-in subclasses:\n",
            " |      StgDict\n",
            " |  \n",
            " |  Methods defined here:\n",
            " |  \n",
            " |  __contains__(self, key, /)\n",
            " |      True if the dictionary has the specified key, else False.\n",
            " |  \n",
            " |  __delitem__(self, key, /)\n",
            " |      Delete self[key].\n",
            " |  \n",
            " |  __eq__(self, value, /)\n",
            " |      Return self==value.\n",
            " |  \n",
            " |  __ge__(self, value, /)\n",
            " |      Return self>=value.\n",
            " |  \n",
            " |  __getattribute__(self, name, /)\n",
            " |      Return getattr(self, name).\n",
            " |  \n",
            " |  __getitem__(...)\n",
            " |      x.__getitem__(y) <==> x[y]\n",
            " |  \n",
            " |  __gt__(self, value, /)\n",
            " |      Return self>value.\n",
            " |  \n",
            " |  __init__(self, /, *args, **kwargs)\n",
            " |      Initialize self.  See help(type(self)) for accurate signature.\n",
            " |  \n",
            " |  __iter__(self, /)\n",
            " |      Implement iter(self).\n",
            " |  \n",
            " |  __le__(self, value, /)\n",
            " |      Return self<=value.\n",
            " |  \n",
            " |  __len__(self, /)\n",
            " |      Return len(self).\n",
            " |  \n",
            " |  __lt__(self, value, /)\n",
            " |      Return self<value.\n",
            " |  \n",
            " |  __ne__(self, value, /)\n",
            " |      Return self!=value.\n",
            " |  \n",
            " |  __repr__(self, /)\n",
            " |      Return repr(self).\n",
            " |  \n",
            " |  __reversed__(self, /)\n",
            " |      Return a reverse iterator over the dict keys.\n",
            " |  \n",
            " |  __setitem__(self, key, value, /)\n",
            " |      Set self[key] to value.\n",
            " |  \n",
            " |  __sizeof__(...)\n",
            " |      D.__sizeof__() -> size of D in memory, in bytes\n",
            " |  \n",
            " |  clear(...)\n",
            " |      D.clear() -> None.  Remove all items from D.\n",
            " |  \n",
            " |  copy(...)\n",
            " |      D.copy() -> a shallow copy of D\n",
            " |  \n",
            " |  get(self, key, default=None, /)\n",
            " |      Return the value for key if key is in the dictionary, else default.\n",
            " |  \n",
            " |  items(...)\n",
            " |      D.items() -> a set-like object providing a view on D's items\n",
            " |  \n",
            " |  keys(...)\n",
            " |      D.keys() -> a set-like object providing a view on D's keys\n",
            " |  \n",
            " |  pop(...)\n",
            " |      D.pop(k[,d]) -> v, remove specified key and return the corresponding value.\n",
            " |      If key is not found, d is returned if given, otherwise KeyError is raised\n",
            " |  \n",
            " |  popitem(self, /)\n",
            " |      Remove and return a (key, value) pair as a 2-tuple.\n",
            " |      \n",
            " |      Pairs are returned in LIFO (last-in, first-out) order.\n",
            " |      Raises KeyError if the dict is empty.\n",
            " |  \n",
            " |  setdefault(self, key, default=None, /)\n",
            " |      Insert key with a value of default if key is not in the dictionary.\n",
            " |      \n",
            " |      Return the value for key if key is in the dictionary, else default.\n",
            " |  \n",
            " |  update(...)\n",
            " |      D.update([E, ]**F) -> None.  Update D from dict/iterable E and F.\n",
            " |      If E is present and has a .keys() method, then does:  for k in E: D[k] = E[k]\n",
            " |      If E is present and lacks a .keys() method, then does:  for k, v in E: D[k] = v\n",
            " |      In either case, this is followed by: for k in F:  D[k] = F[k]\n",
            " |  \n",
            " |  values(...)\n",
            " |      D.values() -> an object providing a view on D's values\n",
            " |  \n",
            " |  ----------------------------------------------------------------------\n",
            " |  Class methods defined here:\n",
            " |  \n",
            " |  fromkeys(iterable, value=None, /) from builtins.type\n",
            " |      Create a new dictionary with keys from iterable and values set to value.\n",
            " |  \n",
            " |  ----------------------------------------------------------------------\n",
            " |  Static methods defined here:\n",
            " |  \n",
            " |  __new__(*args, **kwargs) from builtins.type\n",
            " |      Create and return a new object.  See help(type) for accurate signature.\n",
            " |  \n",
            " |  ----------------------------------------------------------------------\n",
            " |  Data and other attributes defined here:\n",
            " |  \n",
            " |  __hash__ = None\n",
            "\n"
          ]
        }
      ]
    },
    {
      "cell_type": "code",
      "source": [
        "import math\n",
        "\n",
        "print(\"It's math! It has type {}\".format(type(math)))"
      ],
      "metadata": {
        "colab": {
          "base_uri": "https://localhost:8080/"
        },
        "id": "IOsyQBxZe0PV",
        "outputId": "0add40b7-37ee-421b-c8c0-891fd5eab502"
      },
      "id": "IOsyQBxZe0PV",
      "execution_count": 194,
      "outputs": [
        {
          "output_type": "stream",
          "name": "stdout",
          "text": [
            "It's math! It has type <class 'module'>\n"
          ]
        }
      ]
    },
    {
      "cell_type": "code",
      "source": [
        "print(dir(math))"
      ],
      "metadata": {
        "colab": {
          "base_uri": "https://localhost:8080/"
        },
        "id": "W_ih2VLSevxG",
        "outputId": "77246fb2-5e35-4df3-c91a-d14f852d56c5"
      },
      "id": "W_ih2VLSevxG",
      "execution_count": 195,
      "outputs": [
        {
          "output_type": "stream",
          "name": "stdout",
          "text": [
            "['__doc__', '__loader__', '__name__', '__package__', '__spec__', 'acos', 'acosh', 'asin', 'asinh', 'atan', 'atan2', 'atanh', 'ceil', 'comb', 'copysign', 'cos', 'cosh', 'degrees', 'dist', 'e', 'erf', 'erfc', 'exp', 'expm1', 'fabs', 'factorial', 'floor', 'fmod', 'frexp', 'fsum', 'gamma', 'gcd', 'hypot', 'inf', 'isclose', 'isfinite', 'isinf', 'isnan', 'isqrt', 'ldexp', 'lgamma', 'log', 'log10', 'log1p', 'log2', 'modf', 'nan', 'perm', 'pi', 'pow', 'prod', 'radians', 'remainder', 'sin', 'sinh', 'sqrt', 'tan', 'tanh', 'tau', 'trunc']\n"
          ]
        }
      ]
    },
    {
      "cell_type": "code",
      "source": [
        "print(\"pi to 4 significant digits = {:.4}\".format(math.pi))"
      ],
      "metadata": {
        "colab": {
          "base_uri": "https://localhost:8080/"
        },
        "id": "2kuDBV6hfC_Y",
        "outputId": "980229de-7738-4952-9053-3954a3fa711d"
      },
      "id": "2kuDBV6hfC_Y",
      "execution_count": 196,
      "outputs": [
        {
          "output_type": "stream",
          "name": "stdout",
          "text": [
            "pi to 4 significant digits = 3.142\n"
          ]
        }
      ]
    },
    {
      "cell_type": "code",
      "source": [
        "math.log(32, 2)"
      ],
      "metadata": {
        "colab": {
          "base_uri": "https://localhost:8080/"
        },
        "id": "ODiYkB9GfGoW",
        "outputId": "b88d7aa3-5a6b-495d-cbee-e3fb265e4aef"
      },
      "id": "ODiYkB9GfGoW",
      "execution_count": 197,
      "outputs": [
        {
          "output_type": "execute_result",
          "data": {
            "text/plain": [
              "5.0"
            ]
          },
          "metadata": {},
          "execution_count": 197
        }
      ]
    },
    {
      "cell_type": "code",
      "source": [
        "help(math.log)"
      ],
      "metadata": {
        "colab": {
          "base_uri": "https://localhost:8080/"
        },
        "id": "gd7ffQNmfJG9",
        "outputId": "1f73755d-9d62-4433-8d31-157871141944"
      },
      "id": "gd7ffQNmfJG9",
      "execution_count": 198,
      "outputs": [
        {
          "output_type": "stream",
          "name": "stdout",
          "text": [
            "Help on built-in function log in module math:\n",
            "\n",
            "log(...)\n",
            "    log(x, [base=math.e])\n",
            "    Return the logarithm of x to the given base.\n",
            "    \n",
            "    If the base not specified, returns the natural logarithm (base e) of x.\n",
            "\n"
          ]
        }
      ]
    },
    {
      "cell_type": "code",
      "source": [
        "help(math)"
      ],
      "metadata": {
        "colab": {
          "base_uri": "https://localhost:8080/"
        },
        "id": "1whoSIg3fLfl",
        "outputId": "9040f726-6ce6-4a74-bdd2-75f65e7735a6"
      },
      "id": "1whoSIg3fLfl",
      "execution_count": 199,
      "outputs": [
        {
          "output_type": "stream",
          "name": "stdout",
          "text": [
            "Help on built-in module math:\n",
            "\n",
            "NAME\n",
            "    math\n",
            "\n",
            "DESCRIPTION\n",
            "    This module provides access to the mathematical functions\n",
            "    defined by the C standard.\n",
            "\n",
            "FUNCTIONS\n",
            "    acos(x, /)\n",
            "        Return the arc cosine (measured in radians) of x.\n",
            "    \n",
            "    acosh(x, /)\n",
            "        Return the inverse hyperbolic cosine of x.\n",
            "    \n",
            "    asin(x, /)\n",
            "        Return the arc sine (measured in radians) of x.\n",
            "    \n",
            "    asinh(x, /)\n",
            "        Return the inverse hyperbolic sine of x.\n",
            "    \n",
            "    atan(x, /)\n",
            "        Return the arc tangent (measured in radians) of x.\n",
            "    \n",
            "    atan2(y, x, /)\n",
            "        Return the arc tangent (measured in radians) of y/x.\n",
            "        \n",
            "        Unlike atan(y/x), the signs of both x and y are considered.\n",
            "    \n",
            "    atanh(x, /)\n",
            "        Return the inverse hyperbolic tangent of x.\n",
            "    \n",
            "    ceil(x, /)\n",
            "        Return the ceiling of x as an Integral.\n",
            "        \n",
            "        This is the smallest integer >= x.\n",
            "    \n",
            "    comb(n, k, /)\n",
            "        Number of ways to choose k items from n items without repetition and without order.\n",
            "        \n",
            "        Evaluates to n! / (k! * (n - k)!) when k <= n and evaluates\n",
            "        to zero when k > n.\n",
            "        \n",
            "        Also called the binomial coefficient because it is equivalent\n",
            "        to the coefficient of k-th term in polynomial expansion of the\n",
            "        expression (1 + x)**n.\n",
            "        \n",
            "        Raises TypeError if either of the arguments are not integers.\n",
            "        Raises ValueError if either of the arguments are negative.\n",
            "    \n",
            "    copysign(x, y, /)\n",
            "        Return a float with the magnitude (absolute value) of x but the sign of y.\n",
            "        \n",
            "        On platforms that support signed zeros, copysign(1.0, -0.0)\n",
            "        returns -1.0.\n",
            "    \n",
            "    cos(x, /)\n",
            "        Return the cosine of x (measured in radians).\n",
            "    \n",
            "    cosh(x, /)\n",
            "        Return the hyperbolic cosine of x.\n",
            "    \n",
            "    degrees(x, /)\n",
            "        Convert angle x from radians to degrees.\n",
            "    \n",
            "    dist(p, q, /)\n",
            "        Return the Euclidean distance between two points p and q.\n",
            "        \n",
            "        The points should be specified as sequences (or iterables) of\n",
            "        coordinates.  Both inputs must have the same dimension.\n",
            "        \n",
            "        Roughly equivalent to:\n",
            "            sqrt(sum((px - qx) ** 2.0 for px, qx in zip(p, q)))\n",
            "    \n",
            "    erf(x, /)\n",
            "        Error function at x.\n",
            "    \n",
            "    erfc(x, /)\n",
            "        Complementary error function at x.\n",
            "    \n",
            "    exp(x, /)\n",
            "        Return e raised to the power of x.\n",
            "    \n",
            "    expm1(x, /)\n",
            "        Return exp(x)-1.\n",
            "        \n",
            "        This function avoids the loss of precision involved in the direct evaluation of exp(x)-1 for small x.\n",
            "    \n",
            "    fabs(x, /)\n",
            "        Return the absolute value of the float x.\n",
            "    \n",
            "    factorial(x, /)\n",
            "        Find x!.\n",
            "        \n",
            "        Raise a ValueError if x is negative or non-integral.\n",
            "    \n",
            "    floor(x, /)\n",
            "        Return the floor of x as an Integral.\n",
            "        \n",
            "        This is the largest integer <= x.\n",
            "    \n",
            "    fmod(x, y, /)\n",
            "        Return fmod(x, y), according to platform C.\n",
            "        \n",
            "        x % y may differ.\n",
            "    \n",
            "    frexp(x, /)\n",
            "        Return the mantissa and exponent of x, as pair (m, e).\n",
            "        \n",
            "        m is a float and e is an int, such that x = m * 2.**e.\n",
            "        If x is 0, m and e are both 0.  Else 0.5 <= abs(m) < 1.0.\n",
            "    \n",
            "    fsum(seq, /)\n",
            "        Return an accurate floating point sum of values in the iterable seq.\n",
            "        \n",
            "        Assumes IEEE-754 floating point arithmetic.\n",
            "    \n",
            "    gamma(x, /)\n",
            "        Gamma function at x.\n",
            "    \n",
            "    gcd(x, y, /)\n",
            "        greatest common divisor of x and y\n",
            "    \n",
            "    hypot(...)\n",
            "        hypot(*coordinates) -> value\n",
            "        \n",
            "        Multidimensional Euclidean distance from the origin to a point.\n",
            "        \n",
            "        Roughly equivalent to:\n",
            "            sqrt(sum(x**2 for x in coordinates))\n",
            "        \n",
            "        For a two dimensional point (x, y), gives the hypotenuse\n",
            "        using the Pythagorean theorem:  sqrt(x*x + y*y).\n",
            "        \n",
            "        For example, the hypotenuse of a 3/4/5 right triangle is:\n",
            "        \n",
            "            >>> hypot(3.0, 4.0)\n",
            "            5.0\n",
            "    \n",
            "    isclose(a, b, *, rel_tol=1e-09, abs_tol=0.0)\n",
            "        Determine whether two floating point numbers are close in value.\n",
            "        \n",
            "          rel_tol\n",
            "            maximum difference for being considered \"close\", relative to the\n",
            "            magnitude of the input values\n",
            "          abs_tol\n",
            "            maximum difference for being considered \"close\", regardless of the\n",
            "            magnitude of the input values\n",
            "        \n",
            "        Return True if a is close in value to b, and False otherwise.\n",
            "        \n",
            "        For the values to be considered close, the difference between them\n",
            "        must be smaller than at least one of the tolerances.\n",
            "        \n",
            "        -inf, inf and NaN behave similarly to the IEEE 754 Standard.  That\n",
            "        is, NaN is not close to anything, even itself.  inf and -inf are\n",
            "        only close to themselves.\n",
            "    \n",
            "    isfinite(x, /)\n",
            "        Return True if x is neither an infinity nor a NaN, and False otherwise.\n",
            "    \n",
            "    isinf(x, /)\n",
            "        Return True if x is a positive or negative infinity, and False otherwise.\n",
            "    \n",
            "    isnan(x, /)\n",
            "        Return True if x is a NaN (not a number), and False otherwise.\n",
            "    \n",
            "    isqrt(n, /)\n",
            "        Return the integer part of the square root of the input.\n",
            "    \n",
            "    ldexp(x, i, /)\n",
            "        Return x * (2**i).\n",
            "        \n",
            "        This is essentially the inverse of frexp().\n",
            "    \n",
            "    lgamma(x, /)\n",
            "        Natural logarithm of absolute value of Gamma function at x.\n",
            "    \n",
            "    log(...)\n",
            "        log(x, [base=math.e])\n",
            "        Return the logarithm of x to the given base.\n",
            "        \n",
            "        If the base not specified, returns the natural logarithm (base e) of x.\n",
            "    \n",
            "    log10(x, /)\n",
            "        Return the base 10 logarithm of x.\n",
            "    \n",
            "    log1p(x, /)\n",
            "        Return the natural logarithm of 1+x (base e).\n",
            "        \n",
            "        The result is computed in a way which is accurate for x near zero.\n",
            "    \n",
            "    log2(x, /)\n",
            "        Return the base 2 logarithm of x.\n",
            "    \n",
            "    modf(x, /)\n",
            "        Return the fractional and integer parts of x.\n",
            "        \n",
            "        Both results carry the sign of x and are floats.\n",
            "    \n",
            "    perm(n, k=None, /)\n",
            "        Number of ways to choose k items from n items without repetition and with order.\n",
            "        \n",
            "        Evaluates to n! / (n - k)! when k <= n and evaluates\n",
            "        to zero when k > n.\n",
            "        \n",
            "        If k is not specified or is None, then k defaults to n\n",
            "        and the function returns n!.\n",
            "        \n",
            "        Raises TypeError if either of the arguments are not integers.\n",
            "        Raises ValueError if either of the arguments are negative.\n",
            "    \n",
            "    pow(x, y, /)\n",
            "        Return x**y (x to the power of y).\n",
            "    \n",
            "    prod(iterable, /, *, start=1)\n",
            "        Calculate the product of all the elements in the input iterable.\n",
            "        \n",
            "        The default start value for the product is 1.\n",
            "        \n",
            "        When the iterable is empty, return the start value.  This function is\n",
            "        intended specifically for use with numeric values and may reject\n",
            "        non-numeric types.\n",
            "    \n",
            "    radians(x, /)\n",
            "        Convert angle x from degrees to radians.\n",
            "    \n",
            "    remainder(x, y, /)\n",
            "        Difference between x and the closest integer multiple of y.\n",
            "        \n",
            "        Return x - n*y where n*y is the closest integer multiple of y.\n",
            "        In the case where x is exactly halfway between two multiples of\n",
            "        y, the nearest even value of n is used. The result is always exact.\n",
            "    \n",
            "    sin(x, /)\n",
            "        Return the sine of x (measured in radians).\n",
            "    \n",
            "    sinh(x, /)\n",
            "        Return the hyperbolic sine of x.\n",
            "    \n",
            "    sqrt(x, /)\n",
            "        Return the square root of x.\n",
            "    \n",
            "    tan(x, /)\n",
            "        Return the tangent of x (measured in radians).\n",
            "    \n",
            "    tanh(x, /)\n",
            "        Return the hyperbolic tangent of x.\n",
            "    \n",
            "    trunc(x, /)\n",
            "        Truncates the Real x to the nearest Integral toward 0.\n",
            "        \n",
            "        Uses the __trunc__ magic method.\n",
            "\n",
            "DATA\n",
            "    e = 2.718281828459045\n",
            "    inf = inf\n",
            "    nan = nan\n",
            "    pi = 3.141592653589793\n",
            "    tau = 6.283185307179586\n",
            "\n",
            "FILE\n",
            "    (built-in)\n",
            "\n",
            "\n"
          ]
        }
      ]
    },
    {
      "cell_type": "code",
      "source": [
        "import math as mt\n",
        "mt.pi"
      ],
      "metadata": {
        "colab": {
          "base_uri": "https://localhost:8080/"
        },
        "id": "Ox3rZRl9fOaP",
        "outputId": "960d528b-a350-41f8-f2b7-72500eabd004"
      },
      "id": "Ox3rZRl9fOaP",
      "execution_count": 200,
      "outputs": [
        {
          "output_type": "execute_result",
          "data": {
            "text/plain": [
              "3.141592653589793"
            ]
          },
          "metadata": {},
          "execution_count": 200
        }
      ]
    },
    {
      "cell_type": "code",
      "source": [
        "import math\n",
        "mt = math"
      ],
      "metadata": {
        "id": "eIWQd4N3fS7q"
      },
      "id": "eIWQd4N3fS7q",
      "execution_count": 201,
      "outputs": []
    },
    {
      "cell_type": "code",
      "source": [
        "from math import log, pi\n",
        "from numpy import asarray"
      ],
      "metadata": {
        "id": "LRMKkjlAfYqM"
      },
      "id": "LRMKkjlAfYqM",
      "execution_count": 202,
      "outputs": []
    },
    {
      "cell_type": "code",
      "source": [
        "import numpy\n",
        "print(\"numpy.random is a\", type(numpy.random))\n",
        "print(\"it contains names such as...\",\n",
        "      dir(numpy.random)[-15:]\n",
        "     )"
      ],
      "metadata": {
        "colab": {
          "base_uri": "https://localhost:8080/"
        },
        "id": "3PhgDgDhfcyg",
        "outputId": "59e0b0e7-1615-40d5-ea7e-a0d057f4d6ab"
      },
      "id": "3PhgDgDhfcyg",
      "execution_count": 203,
      "outputs": [
        {
          "output_type": "stream",
          "name": "stdout",
          "text": [
            "numpy.random is a <class 'module'>\n",
            "it contains names such as... ['seed', 'set_state', 'shuffle', 'standard_cauchy', 'standard_exponential', 'standard_gamma', 'standard_normal', 'standard_t', 'test', 'triangular', 'uniform', 'vonmises', 'wald', 'weibull', 'zipf']\n"
          ]
        }
      ]
    },
    {
      "cell_type": "code",
      "source": [
        "# Roll 10 dice\n",
        "rolls = numpy.random.randint(low=1, high=6, size=10)\n",
        "rolls"
      ],
      "metadata": {
        "colab": {
          "base_uri": "https://localhost:8080/"
        },
        "id": "-_9xr2tgffsb",
        "outputId": "989347f6-c36f-4f7d-f173-4788c9ea31b8"
      },
      "id": "-_9xr2tgffsb",
      "execution_count": 204,
      "outputs": [
        {
          "output_type": "execute_result",
          "data": {
            "text/plain": [
              "array([4, 3, 4, 3, 3, 4, 1, 4, 2, 4])"
            ]
          },
          "metadata": {},
          "execution_count": 204
        }
      ]
    },
    {
      "cell_type": "code",
      "source": [
        "type(rolls)"
      ],
      "metadata": {
        "colab": {
          "base_uri": "https://localhost:8080/"
        },
        "id": "iKp_OqWnfiPF",
        "outputId": "61b3145e-b325-447b-904d-4644bfc077a0"
      },
      "id": "iKp_OqWnfiPF",
      "execution_count": 205,
      "outputs": [
        {
          "output_type": "execute_result",
          "data": {
            "text/plain": [
              "numpy.ndarray"
            ]
          },
          "metadata": {},
          "execution_count": 205
        }
      ]
    },
    {
      "cell_type": "code",
      "source": [
        "print(dir(rolls))"
      ],
      "metadata": {
        "colab": {
          "base_uri": "https://localhost:8080/"
        },
        "id": "81MH7PoIflal",
        "outputId": "b4111a4c-d1fa-4dd7-c183-6f2005d9fa0c"
      },
      "id": "81MH7PoIflal",
      "execution_count": 206,
      "outputs": [
        {
          "output_type": "stream",
          "name": "stdout",
          "text": [
            "['T', '__abs__', '__add__', '__and__', '__array__', '__array_finalize__', '__array_function__', '__array_interface__', '__array_prepare__', '__array_priority__', '__array_struct__', '__array_ufunc__', '__array_wrap__', '__bool__', '__class__', '__class_getitem__', '__complex__', '__contains__', '__copy__', '__deepcopy__', '__delattr__', '__delitem__', '__dir__', '__divmod__', '__dlpack__', '__dlpack_device__', '__doc__', '__eq__', '__float__', '__floordiv__', '__format__', '__ge__', '__getattribute__', '__getitem__', '__gt__', '__hash__', '__iadd__', '__iand__', '__ifloordiv__', '__ilshift__', '__imatmul__', '__imod__', '__imul__', '__index__', '__init__', '__init_subclass__', '__int__', '__invert__', '__ior__', '__ipow__', '__irshift__', '__isub__', '__iter__', '__itruediv__', '__ixor__', '__le__', '__len__', '__lshift__', '__lt__', '__matmul__', '__mod__', '__mul__', '__ne__', '__neg__', '__new__', '__or__', '__pos__', '__pow__', '__radd__', '__rand__', '__rdivmod__', '__reduce__', '__reduce_ex__', '__repr__', '__rfloordiv__', '__rlshift__', '__rmatmul__', '__rmod__', '__rmul__', '__ror__', '__rpow__', '__rrshift__', '__rshift__', '__rsub__', '__rtruediv__', '__rxor__', '__setattr__', '__setitem__', '__setstate__', '__sizeof__', '__str__', '__sub__', '__subclasshook__', '__truediv__', '__xor__', 'all', 'any', 'argmax', 'argmin', 'argpartition', 'argsort', 'astype', 'base', 'byteswap', 'choose', 'clip', 'compress', 'conj', 'conjugate', 'copy', 'ctypes', 'cumprod', 'cumsum', 'data', 'diagonal', 'dot', 'dtype', 'dump', 'dumps', 'fill', 'flags', 'flat', 'flatten', 'getfield', 'imag', 'item', 'itemset', 'itemsize', 'max', 'mean', 'min', 'nbytes', 'ndim', 'newbyteorder', 'nonzero', 'partition', 'prod', 'ptp', 'put', 'ravel', 'real', 'repeat', 'reshape', 'resize', 'round', 'searchsorted', 'setfield', 'setflags', 'shape', 'size', 'sort', 'squeeze', 'std', 'strides', 'sum', 'swapaxes', 'take', 'tobytes', 'tofile', 'tolist', 'tostring', 'trace', 'transpose', 'var', 'view']\n"
          ]
        }
      ]
    },
    {
      "cell_type": "code",
      "source": [
        "# If I want the average roll, the \"mean\" method looks promising...\n",
        "rolls.mean()"
      ],
      "metadata": {
        "colab": {
          "base_uri": "https://localhost:8080/"
        },
        "id": "6KzwqrrjftWG",
        "outputId": "4f57834b-43e5-40db-ab5b-42e4207a4f76"
      },
      "id": "6KzwqrrjftWG",
      "execution_count": 207,
      "outputs": [
        {
          "output_type": "execute_result",
          "data": {
            "text/plain": [
              "3.2"
            ]
          },
          "metadata": {},
          "execution_count": 207
        }
      ]
    },
    {
      "cell_type": "code",
      "source": [
        "# Or maybe I just want to turn the array into a list, in which case I can use \"tolist\"\n",
        "rolls.tolist()"
      ],
      "metadata": {
        "colab": {
          "base_uri": "https://localhost:8080/"
        },
        "id": "d32JdxgGfwSb",
        "outputId": "b7ffe7e1-4c81-441e-9fac-c0b0bdeeb5f6"
      },
      "id": "d32JdxgGfwSb",
      "execution_count": 208,
      "outputs": [
        {
          "output_type": "execute_result",
          "data": {
            "text/plain": [
              "[4, 3, 4, 3, 3, 4, 1, 4, 2, 4]"
            ]
          },
          "metadata": {},
          "execution_count": 208
        }
      ]
    },
    {
      "cell_type": "code",
      "source": [
        "# That \"ravel\" attribute sounds interesting. I'm a big classical music fan.\n",
        "help(rolls.ravel)"
      ],
      "metadata": {
        "colab": {
          "base_uri": "https://localhost:8080/"
        },
        "id": "DQsRQKCnfyjL",
        "outputId": "760960fa-c355-40bd-bf6f-5b14264dd566"
      },
      "id": "DQsRQKCnfyjL",
      "execution_count": 209,
      "outputs": [
        {
          "output_type": "stream",
          "name": "stdout",
          "text": [
            "Help on built-in function ravel:\n",
            "\n",
            "ravel(...) method of numpy.ndarray instance\n",
            "    a.ravel([order])\n",
            "    \n",
            "    Return a flattened array.\n",
            "    \n",
            "    Refer to `numpy.ravel` for full documentation.\n",
            "    \n",
            "    See Also\n",
            "    --------\n",
            "    numpy.ravel : equivalent function\n",
            "    \n",
            "    ndarray.flat : a flat iterator on the array.\n",
            "\n"
          ]
        }
      ]
    },
    {
      "cell_type": "code",
      "source": [
        "# Okay, just tell me everything there is to know about numpy.ndarray\n",
        "# (Click the \"output\" button to see the novel-length output)\n",
        "help(rolls)"
      ],
      "metadata": {
        "colab": {
          "base_uri": "https://localhost:8080/"
        },
        "id": "t9GTBhLZf4ib",
        "outputId": "a473a96f-1f7b-40cb-d680-9f44fa6b2305"
      },
      "id": "t9GTBhLZf4ib",
      "execution_count": 210,
      "outputs": [
        {
          "output_type": "stream",
          "name": "stdout",
          "text": [
            "Help on ndarray object:\n",
            "\n",
            "class ndarray(builtins.object)\n",
            " |  ndarray(shape, dtype=float, buffer=None, offset=0,\n",
            " |          strides=None, order=None)\n",
            " |  \n",
            " |  An array object represents a multidimensional, homogeneous array\n",
            " |  of fixed-size items.  An associated data-type object describes the\n",
            " |  format of each element in the array (its byte-order, how many bytes it\n",
            " |  occupies in memory, whether it is an integer, a floating point number,\n",
            " |  or something else, etc.)\n",
            " |  \n",
            " |  Arrays should be constructed using `array`, `zeros` or `empty` (refer\n",
            " |  to the See Also section below).  The parameters given here refer to\n",
            " |  a low-level method (`ndarray(...)`) for instantiating an array.\n",
            " |  \n",
            " |  For more information, refer to the `numpy` module and examine the\n",
            " |  methods and attributes of an array.\n",
            " |  \n",
            " |  Parameters\n",
            " |  ----------\n",
            " |  (for the __new__ method; see Notes below)\n",
            " |  \n",
            " |  shape : tuple of ints\n",
            " |      Shape of created array.\n",
            " |  dtype : data-type, optional\n",
            " |      Any object that can be interpreted as a numpy data type.\n",
            " |  buffer : object exposing buffer interface, optional\n",
            " |      Used to fill the array with data.\n",
            " |  offset : int, optional\n",
            " |      Offset of array data in buffer.\n",
            " |  strides : tuple of ints, optional\n",
            " |      Strides of data in memory.\n",
            " |  order : {'C', 'F'}, optional\n",
            " |      Row-major (C-style) or column-major (Fortran-style) order.\n",
            " |  \n",
            " |  Attributes\n",
            " |  ----------\n",
            " |  T : ndarray\n",
            " |      Transpose of the array.\n",
            " |  data : buffer\n",
            " |      The array's elements, in memory.\n",
            " |  dtype : dtype object\n",
            " |      Describes the format of the elements in the array.\n",
            " |  flags : dict\n",
            " |      Dictionary containing information related to memory use, e.g.,\n",
            " |      'C_CONTIGUOUS', 'OWNDATA', 'WRITEABLE', etc.\n",
            " |  flat : numpy.flatiter object\n",
            " |      Flattened version of the array as an iterator.  The iterator\n",
            " |      allows assignments, e.g., ``x.flat = 3`` (See `ndarray.flat` for\n",
            " |      assignment examples; TODO).\n",
            " |  imag : ndarray\n",
            " |      Imaginary part of the array.\n",
            " |  real : ndarray\n",
            " |      Real part of the array.\n",
            " |  size : int\n",
            " |      Number of elements in the array.\n",
            " |  itemsize : int\n",
            " |      The memory use of each array element in bytes.\n",
            " |  nbytes : int\n",
            " |      The total number of bytes required to store the array data,\n",
            " |      i.e., ``itemsize * size``.\n",
            " |  ndim : int\n",
            " |      The array's number of dimensions.\n",
            " |  shape : tuple of ints\n",
            " |      Shape of the array.\n",
            " |  strides : tuple of ints\n",
            " |      The step-size required to move from one element to the next in\n",
            " |      memory. For example, a contiguous ``(3, 4)`` array of type\n",
            " |      ``int16`` in C-order has strides ``(8, 2)``.  This implies that\n",
            " |      to move from element to element in memory requires jumps of 2 bytes.\n",
            " |      To move from row-to-row, one needs to jump 8 bytes at a time\n",
            " |      (``2 * 4``).\n",
            " |  ctypes : ctypes object\n",
            " |      Class containing properties of the array needed for interaction\n",
            " |      with ctypes.\n",
            " |  base : ndarray\n",
            " |      If the array is a view into another array, that array is its `base`\n",
            " |      (unless that array is also a view).  The `base` array is where the\n",
            " |      array data is actually stored.\n",
            " |  \n",
            " |  See Also\n",
            " |  --------\n",
            " |  array : Construct an array.\n",
            " |  zeros : Create an array, each element of which is zero.\n",
            " |  empty : Create an array, but leave its allocated memory unchanged (i.e.,\n",
            " |          it contains \"garbage\").\n",
            " |  dtype : Create a data-type.\n",
            " |  numpy.typing.NDArray : An ndarray alias :term:`generic <generic type>`\n",
            " |                         w.r.t. its `dtype.type <numpy.dtype.type>`.\n",
            " |  \n",
            " |  Notes\n",
            " |  -----\n",
            " |  There are two modes of creating an array using ``__new__``:\n",
            " |  \n",
            " |  1. If `buffer` is None, then only `shape`, `dtype`, and `order`\n",
            " |     are used.\n",
            " |  2. If `buffer` is an object exposing the buffer interface, then\n",
            " |     all keywords are interpreted.\n",
            " |  \n",
            " |  No ``__init__`` method is needed because the array is fully initialized\n",
            " |  after the ``__new__`` method.\n",
            " |  \n",
            " |  Examples\n",
            " |  --------\n",
            " |  These examples illustrate the low-level `ndarray` constructor.  Refer\n",
            " |  to the `See Also` section above for easier ways of constructing an\n",
            " |  ndarray.\n",
            " |  \n",
            " |  First mode, `buffer` is None:\n",
            " |  \n",
            " |  >>> np.ndarray(shape=(2,2), dtype=float, order='F')\n",
            " |  array([[0.0e+000, 0.0e+000], # random\n",
            " |         [     nan, 2.5e-323]])\n",
            " |  \n",
            " |  Second mode:\n",
            " |  \n",
            " |  >>> np.ndarray((2,), buffer=np.array([1,2,3]),\n",
            " |  ...            offset=np.int_().itemsize,\n",
            " |  ...            dtype=int) # offset = 1*itemsize, i.e. skip first element\n",
            " |  array([2, 3])\n",
            " |  \n",
            " |  Methods defined here:\n",
            " |  \n",
            " |  __abs__(self, /)\n",
            " |      abs(self)\n",
            " |  \n",
            " |  __add__(self, value, /)\n",
            " |      Return self+value.\n",
            " |  \n",
            " |  __and__(self, value, /)\n",
            " |      Return self&value.\n",
            " |  \n",
            " |  __array__(...)\n",
            " |      a.__array__([dtype], /) -> reference if type unchanged, copy otherwise.\n",
            " |      \n",
            " |      Returns either a new reference to self if dtype is not given or a new array\n",
            " |      of provided data type if dtype is different from the current dtype of the\n",
            " |      array.\n",
            " |  \n",
            " |  __array_function__(...)\n",
            " |  \n",
            " |  __array_prepare__(...)\n",
            " |      a.__array_prepare__(array[, context], /)\n",
            " |      \n",
            " |      Returns a view of `array` with the same type as self.\n",
            " |  \n",
            " |  __array_ufunc__(...)\n",
            " |  \n",
            " |  __array_wrap__(...)\n",
            " |      a.__array_wrap__(array[, context], /)\n",
            " |      \n",
            " |      Returns a view of `array` with the same type as self.\n",
            " |  \n",
            " |  __bool__(self, /)\n",
            " |      self != 0\n",
            " |  \n",
            " |  __complex__(...)\n",
            " |  \n",
            " |  __contains__(self, key, /)\n",
            " |      Return key in self.\n",
            " |  \n",
            " |  __copy__(...)\n",
            " |      a.__copy__()\n",
            " |      \n",
            " |      Used if :func:`copy.copy` is called on an array. Returns a copy of the array.\n",
            " |      \n",
            " |      Equivalent to ``a.copy(order='K')``.\n",
            " |  \n",
            " |  __deepcopy__(...)\n",
            " |      a.__deepcopy__(memo, /) -> Deep copy of array.\n",
            " |      \n",
            " |      Used if :func:`copy.deepcopy` is called on an array.\n",
            " |  \n",
            " |  __delitem__(self, key, /)\n",
            " |      Delete self[key].\n",
            " |  \n",
            " |  __divmod__(self, value, /)\n",
            " |      Return divmod(self, value).\n",
            " |  \n",
            " |  __dlpack__(...)\n",
            " |      a.__dlpack__(*, stream=None)\n",
            " |      \n",
            " |      DLPack Protocol: Part of the Array API.\n",
            " |  \n",
            " |  __dlpack_device__(...)\n",
            " |      a.__dlpack_device__()\n",
            " |      \n",
            " |      DLPack Protocol: Part of the Array API.\n",
            " |  \n",
            " |  __eq__(self, value, /)\n",
            " |      Return self==value.\n",
            " |  \n",
            " |  __float__(self, /)\n",
            " |      float(self)\n",
            " |  \n",
            " |  __floordiv__(self, value, /)\n",
            " |      Return self//value.\n",
            " |  \n",
            " |  __format__(...)\n",
            " |      Default object formatter.\n",
            " |  \n",
            " |  __ge__(self, value, /)\n",
            " |      Return self>=value.\n",
            " |  \n",
            " |  __getitem__(self, key, /)\n",
            " |      Return self[key].\n",
            " |  \n",
            " |  __gt__(self, value, /)\n",
            " |      Return self>value.\n",
            " |  \n",
            " |  __iadd__(self, value, /)\n",
            " |      Return self+=value.\n",
            " |  \n",
            " |  __iand__(self, value, /)\n",
            " |      Return self&=value.\n",
            " |  \n",
            " |  __ifloordiv__(self, value, /)\n",
            " |      Return self//=value.\n",
            " |  \n",
            " |  __ilshift__(self, value, /)\n",
            " |      Return self<<=value.\n",
            " |  \n",
            " |  __imatmul__(self, value, /)\n",
            " |      Return self@=value.\n",
            " |  \n",
            " |  __imod__(self, value, /)\n",
            " |      Return self%=value.\n",
            " |  \n",
            " |  __imul__(self, value, /)\n",
            " |      Return self*=value.\n",
            " |  \n",
            " |  __index__(self, /)\n",
            " |      Return self converted to an integer, if self is suitable for use as an index into a list.\n",
            " |  \n",
            " |  __int__(self, /)\n",
            " |      int(self)\n",
            " |  \n",
            " |  __invert__(self, /)\n",
            " |      ~self\n",
            " |  \n",
            " |  __ior__(self, value, /)\n",
            " |      Return self|=value.\n",
            " |  \n",
            " |  __ipow__(self, value, /)\n",
            " |      Return self**=value.\n",
            " |  \n",
            " |  __irshift__(self, value, /)\n",
            " |      Return self>>=value.\n",
            " |  \n",
            " |  __isub__(self, value, /)\n",
            " |      Return self-=value.\n",
            " |  \n",
            " |  __iter__(self, /)\n",
            " |      Implement iter(self).\n",
            " |  \n",
            " |  __itruediv__(self, value, /)\n",
            " |      Return self/=value.\n",
            " |  \n",
            " |  __ixor__(self, value, /)\n",
            " |      Return self^=value.\n",
            " |  \n",
            " |  __le__(self, value, /)\n",
            " |      Return self<=value.\n",
            " |  \n",
            " |  __len__(self, /)\n",
            " |      Return len(self).\n",
            " |  \n",
            " |  __lshift__(self, value, /)\n",
            " |      Return self<<value.\n",
            " |  \n",
            " |  __lt__(self, value, /)\n",
            " |      Return self<value.\n",
            " |  \n",
            " |  __matmul__(self, value, /)\n",
            " |      Return self@value.\n",
            " |  \n",
            " |  __mod__(self, value, /)\n",
            " |      Return self%value.\n",
            " |  \n",
            " |  __mul__(self, value, /)\n",
            " |      Return self*value.\n",
            " |  \n",
            " |  __ne__(self, value, /)\n",
            " |      Return self!=value.\n",
            " |  \n",
            " |  __neg__(self, /)\n",
            " |      -self\n",
            " |  \n",
            " |  __or__(self, value, /)\n",
            " |      Return self|value.\n",
            " |  \n",
            " |  __pos__(self, /)\n",
            " |      +self\n",
            " |  \n",
            " |  __pow__(self, value, mod=None, /)\n",
            " |      Return pow(self, value, mod).\n",
            " |  \n",
            " |  __radd__(self, value, /)\n",
            " |      Return value+self.\n",
            " |  \n",
            " |  __rand__(self, value, /)\n",
            " |      Return value&self.\n",
            " |  \n",
            " |  __rdivmod__(self, value, /)\n",
            " |      Return divmod(value, self).\n",
            " |  \n",
            " |  __reduce__(...)\n",
            " |      a.__reduce__()\n",
            " |      \n",
            " |      For pickling.\n",
            " |  \n",
            " |  __reduce_ex__(...)\n",
            " |      Helper for pickle.\n",
            " |  \n",
            " |  __repr__(self, /)\n",
            " |      Return repr(self).\n",
            " |  \n",
            " |  __rfloordiv__(self, value, /)\n",
            " |      Return value//self.\n",
            " |  \n",
            " |  __rlshift__(self, value, /)\n",
            " |      Return value<<self.\n",
            " |  \n",
            " |  __rmatmul__(self, value, /)\n",
            " |      Return value@self.\n",
            " |  \n",
            " |  __rmod__(self, value, /)\n",
            " |      Return value%self.\n",
            " |  \n",
            " |  __rmul__(self, value, /)\n",
            " |      Return value*self.\n",
            " |  \n",
            " |  __ror__(self, value, /)\n",
            " |      Return value|self.\n",
            " |  \n",
            " |  __rpow__(self, value, mod=None, /)\n",
            " |      Return pow(value, self, mod).\n",
            " |  \n",
            " |  __rrshift__(self, value, /)\n",
            " |      Return value>>self.\n",
            " |  \n",
            " |  __rshift__(self, value, /)\n",
            " |      Return self>>value.\n",
            " |  \n",
            " |  __rsub__(self, value, /)\n",
            " |      Return value-self.\n",
            " |  \n",
            " |  __rtruediv__(self, value, /)\n",
            " |      Return value/self.\n",
            " |  \n",
            " |  __rxor__(self, value, /)\n",
            " |      Return value^self.\n",
            " |  \n",
            " |  __setitem__(self, key, value, /)\n",
            " |      Set self[key] to value.\n",
            " |  \n",
            " |  __setstate__(...)\n",
            " |      a.__setstate__(state, /)\n",
            " |      \n",
            " |      For unpickling.\n",
            " |      \n",
            " |      The `state` argument must be a sequence that contains the following\n",
            " |      elements:\n",
            " |      \n",
            " |      Parameters\n",
            " |      ----------\n",
            " |      version : int\n",
            " |          optional pickle version. If omitted defaults to 0.\n",
            " |      shape : tuple\n",
            " |      dtype : data-type\n",
            " |      isFortran : bool\n",
            " |      rawdata : string or list\n",
            " |          a binary string with the data (or a list if 'a' is an object array)\n",
            " |  \n",
            " |  __sizeof__(...)\n",
            " |      Size of object in memory, in bytes.\n",
            " |  \n",
            " |  __str__(self, /)\n",
            " |      Return str(self).\n",
            " |  \n",
            " |  __sub__(self, value, /)\n",
            " |      Return self-value.\n",
            " |  \n",
            " |  __truediv__(self, value, /)\n",
            " |      Return self/value.\n",
            " |  \n",
            " |  __xor__(self, value, /)\n",
            " |      Return self^value.\n",
            " |  \n",
            " |  all(...)\n",
            " |      a.all(axis=None, out=None, keepdims=False, *, where=True)\n",
            " |      \n",
            " |      Returns True if all elements evaluate to True.\n",
            " |      \n",
            " |      Refer to `numpy.all` for full documentation.\n",
            " |      \n",
            " |      See Also\n",
            " |      --------\n",
            " |      numpy.all : equivalent function\n",
            " |  \n",
            " |  any(...)\n",
            " |      a.any(axis=None, out=None, keepdims=False, *, where=True)\n",
            " |      \n",
            " |      Returns True if any of the elements of `a` evaluate to True.\n",
            " |      \n",
            " |      Refer to `numpy.any` for full documentation.\n",
            " |      \n",
            " |      See Also\n",
            " |      --------\n",
            " |      numpy.any : equivalent function\n",
            " |  \n",
            " |  argmax(...)\n",
            " |      a.argmax(axis=None, out=None)\n",
            " |      \n",
            " |      Return indices of the maximum values along the given axis.\n",
            " |      \n",
            " |      Refer to `numpy.argmax` for full documentation.\n",
            " |      \n",
            " |      See Also\n",
            " |      --------\n",
            " |      numpy.argmax : equivalent function\n",
            " |  \n",
            " |  argmin(...)\n",
            " |      a.argmin(axis=None, out=None)\n",
            " |      \n",
            " |      Return indices of the minimum values along the given axis.\n",
            " |      \n",
            " |      Refer to `numpy.argmin` for detailed documentation.\n",
            " |      \n",
            " |      See Also\n",
            " |      --------\n",
            " |      numpy.argmin : equivalent function\n",
            " |  \n",
            " |  argpartition(...)\n",
            " |      a.argpartition(kth, axis=-1, kind='introselect', order=None)\n",
            " |      \n",
            " |      Returns the indices that would partition this array.\n",
            " |      \n",
            " |      Refer to `numpy.argpartition` for full documentation.\n",
            " |      \n",
            " |      .. versionadded:: 1.8.0\n",
            " |      \n",
            " |      See Also\n",
            " |      --------\n",
            " |      numpy.argpartition : equivalent function\n",
            " |  \n",
            " |  argsort(...)\n",
            " |      a.argsort(axis=-1, kind=None, order=None)\n",
            " |      \n",
            " |      Returns the indices that would sort this array.\n",
            " |      \n",
            " |      Refer to `numpy.argsort` for full documentation.\n",
            " |      \n",
            " |      See Also\n",
            " |      --------\n",
            " |      numpy.argsort : equivalent function\n",
            " |  \n",
            " |  astype(...)\n",
            " |      a.astype(dtype, order='K', casting='unsafe', subok=True, copy=True)\n",
            " |      \n",
            " |      Copy of the array, cast to a specified type.\n",
            " |      \n",
            " |      Parameters\n",
            " |      ----------\n",
            " |      dtype : str or dtype\n",
            " |          Typecode or data-type to which the array is cast.\n",
            " |      order : {'C', 'F', 'A', 'K'}, optional\n",
            " |          Controls the memory layout order of the result.\n",
            " |          'C' means C order, 'F' means Fortran order, 'A'\n",
            " |          means 'F' order if all the arrays are Fortran contiguous,\n",
            " |          'C' order otherwise, and 'K' means as close to the\n",
            " |          order the array elements appear in memory as possible.\n",
            " |          Default is 'K'.\n",
            " |      casting : {'no', 'equiv', 'safe', 'same_kind', 'unsafe'}, optional\n",
            " |          Controls what kind of data casting may occur. Defaults to 'unsafe'\n",
            " |          for backwards compatibility.\n",
            " |      \n",
            " |            * 'no' means the data types should not be cast at all.\n",
            " |            * 'equiv' means only byte-order changes are allowed.\n",
            " |            * 'safe' means only casts which can preserve values are allowed.\n",
            " |            * 'same_kind' means only safe casts or casts within a kind,\n",
            " |              like float64 to float32, are allowed.\n",
            " |            * 'unsafe' means any data conversions may be done.\n",
            " |      subok : bool, optional\n",
            " |          If True, then sub-classes will be passed-through (default), otherwise\n",
            " |          the returned array will be forced to be a base-class array.\n",
            " |      copy : bool, optional\n",
            " |          By default, astype always returns a newly allocated array. If this\n",
            " |          is set to false, and the `dtype`, `order`, and `subok`\n",
            " |          requirements are satisfied, the input array is returned instead\n",
            " |          of a copy.\n",
            " |      \n",
            " |      Returns\n",
            " |      -------\n",
            " |      arr_t : ndarray\n",
            " |          Unless `copy` is False and the other conditions for returning the input\n",
            " |          array are satisfied (see description for `copy` input parameter), `arr_t`\n",
            " |          is a new array of the same shape as the input array, with dtype, order\n",
            " |          given by `dtype`, `order`.\n",
            " |      \n",
            " |      Notes\n",
            " |      -----\n",
            " |      .. versionchanged:: 1.17.0\n",
            " |         Casting between a simple data type and a structured one is possible only\n",
            " |         for \"unsafe\" casting.  Casting to multiple fields is allowed, but\n",
            " |         casting from multiple fields is not.\n",
            " |      \n",
            " |      .. versionchanged:: 1.9.0\n",
            " |         Casting from numeric to string types in 'safe' casting mode requires\n",
            " |         that the string dtype length is long enough to store the max\n",
            " |         integer/float value converted.\n",
            " |      \n",
            " |      Raises\n",
            " |      ------\n",
            " |      ComplexWarning\n",
            " |          When casting from complex to float or int. To avoid this,\n",
            " |          one should use ``a.real.astype(t)``.\n",
            " |      \n",
            " |      Examples\n",
            " |      --------\n",
            " |      >>> x = np.array([1, 2, 2.5])\n",
            " |      >>> x\n",
            " |      array([1. ,  2. ,  2.5])\n",
            " |      \n",
            " |      >>> x.astype(int)\n",
            " |      array([1, 2, 2])\n",
            " |  \n",
            " |  byteswap(...)\n",
            " |      a.byteswap(inplace=False)\n",
            " |      \n",
            " |      Swap the bytes of the array elements\n",
            " |      \n",
            " |      Toggle between low-endian and big-endian data representation by\n",
            " |      returning a byteswapped array, optionally swapped in-place.\n",
            " |      Arrays of byte-strings are not swapped. The real and imaginary\n",
            " |      parts of a complex number are swapped individually.\n",
            " |      \n",
            " |      Parameters\n",
            " |      ----------\n",
            " |      inplace : bool, optional\n",
            " |          If ``True``, swap bytes in-place, default is ``False``.\n",
            " |      \n",
            " |      Returns\n",
            " |      -------\n",
            " |      out : ndarray\n",
            " |          The byteswapped array. If `inplace` is ``True``, this is\n",
            " |          a view to self.\n",
            " |      \n",
            " |      Examples\n",
            " |      --------\n",
            " |      >>> A = np.array([1, 256, 8755], dtype=np.int16)\n",
            " |      >>> list(map(hex, A))\n",
            " |      ['0x1', '0x100', '0x2233']\n",
            " |      >>> A.byteswap(inplace=True)\n",
            " |      array([  256,     1, 13090], dtype=int16)\n",
            " |      >>> list(map(hex, A))\n",
            " |      ['0x100', '0x1', '0x3322']\n",
            " |      \n",
            " |      Arrays of byte-strings are not swapped\n",
            " |      \n",
            " |      >>> A = np.array([b'ceg', b'fac'])\n",
            " |      >>> A.byteswap()\n",
            " |      array([b'ceg', b'fac'], dtype='|S3')\n",
            " |      \n",
            " |      ``A.newbyteorder().byteswap()`` produces an array with the same values\n",
            " |        but different representation in memory\n",
            " |      \n",
            " |      >>> A = np.array([1, 2, 3])\n",
            " |      >>> A.view(np.uint8)\n",
            " |      array([1, 0, 0, 0, 0, 0, 0, 0, 2, 0, 0, 0, 0, 0, 0, 0, 3, 0, 0, 0, 0, 0,\n",
            " |             0, 0], dtype=uint8)\n",
            " |      >>> A.newbyteorder().byteswap(inplace=True)\n",
            " |      array([1, 2, 3])\n",
            " |      >>> A.view(np.uint8)\n",
            " |      array([0, 0, 0, 0, 0, 0, 0, 1, 0, 0, 0, 0, 0, 0, 0, 2, 0, 0, 0, 0, 0, 0,\n",
            " |             0, 3], dtype=uint8)\n",
            " |  \n",
            " |  choose(...)\n",
            " |      a.choose(choices, out=None, mode='raise')\n",
            " |      \n",
            " |      Use an index array to construct a new array from a set of choices.\n",
            " |      \n",
            " |      Refer to `numpy.choose` for full documentation.\n",
            " |      \n",
            " |      See Also\n",
            " |      --------\n",
            " |      numpy.choose : equivalent function\n",
            " |  \n",
            " |  clip(...)\n",
            " |      a.clip(min=None, max=None, out=None, **kwargs)\n",
            " |      \n",
            " |      Return an array whose values are limited to ``[min, max]``.\n",
            " |      One of max or min must be given.\n",
            " |      \n",
            " |      Refer to `numpy.clip` for full documentation.\n",
            " |      \n",
            " |      See Also\n",
            " |      --------\n",
            " |      numpy.clip : equivalent function\n",
            " |  \n",
            " |  compress(...)\n",
            " |      a.compress(condition, axis=None, out=None)\n",
            " |      \n",
            " |      Return selected slices of this array along given axis.\n",
            " |      \n",
            " |      Refer to `numpy.compress` for full documentation.\n",
            " |      \n",
            " |      See Also\n",
            " |      --------\n",
            " |      numpy.compress : equivalent function\n",
            " |  \n",
            " |  conj(...)\n",
            " |      a.conj()\n",
            " |      \n",
            " |      Complex-conjugate all elements.\n",
            " |      \n",
            " |      Refer to `numpy.conjugate` for full documentation.\n",
            " |      \n",
            " |      See Also\n",
            " |      --------\n",
            " |      numpy.conjugate : equivalent function\n",
            " |  \n",
            " |  conjugate(...)\n",
            " |      a.conjugate()\n",
            " |      \n",
            " |      Return the complex conjugate, element-wise.\n",
            " |      \n",
            " |      Refer to `numpy.conjugate` for full documentation.\n",
            " |      \n",
            " |      See Also\n",
            " |      --------\n",
            " |      numpy.conjugate : equivalent function\n",
            " |  \n",
            " |  copy(...)\n",
            " |      a.copy(order='C')\n",
            " |      \n",
            " |      Return a copy of the array.\n",
            " |      \n",
            " |      Parameters\n",
            " |      ----------\n",
            " |      order : {'C', 'F', 'A', 'K'}, optional\n",
            " |          Controls the memory layout of the copy. 'C' means C-order,\n",
            " |          'F' means F-order, 'A' means 'F' if `a` is Fortran contiguous,\n",
            " |          'C' otherwise. 'K' means match the layout of `a` as closely\n",
            " |          as possible. (Note that this function and :func:`numpy.copy` are very\n",
            " |          similar but have different default values for their order=\n",
            " |          arguments, and this function always passes sub-classes through.)\n",
            " |      \n",
            " |      See also\n",
            " |      --------\n",
            " |      numpy.copy : Similar function with different default behavior\n",
            " |      numpy.copyto\n",
            " |      \n",
            " |      Notes\n",
            " |      -----\n",
            " |      This function is the preferred method for creating an array copy.  The\n",
            " |      function :func:`numpy.copy` is similar, but it defaults to using order 'K',\n",
            " |      and will not pass sub-classes through by default.\n",
            " |      \n",
            " |      Examples\n",
            " |      --------\n",
            " |      >>> x = np.array([[1,2,3],[4,5,6]], order='F')\n",
            " |      \n",
            " |      >>> y = x.copy()\n",
            " |      \n",
            " |      >>> x.fill(0)\n",
            " |      \n",
            " |      >>> x\n",
            " |      array([[0, 0, 0],\n",
            " |             [0, 0, 0]])\n",
            " |      \n",
            " |      >>> y\n",
            " |      array([[1, 2, 3],\n",
            " |             [4, 5, 6]])\n",
            " |      \n",
            " |      >>> y.flags['C_CONTIGUOUS']\n",
            " |      True\n",
            " |  \n",
            " |  cumprod(...)\n",
            " |      a.cumprod(axis=None, dtype=None, out=None)\n",
            " |      \n",
            " |      Return the cumulative product of the elements along the given axis.\n",
            " |      \n",
            " |      Refer to `numpy.cumprod` for full documentation.\n",
            " |      \n",
            " |      See Also\n",
            " |      --------\n",
            " |      numpy.cumprod : equivalent function\n",
            " |  \n",
            " |  cumsum(...)\n",
            " |      a.cumsum(axis=None, dtype=None, out=None)\n",
            " |      \n",
            " |      Return the cumulative sum of the elements along the given axis.\n",
            " |      \n",
            " |      Refer to `numpy.cumsum` for full documentation.\n",
            " |      \n",
            " |      See Also\n",
            " |      --------\n",
            " |      numpy.cumsum : equivalent function\n",
            " |  \n",
            " |  diagonal(...)\n",
            " |      a.diagonal(offset=0, axis1=0, axis2=1)\n",
            " |      \n",
            " |      Return specified diagonals. In NumPy 1.9 the returned array is a\n",
            " |      read-only view instead of a copy as in previous NumPy versions.  In\n",
            " |      a future version the read-only restriction will be removed.\n",
            " |      \n",
            " |      Refer to :func:`numpy.diagonal` for full documentation.\n",
            " |      \n",
            " |      See Also\n",
            " |      --------\n",
            " |      numpy.diagonal : equivalent function\n",
            " |  \n",
            " |  dot(...)\n",
            " |  \n",
            " |  dump(...)\n",
            " |      a.dump(file)\n",
            " |      \n",
            " |      Dump a pickle of the array to the specified file.\n",
            " |      The array can be read back with pickle.load or numpy.load.\n",
            " |      \n",
            " |      Parameters\n",
            " |      ----------\n",
            " |      file : str or Path\n",
            " |          A string naming the dump file.\n",
            " |      \n",
            " |          .. versionchanged:: 1.17.0\n",
            " |              `pathlib.Path` objects are now accepted.\n",
            " |  \n",
            " |  dumps(...)\n",
            " |      a.dumps()\n",
            " |      \n",
            " |      Returns the pickle of the array as a string.\n",
            " |      pickle.loads will convert the string back to an array.\n",
            " |      \n",
            " |      Parameters\n",
            " |      ----------\n",
            " |      None\n",
            " |  \n",
            " |  fill(...)\n",
            " |      a.fill(value)\n",
            " |      \n",
            " |      Fill the array with a scalar value.\n",
            " |      \n",
            " |      Parameters\n",
            " |      ----------\n",
            " |      value : scalar\n",
            " |          All elements of `a` will be assigned this value.\n",
            " |      \n",
            " |      Examples\n",
            " |      --------\n",
            " |      >>> a = np.array([1, 2])\n",
            " |      >>> a.fill(0)\n",
            " |      >>> a\n",
            " |      array([0, 0])\n",
            " |      >>> a = np.empty(2)\n",
            " |      >>> a.fill(1)\n",
            " |      >>> a\n",
            " |      array([1.,  1.])\n",
            " |  \n",
            " |  flatten(...)\n",
            " |      a.flatten(order='C')\n",
            " |      \n",
            " |      Return a copy of the array collapsed into one dimension.\n",
            " |      \n",
            " |      Parameters\n",
            " |      ----------\n",
            " |      order : {'C', 'F', 'A', 'K'}, optional\n",
            " |          'C' means to flatten in row-major (C-style) order.\n",
            " |          'F' means to flatten in column-major (Fortran-\n",
            " |          style) order. 'A' means to flatten in column-major\n",
            " |          order if `a` is Fortran *contiguous* in memory,\n",
            " |          row-major order otherwise. 'K' means to flatten\n",
            " |          `a` in the order the elements occur in memory.\n",
            " |          The default is 'C'.\n",
            " |      \n",
            " |      Returns\n",
            " |      -------\n",
            " |      y : ndarray\n",
            " |          A copy of the input array, flattened to one dimension.\n",
            " |      \n",
            " |      See Also\n",
            " |      --------\n",
            " |      ravel : Return a flattened array.\n",
            " |      flat : A 1-D flat iterator over the array.\n",
            " |      \n",
            " |      Examples\n",
            " |      --------\n",
            " |      >>> a = np.array([[1,2], [3,4]])\n",
            " |      >>> a.flatten()\n",
            " |      array([1, 2, 3, 4])\n",
            " |      >>> a.flatten('F')\n",
            " |      array([1, 3, 2, 4])\n",
            " |  \n",
            " |  getfield(...)\n",
            " |      a.getfield(dtype, offset=0)\n",
            " |      \n",
            " |      Returns a field of the given array as a certain type.\n",
            " |      \n",
            " |      A field is a view of the array data with a given data-type. The values in\n",
            " |      the view are determined by the given type and the offset into the current\n",
            " |      array in bytes. The offset needs to be such that the view dtype fits in the\n",
            " |      array dtype; for example an array of dtype complex128 has 16-byte elements.\n",
            " |      If taking a view with a 32-bit integer (4 bytes), the offset needs to be\n",
            " |      between 0 and 12 bytes.\n",
            " |      \n",
            " |      Parameters\n",
            " |      ----------\n",
            " |      dtype : str or dtype\n",
            " |          The data type of the view. The dtype size of the view can not be larger\n",
            " |          than that of the array itself.\n",
            " |      offset : int\n",
            " |          Number of bytes to skip before beginning the element view.\n",
            " |      \n",
            " |      Examples\n",
            " |      --------\n",
            " |      >>> x = np.diag([1.+1.j]*2)\n",
            " |      >>> x[1, 1] = 2 + 4.j\n",
            " |      >>> x\n",
            " |      array([[1.+1.j,  0.+0.j],\n",
            " |             [0.+0.j,  2.+4.j]])\n",
            " |      >>> x.getfield(np.float64)\n",
            " |      array([[1.,  0.],\n",
            " |             [0.,  2.]])\n",
            " |      \n",
            " |      By choosing an offset of 8 bytes we can select the complex part of the\n",
            " |      array for our view:\n",
            " |      \n",
            " |      >>> x.getfield(np.float64, offset=8)\n",
            " |      array([[1.,  0.],\n",
            " |             [0.,  4.]])\n",
            " |  \n",
            " |  item(...)\n",
            " |      a.item(*args)\n",
            " |      \n",
            " |      Copy an element of an array to a standard Python scalar and return it.\n",
            " |      \n",
            " |      Parameters\n",
            " |      ----------\n",
            " |      \\*args : Arguments (variable number and type)\n",
            " |      \n",
            " |          * none: in this case, the method only works for arrays\n",
            " |            with one element (`a.size == 1`), which element is\n",
            " |            copied into a standard Python scalar object and returned.\n",
            " |      \n",
            " |          * int_type: this argument is interpreted as a flat index into\n",
            " |            the array, specifying which element to copy and return.\n",
            " |      \n",
            " |          * tuple of int_types: functions as does a single int_type argument,\n",
            " |            except that the argument is interpreted as an nd-index into the\n",
            " |            array.\n",
            " |      \n",
            " |      Returns\n",
            " |      -------\n",
            " |      z : Standard Python scalar object\n",
            " |          A copy of the specified element of the array as a suitable\n",
            " |          Python scalar\n",
            " |      \n",
            " |      Notes\n",
            " |      -----\n",
            " |      When the data type of `a` is longdouble or clongdouble, item() returns\n",
            " |      a scalar array object because there is no available Python scalar that\n",
            " |      would not lose information. Void arrays return a buffer object for item(),\n",
            " |      unless fields are defined, in which case a tuple is returned.\n",
            " |      \n",
            " |      `item` is very similar to a[args], except, instead of an array scalar,\n",
            " |      a standard Python scalar is returned. This can be useful for speeding up\n",
            " |      access to elements of the array and doing arithmetic on elements of the\n",
            " |      array using Python's optimized math.\n",
            " |      \n",
            " |      Examples\n",
            " |      --------\n",
            " |      >>> np.random.seed(123)\n",
            " |      >>> x = np.random.randint(9, size=(3, 3))\n",
            " |      >>> x\n",
            " |      array([[2, 2, 6],\n",
            " |             [1, 3, 6],\n",
            " |             [1, 0, 1]])\n",
            " |      >>> x.item(3)\n",
            " |      1\n",
            " |      >>> x.item(7)\n",
            " |      0\n",
            " |      >>> x.item((0, 1))\n",
            " |      2\n",
            " |      >>> x.item((2, 2))\n",
            " |      1\n",
            " |  \n",
            " |  itemset(...)\n",
            " |      a.itemset(*args)\n",
            " |      \n",
            " |      Insert scalar into an array (scalar is cast to array's dtype, if possible)\n",
            " |      \n",
            " |      There must be at least 1 argument, and define the last argument\n",
            " |      as *item*.  Then, ``a.itemset(*args)`` is equivalent to but faster\n",
            " |      than ``a[args] = item``.  The item should be a scalar value and `args`\n",
            " |      must select a single item in the array `a`.\n",
            " |      \n",
            " |      Parameters\n",
            " |      ----------\n",
            " |      \\*args : Arguments\n",
            " |          If one argument: a scalar, only used in case `a` is of size 1.\n",
            " |          If two arguments: the last argument is the value to be set\n",
            " |          and must be a scalar, the first argument specifies a single array\n",
            " |          element location. It is either an int or a tuple.\n",
            " |      \n",
            " |      Notes\n",
            " |      -----\n",
            " |      Compared to indexing syntax, `itemset` provides some speed increase\n",
            " |      for placing a scalar into a particular location in an `ndarray`,\n",
            " |      if you must do this.  However, generally this is discouraged:\n",
            " |      among other problems, it complicates the appearance of the code.\n",
            " |      Also, when using `itemset` (and `item`) inside a loop, be sure\n",
            " |      to assign the methods to a local variable to avoid the attribute\n",
            " |      look-up at each loop iteration.\n",
            " |      \n",
            " |      Examples\n",
            " |      --------\n",
            " |      >>> np.random.seed(123)\n",
            " |      >>> x = np.random.randint(9, size=(3, 3))\n",
            " |      >>> x\n",
            " |      array([[2, 2, 6],\n",
            " |             [1, 3, 6],\n",
            " |             [1, 0, 1]])\n",
            " |      >>> x.itemset(4, 0)\n",
            " |      >>> x.itemset((2, 2), 9)\n",
            " |      >>> x\n",
            " |      array([[2, 2, 6],\n",
            " |             [1, 0, 6],\n",
            " |             [1, 0, 9]])\n",
            " |  \n",
            " |  max(...)\n",
            " |      a.max(axis=None, out=None, keepdims=False, initial=<no value>, where=True)\n",
            " |      \n",
            " |      Return the maximum along a given axis.\n",
            " |      \n",
            " |      Refer to `numpy.amax` for full documentation.\n",
            " |      \n",
            " |      See Also\n",
            " |      --------\n",
            " |      numpy.amax : equivalent function\n",
            " |  \n",
            " |  mean(...)\n",
            " |      a.mean(axis=None, dtype=None, out=None, keepdims=False, *, where=True)\n",
            " |      \n",
            " |      Returns the average of the array elements along given axis.\n",
            " |      \n",
            " |      Refer to `numpy.mean` for full documentation.\n",
            " |      \n",
            " |      See Also\n",
            " |      --------\n",
            " |      numpy.mean : equivalent function\n",
            " |  \n",
            " |  min(...)\n",
            " |      a.min(axis=None, out=None, keepdims=False, initial=<no value>, where=True)\n",
            " |      \n",
            " |      Return the minimum along a given axis.\n",
            " |      \n",
            " |      Refer to `numpy.amin` for full documentation.\n",
            " |      \n",
            " |      See Also\n",
            " |      --------\n",
            " |      numpy.amin : equivalent function\n",
            " |  \n",
            " |  newbyteorder(...)\n",
            " |      arr.newbyteorder(new_order='S', /)\n",
            " |      \n",
            " |      Return the array with the same data viewed with a different byte order.\n",
            " |      \n",
            " |      Equivalent to::\n",
            " |      \n",
            " |          arr.view(arr.dtype.newbytorder(new_order))\n",
            " |      \n",
            " |      Changes are also made in all fields and sub-arrays of the array data\n",
            " |      type.\n",
            " |      \n",
            " |      \n",
            " |      \n",
            " |      Parameters\n",
            " |      ----------\n",
            " |      new_order : string, optional\n",
            " |          Byte order to force; a value from the byte order specifications\n",
            " |          below. `new_order` codes can be any of:\n",
            " |      \n",
            " |          * 'S' - swap dtype from current to opposite endian\n",
            " |          * {'<', 'little'} - little endian\n",
            " |          * {'>', 'big'} - big endian\n",
            " |          * {'=', 'native'} - native order, equivalent to `sys.byteorder`\n",
            " |          * {'|', 'I'} - ignore (no change to byte order)\n",
            " |      \n",
            " |          The default value ('S') results in swapping the current\n",
            " |          byte order.\n",
            " |      \n",
            " |      \n",
            " |      Returns\n",
            " |      -------\n",
            " |      new_arr : array\n",
            " |          New array object with the dtype reflecting given change to the\n",
            " |          byte order.\n",
            " |  \n",
            " |  nonzero(...)\n",
            " |      a.nonzero()\n",
            " |      \n",
            " |      Return the indices of the elements that are non-zero.\n",
            " |      \n",
            " |      Refer to `numpy.nonzero` for full documentation.\n",
            " |      \n",
            " |      See Also\n",
            " |      --------\n",
            " |      numpy.nonzero : equivalent function\n",
            " |  \n",
            " |  partition(...)\n",
            " |      a.partition(kth, axis=-1, kind='introselect', order=None)\n",
            " |      \n",
            " |      Rearranges the elements in the array in such a way that the value of the\n",
            " |      element in kth position is in the position it would be in a sorted array.\n",
            " |      All elements smaller than the kth element are moved before this element and\n",
            " |      all equal or greater are moved behind it. The ordering of the elements in\n",
            " |      the two partitions is undefined.\n",
            " |      \n",
            " |      .. versionadded:: 1.8.0\n",
            " |      \n",
            " |      Parameters\n",
            " |      ----------\n",
            " |      kth : int or sequence of ints\n",
            " |          Element index to partition by. The kth element value will be in its\n",
            " |          final sorted position and all smaller elements will be moved before it\n",
            " |          and all equal or greater elements behind it.\n",
            " |          The order of all elements in the partitions is undefined.\n",
            " |          If provided with a sequence of kth it will partition all elements\n",
            " |          indexed by kth of them into their sorted position at once.\n",
            " |      \n",
            " |          .. deprecated:: 1.22.0\n",
            " |              Passing booleans as index is deprecated.\n",
            " |      axis : int, optional\n",
            " |          Axis along which to sort. Default is -1, which means sort along the\n",
            " |          last axis.\n",
            " |      kind : {'introselect'}, optional\n",
            " |          Selection algorithm. Default is 'introselect'.\n",
            " |      order : str or list of str, optional\n",
            " |          When `a` is an array with fields defined, this argument specifies\n",
            " |          which fields to compare first, second, etc. A single field can\n",
            " |          be specified as a string, and not all fields need to be specified,\n",
            " |          but unspecified fields will still be used, in the order in which\n",
            " |          they come up in the dtype, to break ties.\n",
            " |      \n",
            " |      See Also\n",
            " |      --------\n",
            " |      numpy.partition : Return a parititioned copy of an array.\n",
            " |      argpartition : Indirect partition.\n",
            " |      sort : Full sort.\n",
            " |      \n",
            " |      Notes\n",
            " |      -----\n",
            " |      See ``np.partition`` for notes on the different algorithms.\n",
            " |      \n",
            " |      Examples\n",
            " |      --------\n",
            " |      >>> a = np.array([3, 4, 2, 1])\n",
            " |      >>> a.partition(3)\n",
            " |      >>> a\n",
            " |      array([2, 1, 3, 4])\n",
            " |      \n",
            " |      >>> a.partition((1, 3))\n",
            " |      >>> a\n",
            " |      array([1, 2, 3, 4])\n",
            " |  \n",
            " |  prod(...)\n",
            " |      a.prod(axis=None, dtype=None, out=None, keepdims=False, initial=1, where=True)\n",
            " |      \n",
            " |      Return the product of the array elements over the given axis\n",
            " |      \n",
            " |      Refer to `numpy.prod` for full documentation.\n",
            " |      \n",
            " |      See Also\n",
            " |      --------\n",
            " |      numpy.prod : equivalent function\n",
            " |  \n",
            " |  ptp(...)\n",
            " |      a.ptp(axis=None, out=None, keepdims=False)\n",
            " |      \n",
            " |      Peak to peak (maximum - minimum) value along a given axis.\n",
            " |      \n",
            " |      Refer to `numpy.ptp` for full documentation.\n",
            " |      \n",
            " |      See Also\n",
            " |      --------\n",
            " |      numpy.ptp : equivalent function\n",
            " |  \n",
            " |  put(...)\n",
            " |      a.put(indices, values, mode='raise')\n",
            " |      \n",
            " |      Set ``a.flat[n] = values[n]`` for all `n` in indices.\n",
            " |      \n",
            " |      Refer to `numpy.put` for full documentation.\n",
            " |      \n",
            " |      See Also\n",
            " |      --------\n",
            " |      numpy.put : equivalent function\n",
            " |  \n",
            " |  ravel(...)\n",
            " |      a.ravel([order])\n",
            " |      \n",
            " |      Return a flattened array.\n",
            " |      \n",
            " |      Refer to `numpy.ravel` for full documentation.\n",
            " |      \n",
            " |      See Also\n",
            " |      --------\n",
            " |      numpy.ravel : equivalent function\n",
            " |      \n",
            " |      ndarray.flat : a flat iterator on the array.\n",
            " |  \n",
            " |  repeat(...)\n",
            " |      a.repeat(repeats, axis=None)\n",
            " |      \n",
            " |      Repeat elements of an array.\n",
            " |      \n",
            " |      Refer to `numpy.repeat` for full documentation.\n",
            " |      \n",
            " |      See Also\n",
            " |      --------\n",
            " |      numpy.repeat : equivalent function\n",
            " |  \n",
            " |  reshape(...)\n",
            " |      a.reshape(shape, order='C')\n",
            " |      \n",
            " |      Returns an array containing the same data with a new shape.\n",
            " |      \n",
            " |      Refer to `numpy.reshape` for full documentation.\n",
            " |      \n",
            " |      See Also\n",
            " |      --------\n",
            " |      numpy.reshape : equivalent function\n",
            " |      \n",
            " |      Notes\n",
            " |      -----\n",
            " |      Unlike the free function `numpy.reshape`, this method on `ndarray` allows\n",
            " |      the elements of the shape parameter to be passed in as separate arguments.\n",
            " |      For example, ``a.reshape(10, 11)`` is equivalent to\n",
            " |      ``a.reshape((10, 11))``.\n",
            " |  \n",
            " |  resize(...)\n",
            " |      a.resize(new_shape, refcheck=True)\n",
            " |      \n",
            " |      Change shape and size of array in-place.\n",
            " |      \n",
            " |      Parameters\n",
            " |      ----------\n",
            " |      new_shape : tuple of ints, or `n` ints\n",
            " |          Shape of resized array.\n",
            " |      refcheck : bool, optional\n",
            " |          If False, reference count will not be checked. Default is True.\n",
            " |      \n",
            " |      Returns\n",
            " |      -------\n",
            " |      None\n",
            " |      \n",
            " |      Raises\n",
            " |      ------\n",
            " |      ValueError\n",
            " |          If `a` does not own its own data or references or views to it exist,\n",
            " |          and the data memory must be changed.\n",
            " |          PyPy only: will always raise if the data memory must be changed, since\n",
            " |          there is no reliable way to determine if references or views to it\n",
            " |          exist.\n",
            " |      \n",
            " |      SystemError\n",
            " |          If the `order` keyword argument is specified. This behaviour is a\n",
            " |          bug in NumPy.\n",
            " |      \n",
            " |      See Also\n",
            " |      --------\n",
            " |      resize : Return a new array with the specified shape.\n",
            " |      \n",
            " |      Notes\n",
            " |      -----\n",
            " |      This reallocates space for the data area if necessary.\n",
            " |      \n",
            " |      Only contiguous arrays (data elements consecutive in memory) can be\n",
            " |      resized.\n",
            " |      \n",
            " |      The purpose of the reference count check is to make sure you\n",
            " |      do not use this array as a buffer for another Python object and then\n",
            " |      reallocate the memory. However, reference counts can increase in\n",
            " |      other ways so if you are sure that you have not shared the memory\n",
            " |      for this array with another Python object, then you may safely set\n",
            " |      `refcheck` to False.\n",
            " |      \n",
            " |      Examples\n",
            " |      --------\n",
            " |      Shrinking an array: array is flattened (in the order that the data are\n",
            " |      stored in memory), resized, and reshaped:\n",
            " |      \n",
            " |      >>> a = np.array([[0, 1], [2, 3]], order='C')\n",
            " |      >>> a.resize((2, 1))\n",
            " |      >>> a\n",
            " |      array([[0],\n",
            " |             [1]])\n",
            " |      \n",
            " |      >>> a = np.array([[0, 1], [2, 3]], order='F')\n",
            " |      >>> a.resize((2, 1))\n",
            " |      >>> a\n",
            " |      array([[0],\n",
            " |             [2]])\n",
            " |      \n",
            " |      Enlarging an array: as above, but missing entries are filled with zeros:\n",
            " |      \n",
            " |      >>> b = np.array([[0, 1], [2, 3]])\n",
            " |      >>> b.resize(2, 3) # new_shape parameter doesn't have to be a tuple\n",
            " |      >>> b\n",
            " |      array([[0, 1, 2],\n",
            " |             [3, 0, 0]])\n",
            " |      \n",
            " |      Referencing an array prevents resizing...\n",
            " |      \n",
            " |      >>> c = a\n",
            " |      >>> a.resize((1, 1))\n",
            " |      Traceback (most recent call last):\n",
            " |      ...\n",
            " |      ValueError: cannot resize an array that references or is referenced ...\n",
            " |      \n",
            " |      Unless `refcheck` is False:\n",
            " |      \n",
            " |      >>> a.resize((1, 1), refcheck=False)\n",
            " |      >>> a\n",
            " |      array([[0]])\n",
            " |      >>> c\n",
            " |      array([[0]])\n",
            " |  \n",
            " |  round(...)\n",
            " |      a.round(decimals=0, out=None)\n",
            " |      \n",
            " |      Return `a` with each element rounded to the given number of decimals.\n",
            " |      \n",
            " |      Refer to `numpy.around` for full documentation.\n",
            " |      \n",
            " |      See Also\n",
            " |      --------\n",
            " |      numpy.around : equivalent function\n",
            " |  \n",
            " |  searchsorted(...)\n",
            " |      a.searchsorted(v, side='left', sorter=None)\n",
            " |      \n",
            " |      Find indices where elements of v should be inserted in a to maintain order.\n",
            " |      \n",
            " |      For full documentation, see `numpy.searchsorted`\n",
            " |      \n",
            " |      See Also\n",
            " |      --------\n",
            " |      numpy.searchsorted : equivalent function\n",
            " |  \n",
            " |  setfield(...)\n",
            " |      a.setfield(val, dtype, offset=0)\n",
            " |      \n",
            " |      Put a value into a specified place in a field defined by a data-type.\n",
            " |      \n",
            " |      Place `val` into `a`'s field defined by `dtype` and beginning `offset`\n",
            " |      bytes into the field.\n",
            " |      \n",
            " |      Parameters\n",
            " |      ----------\n",
            " |      val : object\n",
            " |          Value to be placed in field.\n",
            " |      dtype : dtype object\n",
            " |          Data-type of the field in which to place `val`.\n",
            " |      offset : int, optional\n",
            " |          The number of bytes into the field at which to place `val`.\n",
            " |      \n",
            " |      Returns\n",
            " |      -------\n",
            " |      None\n",
            " |      \n",
            " |      See Also\n",
            " |      --------\n",
            " |      getfield\n",
            " |      \n",
            " |      Examples\n",
            " |      --------\n",
            " |      >>> x = np.eye(3)\n",
            " |      >>> x.getfield(np.float64)\n",
            " |      array([[1.,  0.,  0.],\n",
            " |             [0.,  1.,  0.],\n",
            " |             [0.,  0.,  1.]])\n",
            " |      >>> x.setfield(3, np.int32)\n",
            " |      >>> x.getfield(np.int32)\n",
            " |      array([[3, 3, 3],\n",
            " |             [3, 3, 3],\n",
            " |             [3, 3, 3]], dtype=int32)\n",
            " |      >>> x\n",
            " |      array([[1.0e+000, 1.5e-323, 1.5e-323],\n",
            " |             [1.5e-323, 1.0e+000, 1.5e-323],\n",
            " |             [1.5e-323, 1.5e-323, 1.0e+000]])\n",
            " |      >>> x.setfield(np.eye(3), np.int32)\n",
            " |      >>> x\n",
            " |      array([[1.,  0.,  0.],\n",
            " |             [0.,  1.,  0.],\n",
            " |             [0.,  0.,  1.]])\n",
            " |  \n",
            " |  setflags(...)\n",
            " |      a.setflags(write=None, align=None, uic=None)\n",
            " |      \n",
            " |      Set array flags WRITEABLE, ALIGNED, (WRITEBACKIFCOPY and UPDATEIFCOPY),\n",
            " |      respectively.\n",
            " |      \n",
            " |      These Boolean-valued flags affect how numpy interprets the memory\n",
            " |      area used by `a` (see Notes below). The ALIGNED flag can only\n",
            " |      be set to True if the data is actually aligned according to the type.\n",
            " |      The WRITEBACKIFCOPY and (deprecated) UPDATEIFCOPY flags can never be set\n",
            " |      to True. The flag WRITEABLE can only be set to True if the array owns its\n",
            " |      own memory, or the ultimate owner of the memory exposes a writeable buffer\n",
            " |      interface, or is a string. (The exception for string is made so that\n",
            " |      unpickling can be done without copying memory.)\n",
            " |      \n",
            " |      Parameters\n",
            " |      ----------\n",
            " |      write : bool, optional\n",
            " |          Describes whether or not `a` can be written to.\n",
            " |      align : bool, optional\n",
            " |          Describes whether or not `a` is aligned properly for its type.\n",
            " |      uic : bool, optional\n",
            " |          Describes whether or not `a` is a copy of another \"base\" array.\n",
            " |      \n",
            " |      Notes\n",
            " |      -----\n",
            " |      Array flags provide information about how the memory area used\n",
            " |      for the array is to be interpreted. There are 7 Boolean flags\n",
            " |      in use, only four of which can be changed by the user:\n",
            " |      WRITEBACKIFCOPY, UPDATEIFCOPY, WRITEABLE, and ALIGNED.\n",
            " |      \n",
            " |      WRITEABLE (W) the data area can be written to;\n",
            " |      \n",
            " |      ALIGNED (A) the data and strides are aligned appropriately for the hardware\n",
            " |      (as determined by the compiler);\n",
            " |      \n",
            " |      UPDATEIFCOPY (U) (deprecated), replaced by WRITEBACKIFCOPY;\n",
            " |      \n",
            " |      WRITEBACKIFCOPY (X) this array is a copy of some other array (referenced\n",
            " |      by .base). When the C-API function PyArray_ResolveWritebackIfCopy is\n",
            " |      called, the base array will be updated with the contents of this array.\n",
            " |      \n",
            " |      All flags can be accessed using the single (upper case) letter as well\n",
            " |      as the full name.\n",
            " |      \n",
            " |      Examples\n",
            " |      --------\n",
            " |      >>> y = np.array([[3, 1, 7],\n",
            " |      ...               [2, 0, 0],\n",
            " |      ...               [8, 5, 9]])\n",
            " |      >>> y\n",
            " |      array([[3, 1, 7],\n",
            " |             [2, 0, 0],\n",
            " |             [8, 5, 9]])\n",
            " |      >>> y.flags\n",
            " |        C_CONTIGUOUS : True\n",
            " |        F_CONTIGUOUS : False\n",
            " |        OWNDATA : True\n",
            " |        WRITEABLE : True\n",
            " |        ALIGNED : True\n",
            " |        WRITEBACKIFCOPY : False\n",
            " |        UPDATEIFCOPY : False\n",
            " |      >>> y.setflags(write=0, align=0)\n",
            " |      >>> y.flags\n",
            " |        C_CONTIGUOUS : True\n",
            " |        F_CONTIGUOUS : False\n",
            " |        OWNDATA : True\n",
            " |        WRITEABLE : False\n",
            " |        ALIGNED : False\n",
            " |        WRITEBACKIFCOPY : False\n",
            " |        UPDATEIFCOPY : False\n",
            " |      >>> y.setflags(uic=1)\n",
            " |      Traceback (most recent call last):\n",
            " |        File \"<stdin>\", line 1, in <module>\n",
            " |      ValueError: cannot set WRITEBACKIFCOPY flag to True\n",
            " |  \n",
            " |  sort(...)\n",
            " |      a.sort(axis=-1, kind=None, order=None)\n",
            " |      \n",
            " |      Sort an array in-place. Refer to `numpy.sort` for full documentation.\n",
            " |      \n",
            " |      Parameters\n",
            " |      ----------\n",
            " |      axis : int, optional\n",
            " |          Axis along which to sort. Default is -1, which means sort along the\n",
            " |          last axis.\n",
            " |      kind : {'quicksort', 'mergesort', 'heapsort', 'stable'}, optional\n",
            " |          Sorting algorithm. The default is 'quicksort'. Note that both 'stable'\n",
            " |          and 'mergesort' use timsort under the covers and, in general, the\n",
            " |          actual implementation will vary with datatype. The 'mergesort' option\n",
            " |          is retained for backwards compatibility.\n",
            " |      \n",
            " |          .. versionchanged:: 1.15.0\n",
            " |             The 'stable' option was added.\n",
            " |      \n",
            " |      order : str or list of str, optional\n",
            " |          When `a` is an array with fields defined, this argument specifies\n",
            " |          which fields to compare first, second, etc.  A single field can\n",
            " |          be specified as a string, and not all fields need be specified,\n",
            " |          but unspecified fields will still be used, in the order in which\n",
            " |          they come up in the dtype, to break ties.\n",
            " |      \n",
            " |      See Also\n",
            " |      --------\n",
            " |      numpy.sort : Return a sorted copy of an array.\n",
            " |      numpy.argsort : Indirect sort.\n",
            " |      numpy.lexsort : Indirect stable sort on multiple keys.\n",
            " |      numpy.searchsorted : Find elements in sorted array.\n",
            " |      numpy.partition: Partial sort.\n",
            " |      \n",
            " |      Notes\n",
            " |      -----\n",
            " |      See `numpy.sort` for notes on the different sorting algorithms.\n",
            " |      \n",
            " |      Examples\n",
            " |      --------\n",
            " |      >>> a = np.array([[1,4], [3,1]])\n",
            " |      >>> a.sort(axis=1)\n",
            " |      >>> a\n",
            " |      array([[1, 4],\n",
            " |             [1, 3]])\n",
            " |      >>> a.sort(axis=0)\n",
            " |      >>> a\n",
            " |      array([[1, 3],\n",
            " |             [1, 4]])\n",
            " |      \n",
            " |      Use the `order` keyword to specify a field to use when sorting a\n",
            " |      structured array:\n",
            " |      \n",
            " |      >>> a = np.array([('a', 2), ('c', 1)], dtype=[('x', 'S1'), ('y', int)])\n",
            " |      >>> a.sort(order='y')\n",
            " |      >>> a\n",
            " |      array([(b'c', 1), (b'a', 2)],\n",
            " |            dtype=[('x', 'S1'), ('y', '<i8')])\n",
            " |  \n",
            " |  squeeze(...)\n",
            " |      a.squeeze(axis=None)\n",
            " |      \n",
            " |      Remove axes of length one from `a`.\n",
            " |      \n",
            " |      Refer to `numpy.squeeze` for full documentation.\n",
            " |      \n",
            " |      See Also\n",
            " |      --------\n",
            " |      numpy.squeeze : equivalent function\n",
            " |  \n",
            " |  std(...)\n",
            " |      a.std(axis=None, dtype=None, out=None, ddof=0, keepdims=False, *, where=True)\n",
            " |      \n",
            " |      Returns the standard deviation of the array elements along given axis.\n",
            " |      \n",
            " |      Refer to `numpy.std` for full documentation.\n",
            " |      \n",
            " |      See Also\n",
            " |      --------\n",
            " |      numpy.std : equivalent function\n",
            " |  \n",
            " |  sum(...)\n",
            " |      a.sum(axis=None, dtype=None, out=None, keepdims=False, initial=0, where=True)\n",
            " |      \n",
            " |      Return the sum of the array elements over the given axis.\n",
            " |      \n",
            " |      Refer to `numpy.sum` for full documentation.\n",
            " |      \n",
            " |      See Also\n",
            " |      --------\n",
            " |      numpy.sum : equivalent function\n",
            " |  \n",
            " |  swapaxes(...)\n",
            " |      a.swapaxes(axis1, axis2)\n",
            " |      \n",
            " |      Return a view of the array with `axis1` and `axis2` interchanged.\n",
            " |      \n",
            " |      Refer to `numpy.swapaxes` for full documentation.\n",
            " |      \n",
            " |      See Also\n",
            " |      --------\n",
            " |      numpy.swapaxes : equivalent function\n",
            " |  \n",
            " |  take(...)\n",
            " |      a.take(indices, axis=None, out=None, mode='raise')\n",
            " |      \n",
            " |      Return an array formed from the elements of `a` at the given indices.\n",
            " |      \n",
            " |      Refer to `numpy.take` for full documentation.\n",
            " |      \n",
            " |      See Also\n",
            " |      --------\n",
            " |      numpy.take : equivalent function\n",
            " |  \n",
            " |  tobytes(...)\n",
            " |      a.tobytes(order='C')\n",
            " |      \n",
            " |      Construct Python bytes containing the raw data bytes in the array.\n",
            " |      \n",
            " |      Constructs Python bytes showing a copy of the raw contents of\n",
            " |      data memory. The bytes object is produced in C-order by default.\n",
            " |      This behavior is controlled by the ``order`` parameter.\n",
            " |      \n",
            " |      .. versionadded:: 1.9.0\n",
            " |      \n",
            " |      Parameters\n",
            " |      ----------\n",
            " |      order : {'C', 'F', 'A'}, optional\n",
            " |          Controls the memory layout of the bytes object. 'C' means C-order,\n",
            " |          'F' means F-order, 'A' (short for *Any*) means 'F' if `a` is\n",
            " |          Fortran contiguous, 'C' otherwise. Default is 'C'.\n",
            " |      \n",
            " |      Returns\n",
            " |      -------\n",
            " |      s : bytes\n",
            " |          Python bytes exhibiting a copy of `a`'s raw data.\n",
            " |      \n",
            " |      Examples\n",
            " |      --------\n",
            " |      >>> x = np.array([[0, 1], [2, 3]], dtype='<u2')\n",
            " |      >>> x.tobytes()\n",
            " |      b'\\x00\\x00\\x01\\x00\\x02\\x00\\x03\\x00'\n",
            " |      >>> x.tobytes('C') == x.tobytes()\n",
            " |      True\n",
            " |      >>> x.tobytes('F')\n",
            " |      b'\\x00\\x00\\x02\\x00\\x01\\x00\\x03\\x00'\n",
            " |  \n",
            " |  tofile(...)\n",
            " |      a.tofile(fid, sep=\"\", format=\"%s\")\n",
            " |      \n",
            " |      Write array to a file as text or binary (default).\n",
            " |      \n",
            " |      Data is always written in 'C' order, independent of the order of `a`.\n",
            " |      The data produced by this method can be recovered using the function\n",
            " |      fromfile().\n",
            " |      \n",
            " |      Parameters\n",
            " |      ----------\n",
            " |      fid : file or str or Path\n",
            " |          An open file object, or a string containing a filename.\n",
            " |      \n",
            " |          .. versionchanged:: 1.17.0\n",
            " |              `pathlib.Path` objects are now accepted.\n",
            " |      \n",
            " |      sep : str\n",
            " |          Separator between array items for text output.\n",
            " |          If \"\" (empty), a binary file is written, equivalent to\n",
            " |          ``file.write(a.tobytes())``.\n",
            " |      format : str\n",
            " |          Format string for text file output.\n",
            " |          Each entry in the array is formatted to text by first converting\n",
            " |          it to the closest Python type, and then using \"format\" % item.\n",
            " |      \n",
            " |      Notes\n",
            " |      -----\n",
            " |      This is a convenience function for quick storage of array data.\n",
            " |      Information on endianness and precision is lost, so this method is not a\n",
            " |      good choice for files intended to archive data or transport data between\n",
            " |      machines with different endianness. Some of these problems can be overcome\n",
            " |      by outputting the data as text files, at the expense of speed and file\n",
            " |      size.\n",
            " |      \n",
            " |      When fid is a file object, array contents are directly written to the\n",
            " |      file, bypassing the file object's ``write`` method. As a result, tofile\n",
            " |      cannot be used with files objects supporting compression (e.g., GzipFile)\n",
            " |      or file-like objects that do not support ``fileno()`` (e.g., BytesIO).\n",
            " |  \n",
            " |  tolist(...)\n",
            " |      a.tolist()\n",
            " |      \n",
            " |      Return the array as an ``a.ndim``-levels deep nested list of Python scalars.\n",
            " |      \n",
            " |      Return a copy of the array data as a (nested) Python list.\n",
            " |      Data items are converted to the nearest compatible builtin Python type, via\n",
            " |      the `~numpy.ndarray.item` function.\n",
            " |      \n",
            " |      If ``a.ndim`` is 0, then since the depth of the nested list is 0, it will\n",
            " |      not be a list at all, but a simple Python scalar.\n",
            " |      \n",
            " |      Parameters\n",
            " |      ----------\n",
            " |      none\n",
            " |      \n",
            " |      Returns\n",
            " |      -------\n",
            " |      y : object, or list of object, or list of list of object, or ...\n",
            " |          The possibly nested list of array elements.\n",
            " |      \n",
            " |      Notes\n",
            " |      -----\n",
            " |      The array may be recreated via ``a = np.array(a.tolist())``, although this\n",
            " |      may sometimes lose precision.\n",
            " |      \n",
            " |      Examples\n",
            " |      --------\n",
            " |      For a 1D array, ``a.tolist()`` is almost the same as ``list(a)``,\n",
            " |      except that ``tolist`` changes numpy scalars to Python scalars:\n",
            " |      \n",
            " |      >>> a = np.uint32([1, 2])\n",
            " |      >>> a_list = list(a)\n",
            " |      >>> a_list\n",
            " |      [1, 2]\n",
            " |      >>> type(a_list[0])\n",
            " |      <class 'numpy.uint32'>\n",
            " |      >>> a_tolist = a.tolist()\n",
            " |      >>> a_tolist\n",
            " |      [1, 2]\n",
            " |      >>> type(a_tolist[0])\n",
            " |      <class 'int'>\n",
            " |      \n",
            " |      Additionally, for a 2D array, ``tolist`` applies recursively:\n",
            " |      \n",
            " |      >>> a = np.array([[1, 2], [3, 4]])\n",
            " |      >>> list(a)\n",
            " |      [array([1, 2]), array([3, 4])]\n",
            " |      >>> a.tolist()\n",
            " |      [[1, 2], [3, 4]]\n",
            " |      \n",
            " |      The base case for this recursion is a 0D array:\n",
            " |      \n",
            " |      >>> a = np.array(1)\n",
            " |      >>> list(a)\n",
            " |      Traceback (most recent call last):\n",
            " |        ...\n",
            " |      TypeError: iteration over a 0-d array\n",
            " |      >>> a.tolist()\n",
            " |      1\n",
            " |  \n",
            " |  tostring(...)\n",
            " |      a.tostring(order='C')\n",
            " |      \n",
            " |      A compatibility alias for `tobytes`, with exactly the same behavior.\n",
            " |      \n",
            " |      Despite its name, it returns `bytes` not `str`\\ s.\n",
            " |      \n",
            " |      .. deprecated:: 1.19.0\n",
            " |  \n",
            " |  trace(...)\n",
            " |      a.trace(offset=0, axis1=0, axis2=1, dtype=None, out=None)\n",
            " |      \n",
            " |      Return the sum along diagonals of the array.\n",
            " |      \n",
            " |      Refer to `numpy.trace` for full documentation.\n",
            " |      \n",
            " |      See Also\n",
            " |      --------\n",
            " |      numpy.trace : equivalent function\n",
            " |  \n",
            " |  transpose(...)\n",
            " |      a.transpose(*axes)\n",
            " |      \n",
            " |      Returns a view of the array with axes transposed.\n",
            " |      \n",
            " |      For a 1-D array this has no effect, as a transposed vector is simply the\n",
            " |      same vector. To convert a 1-D array into a 2D column vector, an additional\n",
            " |      dimension must be added. `np.atleast2d(a).T` achieves this, as does\n",
            " |      `a[:, np.newaxis]`.\n",
            " |      For a 2-D array, this is a standard matrix transpose.\n",
            " |      For an n-D array, if axes are given, their order indicates how the\n",
            " |      axes are permuted (see Examples). If axes are not provided and\n",
            " |      ``a.shape = (i[0], i[1], ... i[n-2], i[n-1])``, then\n",
            " |      ``a.transpose().shape = (i[n-1], i[n-2], ... i[1], i[0])``.\n",
            " |      \n",
            " |      Parameters\n",
            " |      ----------\n",
            " |      axes : None, tuple of ints, or `n` ints\n",
            " |      \n",
            " |       * None or no argument: reverses the order of the axes.\n",
            " |      \n",
            " |       * tuple of ints: `i` in the `j`-th place in the tuple means `a`'s\n",
            " |         `i`-th axis becomes `a.transpose()`'s `j`-th axis.\n",
            " |      \n",
            " |       * `n` ints: same as an n-tuple of the same ints (this form is\n",
            " |         intended simply as a \"convenience\" alternative to the tuple form)\n",
            " |      \n",
            " |      Returns\n",
            " |      -------\n",
            " |      out : ndarray\n",
            " |          View of `a`, with axes suitably permuted.\n",
            " |      \n",
            " |      See Also\n",
            " |      --------\n",
            " |      transpose : Equivalent function\n",
            " |      ndarray.T : Array property returning the array transposed.\n",
            " |      ndarray.reshape : Give a new shape to an array without changing its data.\n",
            " |      \n",
            " |      Examples\n",
            " |      --------\n",
            " |      >>> a = np.array([[1, 2], [3, 4]])\n",
            " |      >>> a\n",
            " |      array([[1, 2],\n",
            " |             [3, 4]])\n",
            " |      >>> a.transpose()\n",
            " |      array([[1, 3],\n",
            " |             [2, 4]])\n",
            " |      >>> a.transpose((1, 0))\n",
            " |      array([[1, 3],\n",
            " |             [2, 4]])\n",
            " |      >>> a.transpose(1, 0)\n",
            " |      array([[1, 3],\n",
            " |             [2, 4]])\n",
            " |  \n",
            " |  var(...)\n",
            " |      a.var(axis=None, dtype=None, out=None, ddof=0, keepdims=False, *, where=True)\n",
            " |      \n",
            " |      Returns the variance of the array elements, along given axis.\n",
            " |      \n",
            " |      Refer to `numpy.var` for full documentation.\n",
            " |      \n",
            " |      See Also\n",
            " |      --------\n",
            " |      numpy.var : equivalent function\n",
            " |  \n",
            " |  view(...)\n",
            " |      a.view([dtype][, type])\n",
            " |      \n",
            " |      New view of array with the same data.\n",
            " |      \n",
            " |      .. note::\n",
            " |          Passing None for ``dtype`` is different from omitting the parameter,\n",
            " |          since the former invokes ``dtype(None)`` which is an alias for\n",
            " |          ``dtype('float_')``.\n",
            " |      \n",
            " |      Parameters\n",
            " |      ----------\n",
            " |      dtype : data-type or ndarray sub-class, optional\n",
            " |          Data-type descriptor of the returned view, e.g., float32 or int16.\n",
            " |          Omitting it results in the view having the same data-type as `a`.\n",
            " |          This argument can also be specified as an ndarray sub-class, which\n",
            " |          then specifies the type of the returned object (this is equivalent to\n",
            " |          setting the ``type`` parameter).\n",
            " |      type : Python type, optional\n",
            " |          Type of the returned view, e.g., ndarray or matrix.  Again, omission\n",
            " |          of the parameter results in type preservation.\n",
            " |      \n",
            " |      Notes\n",
            " |      -----\n",
            " |      ``a.view()`` is used two different ways:\n",
            " |      \n",
            " |      ``a.view(some_dtype)`` or ``a.view(dtype=some_dtype)`` constructs a view\n",
            " |      of the array's memory with a different data-type.  This can cause a\n",
            " |      reinterpretation of the bytes of memory.\n",
            " |      \n",
            " |      ``a.view(ndarray_subclass)`` or ``a.view(type=ndarray_subclass)`` just\n",
            " |      returns an instance of `ndarray_subclass` that looks at the same array\n",
            " |      (same shape, dtype, etc.)  This does not cause a reinterpretation of the\n",
            " |      memory.\n",
            " |      \n",
            " |      For ``a.view(some_dtype)``, if ``some_dtype`` has a different number of\n",
            " |      bytes per entry than the previous dtype (for example, converting a\n",
            " |      regular array to a structured array), then the behavior of the view\n",
            " |      cannot be predicted just from the superficial appearance of ``a`` (shown\n",
            " |      by ``print(a)``). It also depends on exactly how ``a`` is stored in\n",
            " |      memory. Therefore if ``a`` is C-ordered versus fortran-ordered, versus\n",
            " |      defined as a slice or transpose, etc., the view may give different\n",
            " |      results.\n",
            " |      \n",
            " |      \n",
            " |      Examples\n",
            " |      --------\n",
            " |      >>> x = np.array([(1, 2)], dtype=[('a', np.int8), ('b', np.int8)])\n",
            " |      \n",
            " |      Viewing array data using a different type and dtype:\n",
            " |      \n",
            " |      >>> y = x.view(dtype=np.int16, type=np.matrix)\n",
            " |      >>> y\n",
            " |      matrix([[513]], dtype=int16)\n",
            " |      >>> print(type(y))\n",
            " |      <class 'numpy.matrix'>\n",
            " |      \n",
            " |      Creating a view on a structured array so it can be used in calculations\n",
            " |      \n",
            " |      >>> x = np.array([(1, 2),(3,4)], dtype=[('a', np.int8), ('b', np.int8)])\n",
            " |      >>> xv = x.view(dtype=np.int8).reshape(-1,2)\n",
            " |      >>> xv\n",
            " |      array([[1, 2],\n",
            " |             [3, 4]], dtype=int8)\n",
            " |      >>> xv.mean(0)\n",
            " |      array([2.,  3.])\n",
            " |      \n",
            " |      Making changes to the view changes the underlying array\n",
            " |      \n",
            " |      >>> xv[0,1] = 20\n",
            " |      >>> x\n",
            " |      array([(1, 20), (3,  4)], dtype=[('a', 'i1'), ('b', 'i1')])\n",
            " |      \n",
            " |      Using a view to convert an array to a recarray:\n",
            " |      \n",
            " |      >>> z = x.view(np.recarray)\n",
            " |      >>> z.a\n",
            " |      array([1, 3], dtype=int8)\n",
            " |      \n",
            " |      Views share data:\n",
            " |      \n",
            " |      >>> x[0] = (9, 10)\n",
            " |      >>> z[0]\n",
            " |      (9, 10)\n",
            " |      \n",
            " |      Views that change the dtype size (bytes per entry) should normally be\n",
            " |      avoided on arrays defined by slices, transposes, fortran-ordering, etc.:\n",
            " |      \n",
            " |      >>> x = np.array([[1,2,3],[4,5,6]], dtype=np.int16)\n",
            " |      >>> y = x[:, 0:2]\n",
            " |      >>> y\n",
            " |      array([[1, 2],\n",
            " |             [4, 5]], dtype=int16)\n",
            " |      >>> y.view(dtype=[('width', np.int16), ('length', np.int16)])\n",
            " |      Traceback (most recent call last):\n",
            " |          ...\n",
            " |      ValueError: To change to a dtype of a different size, the array must be C-contiguous\n",
            " |      >>> z = y.copy()\n",
            " |      >>> z.view(dtype=[('width', np.int16), ('length', np.int16)])\n",
            " |      array([[(1, 2)],\n",
            " |             [(4, 5)]], dtype=[('width', '<i2'), ('length', '<i2')])\n",
            " |  \n",
            " |  ----------------------------------------------------------------------\n",
            " |  Class methods defined here:\n",
            " |  \n",
            " |  __class_getitem__(...) from builtins.type\n",
            " |      a.__class_getitem__(item, /)\n",
            " |      \n",
            " |      Return a parametrized wrapper around the `~numpy.ndarray` type.\n",
            " |      \n",
            " |      .. versionadded:: 1.22\n",
            " |      \n",
            " |      Returns\n",
            " |      -------\n",
            " |      alias : types.GenericAlias\n",
            " |          A parametrized `~numpy.ndarray` type.\n",
            " |      \n",
            " |      Examples\n",
            " |      --------\n",
            " |      >>> from typing import Any\n",
            " |      >>> import numpy as np\n",
            " |      \n",
            " |      >>> np.ndarray[Any, np.dtype[Any]]\n",
            " |      numpy.ndarray[typing.Any, numpy.dtype[typing.Any]]\n",
            " |      \n",
            " |      Notes\n",
            " |      -----\n",
            " |      This method is only available for python 3.9 and later.\n",
            " |      \n",
            " |      See Also\n",
            " |      --------\n",
            " |      :pep:`585` : Type hinting generics in standard collections.\n",
            " |      numpy.typing.NDArray : An ndarray alias :term:`generic <generic type>`\n",
            " |                          w.r.t. its `dtype.type <numpy.dtype.type>`.\n",
            " |  \n",
            " |  ----------------------------------------------------------------------\n",
            " |  Static methods defined here:\n",
            " |  \n",
            " |  __new__(*args, **kwargs) from builtins.type\n",
            " |      Create and return a new object.  See help(type) for accurate signature.\n",
            " |  \n",
            " |  ----------------------------------------------------------------------\n",
            " |  Data descriptors defined here:\n",
            " |  \n",
            " |  T\n",
            " |      The transposed array.\n",
            " |      \n",
            " |      Same as ``self.transpose()``.\n",
            " |      \n",
            " |      Examples\n",
            " |      --------\n",
            " |      >>> x = np.array([[1.,2.],[3.,4.]])\n",
            " |      >>> x\n",
            " |      array([[ 1.,  2.],\n",
            " |             [ 3.,  4.]])\n",
            " |      >>> x.T\n",
            " |      array([[ 1.,  3.],\n",
            " |             [ 2.,  4.]])\n",
            " |      >>> x = np.array([1.,2.,3.,4.])\n",
            " |      >>> x\n",
            " |      array([ 1.,  2.,  3.,  4.])\n",
            " |      >>> x.T\n",
            " |      array([ 1.,  2.,  3.,  4.])\n",
            " |      \n",
            " |      See Also\n",
            " |      --------\n",
            " |      transpose\n",
            " |  \n",
            " |  __array_finalize__\n",
            " |      None.\n",
            " |  \n",
            " |  __array_interface__\n",
            " |      Array protocol: Python side.\n",
            " |  \n",
            " |  __array_priority__\n",
            " |      Array priority.\n",
            " |  \n",
            " |  __array_struct__\n",
            " |      Array protocol: C-struct side.\n",
            " |  \n",
            " |  base\n",
            " |      Base object if memory is from some other object.\n",
            " |      \n",
            " |      Examples\n",
            " |      --------\n",
            " |      The base of an array that owns its memory is None:\n",
            " |      \n",
            " |      >>> x = np.array([1,2,3,4])\n",
            " |      >>> x.base is None\n",
            " |      True\n",
            " |      \n",
            " |      Slicing creates a view, whose memory is shared with x:\n",
            " |      \n",
            " |      >>> y = x[2:]\n",
            " |      >>> y.base is x\n",
            " |      True\n",
            " |  \n",
            " |  ctypes\n",
            " |      An object to simplify the interaction of the array with the ctypes\n",
            " |      module.\n",
            " |      \n",
            " |      This attribute creates an object that makes it easier to use arrays\n",
            " |      when calling shared libraries with the ctypes module. The returned\n",
            " |      object has, among others, data, shape, and strides attributes (see\n",
            " |      Notes below) which themselves return ctypes objects that can be used\n",
            " |      as arguments to a shared library.\n",
            " |      \n",
            " |      Parameters\n",
            " |      ----------\n",
            " |      None\n",
            " |      \n",
            " |      Returns\n",
            " |      -------\n",
            " |      c : Python object\n",
            " |          Possessing attributes data, shape, strides, etc.\n",
            " |      \n",
            " |      See Also\n",
            " |      --------\n",
            " |      numpy.ctypeslib\n",
            " |      \n",
            " |      Notes\n",
            " |      -----\n",
            " |      Below are the public attributes of this object which were documented\n",
            " |      in \"Guide to NumPy\" (we have omitted undocumented public attributes,\n",
            " |      as well as documented private attributes):\n",
            " |      \n",
            " |      .. autoattribute:: numpy.core._internal._ctypes.data\n",
            " |          :noindex:\n",
            " |      \n",
            " |      .. autoattribute:: numpy.core._internal._ctypes.shape\n",
            " |          :noindex:\n",
            " |      \n",
            " |      .. autoattribute:: numpy.core._internal._ctypes.strides\n",
            " |          :noindex:\n",
            " |      \n",
            " |      .. automethod:: numpy.core._internal._ctypes.data_as\n",
            " |          :noindex:\n",
            " |      \n",
            " |      .. automethod:: numpy.core._internal._ctypes.shape_as\n",
            " |          :noindex:\n",
            " |      \n",
            " |      .. automethod:: numpy.core._internal._ctypes.strides_as\n",
            " |          :noindex:\n",
            " |      \n",
            " |      If the ctypes module is not available, then the ctypes attribute\n",
            " |      of array objects still returns something useful, but ctypes objects\n",
            " |      are not returned and errors may be raised instead. In particular,\n",
            " |      the object will still have the ``as_parameter`` attribute which will\n",
            " |      return an integer equal to the data attribute.\n",
            " |      \n",
            " |      Examples\n",
            " |      --------\n",
            " |      >>> import ctypes\n",
            " |      >>> x = np.array([[0, 1], [2, 3]], dtype=np.int32)\n",
            " |      >>> x\n",
            " |      array([[0, 1],\n",
            " |             [2, 3]], dtype=int32)\n",
            " |      >>> x.ctypes.data\n",
            " |      31962608 # may vary\n",
            " |      >>> x.ctypes.data_as(ctypes.POINTER(ctypes.c_uint32))\n",
            " |      <__main__.LP_c_uint object at 0x7ff2fc1fc200> # may vary\n",
            " |      >>> x.ctypes.data_as(ctypes.POINTER(ctypes.c_uint32)).contents\n",
            " |      c_uint(0)\n",
            " |      >>> x.ctypes.data_as(ctypes.POINTER(ctypes.c_uint64)).contents\n",
            " |      c_ulong(4294967296)\n",
            " |      >>> x.ctypes.shape\n",
            " |      <numpy.core._internal.c_long_Array_2 object at 0x7ff2fc1fce60> # may vary\n",
            " |      >>> x.ctypes.strides\n",
            " |      <numpy.core._internal.c_long_Array_2 object at 0x7ff2fc1ff320> # may vary\n",
            " |  \n",
            " |  data\n",
            " |      Python buffer object pointing to the start of the array's data.\n",
            " |  \n",
            " |  dtype\n",
            " |      Data-type of the array's elements.\n",
            " |      \n",
            " |      Parameters\n",
            " |      ----------\n",
            " |      None\n",
            " |      \n",
            " |      Returns\n",
            " |      -------\n",
            " |      d : numpy dtype object\n",
            " |      \n",
            " |      See Also\n",
            " |      --------\n",
            " |      numpy.dtype\n",
            " |      \n",
            " |      Examples\n",
            " |      --------\n",
            " |      >>> x\n",
            " |      array([[0, 1],\n",
            " |             [2, 3]])\n",
            " |      >>> x.dtype\n",
            " |      dtype('int32')\n",
            " |      >>> type(x.dtype)\n",
            " |      <type 'numpy.dtype'>\n",
            " |  \n",
            " |  flags\n",
            " |      Information about the memory layout of the array.\n",
            " |      \n",
            " |      Attributes\n",
            " |      ----------\n",
            " |      C_CONTIGUOUS (C)\n",
            " |          The data is in a single, C-style contiguous segment.\n",
            " |      F_CONTIGUOUS (F)\n",
            " |          The data is in a single, Fortran-style contiguous segment.\n",
            " |      OWNDATA (O)\n",
            " |          The array owns the memory it uses or borrows it from another object.\n",
            " |      WRITEABLE (W)\n",
            " |          The data area can be written to.  Setting this to False locks\n",
            " |          the data, making it read-only.  A view (slice, etc.) inherits WRITEABLE\n",
            " |          from its base array at creation time, but a view of a writeable\n",
            " |          array may be subsequently locked while the base array remains writeable.\n",
            " |          (The opposite is not true, in that a view of a locked array may not\n",
            " |          be made writeable.  However, currently, locking a base object does not\n",
            " |          lock any views that already reference it, so under that circumstance it\n",
            " |          is possible to alter the contents of a locked array via a previously\n",
            " |          created writeable view onto it.)  Attempting to change a non-writeable\n",
            " |          array raises a RuntimeError exception.\n",
            " |      ALIGNED (A)\n",
            " |          The data and all elements are aligned appropriately for the hardware.\n",
            " |      WRITEBACKIFCOPY (X)\n",
            " |          This array is a copy of some other array. The C-API function\n",
            " |          PyArray_ResolveWritebackIfCopy must be called before deallocating\n",
            " |          to the base array will be updated with the contents of this array.\n",
            " |      UPDATEIFCOPY (U)\n",
            " |          (Deprecated, use WRITEBACKIFCOPY) This array is a copy of some other array.\n",
            " |          When this array is\n",
            " |          deallocated, the base array will be updated with the contents of\n",
            " |          this array.\n",
            " |      FNC\n",
            " |          F_CONTIGUOUS and not C_CONTIGUOUS.\n",
            " |      FORC\n",
            " |          F_CONTIGUOUS or C_CONTIGUOUS (one-segment test).\n",
            " |      BEHAVED (B)\n",
            " |          ALIGNED and WRITEABLE.\n",
            " |      CARRAY (CA)\n",
            " |          BEHAVED and C_CONTIGUOUS.\n",
            " |      FARRAY (FA)\n",
            " |          BEHAVED and F_CONTIGUOUS and not C_CONTIGUOUS.\n",
            " |      \n",
            " |      Notes\n",
            " |      -----\n",
            " |      The `flags` object can be accessed dictionary-like (as in ``a.flags['WRITEABLE']``),\n",
            " |      or by using lowercased attribute names (as in ``a.flags.writeable``). Short flag\n",
            " |      names are only supported in dictionary access.\n",
            " |      \n",
            " |      Only the WRITEBACKIFCOPY, UPDATEIFCOPY, WRITEABLE, and ALIGNED flags can be\n",
            " |      changed by the user, via direct assignment to the attribute or dictionary\n",
            " |      entry, or by calling `ndarray.setflags`.\n",
            " |      \n",
            " |      The array flags cannot be set arbitrarily:\n",
            " |      \n",
            " |      - UPDATEIFCOPY can only be set ``False``.\n",
            " |      - WRITEBACKIFCOPY can only be set ``False``.\n",
            " |      - ALIGNED can only be set ``True`` if the data is truly aligned.\n",
            " |      - WRITEABLE can only be set ``True`` if the array owns its own memory\n",
            " |        or the ultimate owner of the memory exposes a writeable buffer\n",
            " |        interface or is a string.\n",
            " |      \n",
            " |      Arrays can be both C-style and Fortran-style contiguous simultaneously.\n",
            " |      This is clear for 1-dimensional arrays, but can also be true for higher\n",
            " |      dimensional arrays.\n",
            " |      \n",
            " |      Even for contiguous arrays a stride for a given dimension\n",
            " |      ``arr.strides[dim]`` may be *arbitrary* if ``arr.shape[dim] == 1``\n",
            " |      or the array has no elements.\n",
            " |      It does *not* generally hold that ``self.strides[-1] == self.itemsize``\n",
            " |      for C-style contiguous arrays or ``self.strides[0] == self.itemsize`` for\n",
            " |      Fortran-style contiguous arrays is true.\n",
            " |  \n",
            " |  flat\n",
            " |      A 1-D iterator over the array.\n",
            " |      \n",
            " |      This is a `numpy.flatiter` instance, which acts similarly to, but is not\n",
            " |      a subclass of, Python's built-in iterator object.\n",
            " |      \n",
            " |      See Also\n",
            " |      --------\n",
            " |      flatten : Return a copy of the array collapsed into one dimension.\n",
            " |      \n",
            " |      flatiter\n",
            " |      \n",
            " |      Examples\n",
            " |      --------\n",
            " |      >>> x = np.arange(1, 7).reshape(2, 3)\n",
            " |      >>> x\n",
            " |      array([[1, 2, 3],\n",
            " |             [4, 5, 6]])\n",
            " |      >>> x.flat[3]\n",
            " |      4\n",
            " |      >>> x.T\n",
            " |      array([[1, 4],\n",
            " |             [2, 5],\n",
            " |             [3, 6]])\n",
            " |      >>> x.T.flat[3]\n",
            " |      5\n",
            " |      >>> type(x.flat)\n",
            " |      <class 'numpy.flatiter'>\n",
            " |      \n",
            " |      An assignment example:\n",
            " |      \n",
            " |      >>> x.flat = 3; x\n",
            " |      array([[3, 3, 3],\n",
            " |             [3, 3, 3]])\n",
            " |      >>> x.flat[[1,4]] = 1; x\n",
            " |      array([[3, 1, 3],\n",
            " |             [3, 1, 3]])\n",
            " |  \n",
            " |  imag\n",
            " |      The imaginary part of the array.\n",
            " |      \n",
            " |      Examples\n",
            " |      --------\n",
            " |      >>> x = np.sqrt([1+0j, 0+1j])\n",
            " |      >>> x.imag\n",
            " |      array([ 0.        ,  0.70710678])\n",
            " |      >>> x.imag.dtype\n",
            " |      dtype('float64')\n",
            " |  \n",
            " |  itemsize\n",
            " |      Length of one array element in bytes.\n",
            " |      \n",
            " |      Examples\n",
            " |      --------\n",
            " |      >>> x = np.array([1,2,3], dtype=np.float64)\n",
            " |      >>> x.itemsize\n",
            " |      8\n",
            " |      >>> x = np.array([1,2,3], dtype=np.complex128)\n",
            " |      >>> x.itemsize\n",
            " |      16\n",
            " |  \n",
            " |  nbytes\n",
            " |      Total bytes consumed by the elements of the array.\n",
            " |      \n",
            " |      Notes\n",
            " |      -----\n",
            " |      Does not include memory consumed by non-element attributes of the\n",
            " |      array object.\n",
            " |      \n",
            " |      Examples\n",
            " |      --------\n",
            " |      >>> x = np.zeros((3,5,2), dtype=np.complex128)\n",
            " |      >>> x.nbytes\n",
            " |      480\n",
            " |      >>> np.prod(x.shape) * x.itemsize\n",
            " |      480\n",
            " |  \n",
            " |  ndim\n",
            " |      Number of array dimensions.\n",
            " |      \n",
            " |      Examples\n",
            " |      --------\n",
            " |      >>> x = np.array([1, 2, 3])\n",
            " |      >>> x.ndim\n",
            " |      1\n",
            " |      >>> y = np.zeros((2, 3, 4))\n",
            " |      >>> y.ndim\n",
            " |      3\n",
            " |  \n",
            " |  real\n",
            " |      The real part of the array.\n",
            " |      \n",
            " |      Examples\n",
            " |      --------\n",
            " |      >>> x = np.sqrt([1+0j, 0+1j])\n",
            " |      >>> x.real\n",
            " |      array([ 1.        ,  0.70710678])\n",
            " |      >>> x.real.dtype\n",
            " |      dtype('float64')\n",
            " |      \n",
            " |      See Also\n",
            " |      --------\n",
            " |      numpy.real : equivalent function\n",
            " |  \n",
            " |  shape\n",
            " |      Tuple of array dimensions.\n",
            " |      \n",
            " |      The shape property is usually used to get the current shape of an array,\n",
            " |      but may also be used to reshape the array in-place by assigning a tuple of\n",
            " |      array dimensions to it.  As with `numpy.reshape`, one of the new shape\n",
            " |      dimensions can be -1, in which case its value is inferred from the size of\n",
            " |      the array and the remaining dimensions. Reshaping an array in-place will\n",
            " |      fail if a copy is required.\n",
            " |      \n",
            " |      Examples\n",
            " |      --------\n",
            " |      >>> x = np.array([1, 2, 3, 4])\n",
            " |      >>> x.shape\n",
            " |      (4,)\n",
            " |      >>> y = np.zeros((2, 3, 4))\n",
            " |      >>> y.shape\n",
            " |      (2, 3, 4)\n",
            " |      >>> y.shape = (3, 8)\n",
            " |      >>> y\n",
            " |      array([[ 0.,  0.,  0.,  0.,  0.,  0.,  0.,  0.],\n",
            " |             [ 0.,  0.,  0.,  0.,  0.,  0.,  0.,  0.],\n",
            " |             [ 0.,  0.,  0.,  0.,  0.,  0.,  0.,  0.]])\n",
            " |      >>> y.shape = (3, 6)\n",
            " |      Traceback (most recent call last):\n",
            " |        File \"<stdin>\", line 1, in <module>\n",
            " |      ValueError: total size of new array must be unchanged\n",
            " |      >>> np.zeros((4,2))[::2].shape = (-1,)\n",
            " |      Traceback (most recent call last):\n",
            " |        File \"<stdin>\", line 1, in <module>\n",
            " |      AttributeError: Incompatible shape for in-place modification. Use\n",
            " |      `.reshape()` to make a copy with the desired shape.\n",
            " |      \n",
            " |      See Also\n",
            " |      --------\n",
            " |      numpy.reshape : similar function\n",
            " |      ndarray.reshape : similar method\n",
            " |  \n",
            " |  size\n",
            " |      Number of elements in the array.\n",
            " |      \n",
            " |      Equal to ``np.prod(a.shape)``, i.e., the product of the array's\n",
            " |      dimensions.\n",
            " |      \n",
            " |      Notes\n",
            " |      -----\n",
            " |      `a.size` returns a standard arbitrary precision Python integer. This\n",
            " |      may not be the case with other methods of obtaining the same value\n",
            " |      (like the suggested ``np.prod(a.shape)``, which returns an instance\n",
            " |      of ``np.int_``), and may be relevant if the value is used further in\n",
            " |      calculations that may overflow a fixed size integer type.\n",
            " |      \n",
            " |      Examples\n",
            " |      --------\n",
            " |      >>> x = np.zeros((3, 5, 2), dtype=np.complex128)\n",
            " |      >>> x.size\n",
            " |      30\n",
            " |      >>> np.prod(x.shape)\n",
            " |      30\n",
            " |  \n",
            " |  strides\n",
            " |      Tuple of bytes to step in each dimension when traversing an array.\n",
            " |      \n",
            " |      The byte offset of element ``(i[0], i[1], ..., i[n])`` in an array `a`\n",
            " |      is::\n",
            " |      \n",
            " |          offset = sum(np.array(i) * a.strides)\n",
            " |      \n",
            " |      A more detailed explanation of strides can be found in the\n",
            " |      \"ndarray.rst\" file in the NumPy reference guide.\n",
            " |      \n",
            " |      Notes\n",
            " |      -----\n",
            " |      Imagine an array of 32-bit integers (each 4 bytes)::\n",
            " |      \n",
            " |        x = np.array([[0, 1, 2, 3, 4],\n",
            " |                      [5, 6, 7, 8, 9]], dtype=np.int32)\n",
            " |      \n",
            " |      This array is stored in memory as 40 bytes, one after the other\n",
            " |      (known as a contiguous block of memory).  The strides of an array tell\n",
            " |      us how many bytes we have to skip in memory to move to the next position\n",
            " |      along a certain axis.  For example, we have to skip 4 bytes (1 value) to\n",
            " |      move to the next column, but 20 bytes (5 values) to get to the same\n",
            " |      position in the next row.  As such, the strides for the array `x` will be\n",
            " |      ``(20, 4)``.\n",
            " |      \n",
            " |      See Also\n",
            " |      --------\n",
            " |      numpy.lib.stride_tricks.as_strided\n",
            " |      \n",
            " |      Examples\n",
            " |      --------\n",
            " |      >>> y = np.reshape(np.arange(2*3*4), (2,3,4))\n",
            " |      >>> y\n",
            " |      array([[[ 0,  1,  2,  3],\n",
            " |              [ 4,  5,  6,  7],\n",
            " |              [ 8,  9, 10, 11]],\n",
            " |             [[12, 13, 14, 15],\n",
            " |              [16, 17, 18, 19],\n",
            " |              [20, 21, 22, 23]]])\n",
            " |      >>> y.strides\n",
            " |      (48, 16, 4)\n",
            " |      >>> y[1,1,1]\n",
            " |      17\n",
            " |      >>> offset=sum(y.strides * np.array((1,1,1)))\n",
            " |      >>> offset/y.itemsize\n",
            " |      17\n",
            " |      \n",
            " |      >>> x = np.reshape(np.arange(5*6*7*8), (5,6,7,8)).transpose(2,3,1,0)\n",
            " |      >>> x.strides\n",
            " |      (32, 4, 224, 1344)\n",
            " |      >>> i = np.array([3,5,2,2])\n",
            " |      >>> offset = sum(i * x.strides)\n",
            " |      >>> x[3,5,2,2]\n",
            " |      813\n",
            " |      >>> offset / x.itemsize\n",
            " |      813\n",
            " |  \n",
            " |  ----------------------------------------------------------------------\n",
            " |  Data and other attributes defined here:\n",
            " |  \n",
            " |  __hash__ = None\n",
            "\n"
          ]
        }
      ]
    },
    {
      "cell_type": "code",
      "source": [
        "rolls + 10"
      ],
      "metadata": {
        "colab": {
          "base_uri": "https://localhost:8080/"
        },
        "id": "LpYlnKT-f8qM",
        "outputId": "eba3cef1-250f-42c9-e357-d0ec003df7bf"
      },
      "id": "LpYlnKT-f8qM",
      "execution_count": 211,
      "outputs": [
        {
          "output_type": "execute_result",
          "data": {
            "text/plain": [
              "array([14, 13, 14, 13, 13, 14, 11, 14, 12, 14])"
            ]
          },
          "metadata": {},
          "execution_count": 211
        }
      ]
    },
    {
      "cell_type": "code",
      "source": [
        "# At which indices are the dice less than or equal to 3?\n",
        "rolls <= 3"
      ],
      "metadata": {
        "colab": {
          "base_uri": "https://localhost:8080/"
        },
        "id": "G8lXYyIkgCgw",
        "outputId": "3d921a84-fd71-437a-b32d-7c49f98f3742"
      },
      "id": "G8lXYyIkgCgw",
      "execution_count": 212,
      "outputs": [
        {
          "output_type": "execute_result",
          "data": {
            "text/plain": [
              "array([False,  True, False,  True,  True, False,  True, False,  True,\n",
              "       False])"
            ]
          },
          "metadata": {},
          "execution_count": 212
        }
      ]
    },
    {
      "cell_type": "code",
      "source": [
        "xlist = [[1,2,3],[2,4,6],]\n",
        "# Create a 2-dimensional array\n",
        "x = numpy.asarray(xlist)\n",
        "print(\"xlist = {}\\nx =\\n{}\".format(xlist, x))"
      ],
      "metadata": {
        "colab": {
          "base_uri": "https://localhost:8080/"
        },
        "id": "Nih9sGMWgE8h",
        "outputId": "2557c222-346b-468a-f2aa-cb34ce27d23f"
      },
      "id": "Nih9sGMWgE8h",
      "execution_count": 213,
      "outputs": [
        {
          "output_type": "stream",
          "name": "stdout",
          "text": [
            "xlist = [[1, 2, 3], [2, 4, 6]]\n",
            "x =\n",
            "[[1 2 3]\n",
            " [2 4 6]]\n"
          ]
        }
      ]
    },
    {
      "cell_type": "code",
      "source": [
        "# Get the last element of the second row of our numpy array\n",
        "x[1,-1]"
      ],
      "metadata": {
        "colab": {
          "base_uri": "https://localhost:8080/"
        },
        "id": "wgxY0fv8gHrW",
        "outputId": "bdfcfb36-d00b-4c3c-8884-0e153e4139ca"
      },
      "id": "wgxY0fv8gHrW",
      "execution_count": 214,
      "outputs": [
        {
          "output_type": "execute_result",
          "data": {
            "text/plain": [
              "6"
            ]
          },
          "metadata": {},
          "execution_count": 214
        }
      ]
    },
    {
      "cell_type": "code",
      "source": [
        "import tensorflow as tf\n",
        "# Create two constants, each with value 1\n",
        "a = tf.constant(1)\n",
        "b = tf.constant(1)\n",
        "# Add them together to get...\n",
        "a + b"
      ],
      "metadata": {
        "colab": {
          "base_uri": "https://localhost:8080/"
        },
        "id": "WxHz8z5-gJtw",
        "outputId": "60ccdc30-6419-481b-b0b1-b69dcd8b4dcd"
      },
      "id": "WxHz8z5-gJtw",
      "execution_count": 215,
      "outputs": [
        {
          "output_type": "execute_result",
          "data": {
            "text/plain": [
              "<tf.Tensor: shape=(), dtype=int32, numpy=2>"
            ]
          },
          "metadata": {},
          "execution_count": 215
        }
      ]
    },
    {
      "cell_type": "code",
      "source": [
        "print(dir(list))"
      ],
      "metadata": {
        "colab": {
          "base_uri": "https://localhost:8080/"
        },
        "id": "kZcULHE-gQGA",
        "outputId": "6a545ff0-b8c5-41a6-f4cd-750059ff8e18"
      },
      "id": "kZcULHE-gQGA",
      "execution_count": 216,
      "outputs": [
        {
          "output_type": "stream",
          "name": "stdout",
          "text": [
            "['__add__', '__class__', '__contains__', '__delattr__', '__delitem__', '__dir__', '__doc__', '__eq__', '__format__', '__ge__', '__getattribute__', '__getitem__', '__gt__', '__hash__', '__iadd__', '__imul__', '__init__', '__init_subclass__', '__iter__', '__le__', '__len__', '__lt__', '__mul__', '__ne__', '__new__', '__reduce__', '__reduce_ex__', '__repr__', '__reversed__', '__rmul__', '__setattr__', '__setitem__', '__sizeof__', '__str__', '__subclasshook__', 'append', 'clear', 'copy', 'count', 'extend', 'index', 'insert', 'pop', 'remove', 'reverse', 'sort']\n"
          ]
        }
      ]
    },
    {
      "cell_type": "code",
      "source": [],
      "metadata": {
        "id": "1pT_TVACgUTT"
      },
      "id": "1pT_TVACgUTT",
      "execution_count": 216,
      "outputs": []
    }
  ],
  "metadata": {
    "kernelspec": {
      "display_name": "Python 3",
      "language": "python",
      "name": "python3"
    },
    "language_info": {
      "codemirror_mode": {
        "name": "ipython",
        "version": 3
      },
      "file_extension": ".py",
      "mimetype": "text/x-python",
      "name": "python",
      "nbconvert_exporter": "python",
      "pygments_lexer": "ipython3",
      "version": "3.7.12"
    },
    "papermill": {
      "default_parameters": {},
      "duration": 11.934503,
      "end_time": "2022-06-06T19:02:50.868611",
      "environment_variables": {},
      "exception": null,
      "input_path": "__notebook__.ipynb",
      "output_path": "__notebook__.ipynb",
      "parameters": {},
      "start_time": "2022-06-06T19:02:38.934108",
      "version": "2.3.3"
    },
    "colab": {
      "provenance": []
    }
  },
  "nbformat": 4,
  "nbformat_minor": 5
}